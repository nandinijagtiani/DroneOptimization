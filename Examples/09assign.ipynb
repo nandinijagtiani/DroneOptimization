{
 "cells": [
  {
   "cell_type": "markdown",
   "metadata": {
    "slideshow": {
     "slide_type": "slide"
    }
   },
   "source": [
    "CS524: Introduction to Optimization Lecture 9\n",
    "======================================\n",
    "\n",
    "## Michael Ferris<br> Computer Sciences Department <br> University of Wisconsin-Madison\n",
    "\n",
    "## September 23, 2024\n",
    "--------------"
   ]
  },
  {
   "cell_type": "markdown",
   "metadata": {},
   "source": [
    "# Assigning students to projects to maximize overall satisfaction\n",
    "\n",
    "- A teacher wishes to assign 5 projects to 5 different students. \n",
    "- Each student has indicated their preference for each project by assigning it a score between 0 and 10 \n",
    "- (0 indicating strong dislike and 10 indicating strong preference)\n",
    "- The teacher wishes to make the assignment of projects to students in a way that maximizes their overall satisfaction, as measured by the sum of the preferences for the given assignments."
   ]
  },
  {
   "cell_type": "code",
   "execution_count": 1,
   "metadata": {
    "slideshow": {
     "slide_type": "slide"
    }
   },
   "outputs": [],
   "source": [
    "import sys\n",
    "import numpy as np\n",
    "\n",
    "from gamspy import (\n",
    "    Container,Set,Alias,Parameter,Variable,Equation,Model,Problem,Sense,Options,\n",
    "    Domain,Number,Sum,Product,Smax,Smin,Ord,Card,SpecialValues,\n",
    ")\n",
    "\n",
    "m = Container()"
   ]
  },
  {
   "cell_type": "code",
   "execution_count": 2,
   "metadata": {
    "slideshow": {
     "slide_type": "slide"
    }
   },
   "outputs": [
    {
     "data": {
      "text/html": [
       "<div>\n",
       "<style scoped>\n",
       "    .dataframe tbody tr th:only-of-type {\n",
       "        vertical-align: middle;\n",
       "    }\n",
       "\n",
       "    .dataframe tbody tr th {\n",
       "        vertical-align: top;\n",
       "    }\n",
       "\n",
       "    .dataframe thead th {\n",
       "        text-align: right;\n",
       "    }\n",
       "</style>\n",
       "<table border=\"1\" class=\"dataframe\">\n",
       "  <thead>\n",
       "    <tr style=\"text-align: right;\">\n",
       "      <th></th>\n",
       "      <th>proj1</th>\n",
       "      <th>proj2</th>\n",
       "      <th>proj3</th>\n",
       "      <th>proj4</th>\n",
       "      <th>proj5</th>\n",
       "    </tr>\n",
       "  </thead>\n",
       "  <tbody>\n",
       "    <tr>\n",
       "      <th>student1</th>\n",
       "      <td>7.0</td>\n",
       "      <td>6.0</td>\n",
       "      <td>5.0</td>\n",
       "      <td>8.0</td>\n",
       "      <td>9.0</td>\n",
       "    </tr>\n",
       "    <tr>\n",
       "      <th>student2</th>\n",
       "      <td>0.0</td>\n",
       "      <td>3.0</td>\n",
       "      <td>0.0</td>\n",
       "      <td>8.0</td>\n",
       "      <td>5.0</td>\n",
       "    </tr>\n",
       "    <tr>\n",
       "      <th>student3</th>\n",
       "      <td>0.0</td>\n",
       "      <td>0.0</td>\n",
       "      <td>0.0</td>\n",
       "      <td>4.0</td>\n",
       "      <td>3.0</td>\n",
       "    </tr>\n",
       "    <tr>\n",
       "      <th>student4</th>\n",
       "      <td>0.0</td>\n",
       "      <td>9.0</td>\n",
       "      <td>3.0</td>\n",
       "      <td>0.0</td>\n",
       "      <td>9.0</td>\n",
       "    </tr>\n",
       "    <tr>\n",
       "      <th>student5</th>\n",
       "      <td>0.0</td>\n",
       "      <td>6.0</td>\n",
       "      <td>7.0</td>\n",
       "      <td>6.0</td>\n",
       "      <td>0.0</td>\n",
       "    </tr>\n",
       "  </tbody>\n",
       "</table>\n",
       "</div>"
      ],
      "text/plain": [
       "          proj1  proj2  proj3  proj4  proj5\n",
       "student1    7.0    6.0    5.0    8.0    9.0\n",
       "student2    0.0    3.0    0.0    8.0    5.0\n",
       "student3    0.0    0.0    0.0    4.0    3.0\n",
       "student4    0.0    9.0    3.0    0.0    9.0\n",
       "student5    0.0    6.0    7.0    6.0    0.0"
      ]
     },
     "metadata": {},
     "output_type": "display_data"
    },
    {
     "data": {
      "text/html": [
       "<div>\n",
       "<style scoped>\n",
       "    .dataframe tbody tr th:only-of-type {\n",
       "        vertical-align: middle;\n",
       "    }\n",
       "\n",
       "    .dataframe tbody tr th {\n",
       "        vertical-align: top;\n",
       "    }\n",
       "\n",
       "    .dataframe thead th {\n",
       "        text-align: right;\n",
       "    }\n",
       "</style>\n",
       "<table border=\"1\" class=\"dataframe\">\n",
       "  <thead>\n",
       "    <tr style=\"text-align: right;\">\n",
       "      <th></th>\n",
       "      <th>Solver Status</th>\n",
       "      <th>Model Status</th>\n",
       "      <th>Objective</th>\n",
       "      <th>Num of Equations</th>\n",
       "      <th>Num of Variables</th>\n",
       "      <th>Model Type</th>\n",
       "      <th>Solver</th>\n",
       "      <th>Solver Time</th>\n",
       "    </tr>\n",
       "  </thead>\n",
       "  <tbody>\n",
       "    <tr>\n",
       "      <th>0</th>\n",
       "      <td>Normal</td>\n",
       "      <td>OptimalGlobal</td>\n",
       "      <td>34</td>\n",
       "      <td>11</td>\n",
       "      <td>26</td>\n",
       "      <td>MIP</td>\n",
       "      <td>CPLEX</td>\n",
       "      <td>0.042</td>\n",
       "    </tr>\n",
       "  </tbody>\n",
       "</table>\n",
       "</div>"
      ],
      "text/plain": [
       "  Solver Status   Model Status Objective Num of Equations Num of Variables  \\\n",
       "0        Normal  OptimalGlobal        34               11               26   \n",
       "\n",
       "  Model Type Solver Solver Time  \n",
       "0        MIP  CPLEX       0.042  "
      ]
     },
     "execution_count": 2,
     "metadata": {},
     "output_type": "execute_result"
    }
   ],
   "source": [
    "# SETS #\n",
    "projects = Set(m,'projects',records=[f\"proj{i}\" for i in range(1,6)])\n",
    "students = Set(m,'students',records=[f\"student{i}\" for i in range(1,6)])\n",
    "preferences = Parameter(m,'preferences',[students,projects],records=np.array(\n",
    "    [   [ 7,6,5,8,9],\n",
    "        [ 0,3,0,8,5],\n",
    "        [ 0,0,0,4,3],\n",
    "        [ 0,9,3,0,9],\n",
    "        [ 0,6,7,6,0]] ))\n",
    "\n",
    "display(preferences.pivot())\n",
    "# VARIABLES #\n",
    "# want x to be 1 if that student is assigned to that project; 0 otherwise\n",
    "# (actually in this simple assignment problem, dont need the variables to be binary)\n",
    "\n",
    "x = Variable(m,\"x\",\"binary\",domain=[students,projects])\n",
    "\n",
    "# EQUATIONS #\n",
    "\n",
    "EQassignProjects = Equation(m,'EQassignProjects',domain=[projects],description=\"ensure that each project is assigned to one of the student\")  \n",
    "EQassignProjects[projects]= Sum(students, x[students,projects]) == 1 \n",
    "\n",
    "EQassignStudents = Equation(m,'EQassignStudents',domain=[students],description=\"ensure that each students is assigned exactly one project\")  \n",
    "EQassignStudents[students]=  Sum(projects, x[students,projects]) == 1\n",
    "\n",
    "happyclass = Model(m,\n",
    "    name=\"happyclass\",\n",
    "    equations=m.getEquations(),\n",
    "    problem=Problem.MIP,\n",
    "    sense=Sense.MAX,\n",
    "    objective= Sum([students,projects],\n",
    "        preferences[students,projects] * x[students,projects]),\n",
    ")\n",
    "\n",
    "happyclass.solve()"
   ]
  },
  {
   "cell_type": "code",
   "execution_count": 3,
   "metadata": {},
   "outputs": [
    {
     "name": "stdout",
     "output_type": "stream",
     "text": [
      "Objective Function Value:   34.0 \n",
      "\n"
     ]
    },
    {
     "data": {
      "text/plain": [
       "'x:  '"
      ]
     },
     "metadata": {},
     "output_type": "display_data"
    },
    {
     "data": {
      "text/html": [
       "<div>\n",
       "<style scoped>\n",
       "    .dataframe tbody tr th:only-of-type {\n",
       "        vertical-align: middle;\n",
       "    }\n",
       "\n",
       "    .dataframe tbody tr th {\n",
       "        vertical-align: top;\n",
       "    }\n",
       "\n",
       "    .dataframe thead th {\n",
       "        text-align: right;\n",
       "    }\n",
       "</style>\n",
       "<table border=\"1\" class=\"dataframe\">\n",
       "  <thead>\n",
       "    <tr style=\"text-align: right;\">\n",
       "      <th></th>\n",
       "      <th>students</th>\n",
       "      <th>projects</th>\n",
       "    </tr>\n",
       "  </thead>\n",
       "  <tbody>\n",
       "    <tr>\n",
       "      <th>0</th>\n",
       "      <td>student1</td>\n",
       "      <td>proj1</td>\n",
       "    </tr>\n",
       "    <tr>\n",
       "      <th>8</th>\n",
       "      <td>student2</td>\n",
       "      <td>proj4</td>\n",
       "    </tr>\n",
       "    <tr>\n",
       "      <th>14</th>\n",
       "      <td>student3</td>\n",
       "      <td>proj5</td>\n",
       "    </tr>\n",
       "    <tr>\n",
       "      <th>16</th>\n",
       "      <td>student4</td>\n",
       "      <td>proj2</td>\n",
       "    </tr>\n",
       "    <tr>\n",
       "      <th>22</th>\n",
       "      <td>student5</td>\n",
       "      <td>proj3</td>\n",
       "    </tr>\n",
       "  </tbody>\n",
       "</table>\n",
       "</div>"
      ],
      "text/plain": [
       "    students projects\n",
       "0   student1    proj1\n",
       "8   student2    proj4\n",
       "14  student3    proj5\n",
       "16  student4    proj2\n",
       "22  student5    proj3"
      ]
     },
     "metadata": {},
     "output_type": "display_data"
    }
   ],
   "source": [
    "print(\"Objective Function Value:  \", round(happyclass.objective_value, 4), \"\\n\")\n",
    "matchings =  x.records[[\"students\",\"projects\"]][x.records[\"level\"] > 0.0]\n",
    "display(\"x:  \", matchings)"
   ]
  },
  {
   "cell_type": "markdown",
   "metadata": {},
   "source": [
    "# Can switch to relaxed mip (replace binary variables with [0,1] variables and solve LP with TU matrix"
   ]
  },
  {
   "cell_type": "code",
   "execution_count": 4,
   "metadata": {
    "slideshow": {
     "slide_type": "slide"
    }
   },
   "outputs": [
    {
     "data": {
      "text/html": [
       "<div>\n",
       "<style scoped>\n",
       "    .dataframe tbody tr th:only-of-type {\n",
       "        vertical-align: middle;\n",
       "    }\n",
       "\n",
       "    .dataframe tbody tr th {\n",
       "        vertical-align: top;\n",
       "    }\n",
       "\n",
       "    .dataframe thead th {\n",
       "        text-align: right;\n",
       "    }\n",
       "</style>\n",
       "<table border=\"1\" class=\"dataframe\">\n",
       "  <thead>\n",
       "    <tr style=\"text-align: right;\">\n",
       "      <th></th>\n",
       "      <th>Solver Status</th>\n",
       "      <th>Model Status</th>\n",
       "      <th>Objective</th>\n",
       "      <th>Num of Equations</th>\n",
       "      <th>Num of Variables</th>\n",
       "      <th>Model Type</th>\n",
       "      <th>Solver</th>\n",
       "      <th>Solver Time</th>\n",
       "    </tr>\n",
       "  </thead>\n",
       "  <tbody>\n",
       "    <tr>\n",
       "      <th>0</th>\n",
       "      <td>Normal</td>\n",
       "      <td>OptimalGlobal</td>\n",
       "      <td>34</td>\n",
       "      <td>11</td>\n",
       "      <td>26</td>\n",
       "      <td>RMIP</td>\n",
       "      <td>CPLEX</td>\n",
       "      <td>0.011</td>\n",
       "    </tr>\n",
       "  </tbody>\n",
       "</table>\n",
       "</div>"
      ],
      "text/plain": [
       "  Solver Status   Model Status Objective Num of Equations Num of Variables  \\\n",
       "0        Normal  OptimalGlobal        34               11               26   \n",
       "\n",
       "  Model Type Solver Solver Time  \n",
       "0       RMIP  CPLEX       0.011  "
      ]
     },
     "execution_count": 4,
     "metadata": {},
     "output_type": "execute_result"
    }
   ],
   "source": [
    "happyclass = Model(m,\n",
    "    name=\"happyclass\",\n",
    "    equations=m.getEquations(),\n",
    "    problem=Problem.RMIP,\n",
    "    sense=Sense.MAX,\n",
    "    objective= Sum([students,projects],\n",
    "        preferences[students,projects] * x[students,projects]),\n",
    ")\n",
    "   \n",
    "happyclass.solve(solver='cplex',\n",
    "    solver_options={'lpmethod': 3, 'netfind': 2, 'preind': 0})"
   ]
  },
  {
   "cell_type": "code",
   "execution_count": 5,
   "metadata": {
    "slideshow": {
     "slide_type": "slide"
    }
   },
   "outputs": [
    {
     "name": "stdout",
     "output_type": "stream",
     "text": [
      "Objective Function Value:   34.0 \n",
      "\n"
     ]
    },
    {
     "data": {
      "text/plain": [
       "'x:  '"
      ]
     },
     "metadata": {},
     "output_type": "display_data"
    },
    {
     "data": {
      "text/html": [
       "<div>\n",
       "<style scoped>\n",
       "    .dataframe tbody tr th:only-of-type {\n",
       "        vertical-align: middle;\n",
       "    }\n",
       "\n",
       "    .dataframe tbody tr th {\n",
       "        vertical-align: top;\n",
       "    }\n",
       "\n",
       "    .dataframe thead th {\n",
       "        text-align: right;\n",
       "    }\n",
       "</style>\n",
       "<table border=\"1\" class=\"dataframe\">\n",
       "  <thead>\n",
       "    <tr style=\"text-align: right;\">\n",
       "      <th></th>\n",
       "      <th>students</th>\n",
       "      <th>projects</th>\n",
       "      <th>level</th>\n",
       "    </tr>\n",
       "  </thead>\n",
       "  <tbody>\n",
       "    <tr>\n",
       "      <th>0</th>\n",
       "      <td>student1</td>\n",
       "      <td>proj1</td>\n",
       "      <td>1.0</td>\n",
       "    </tr>\n",
       "    <tr>\n",
       "      <th>8</th>\n",
       "      <td>student2</td>\n",
       "      <td>proj4</td>\n",
       "      <td>1.0</td>\n",
       "    </tr>\n",
       "    <tr>\n",
       "      <th>14</th>\n",
       "      <td>student3</td>\n",
       "      <td>proj5</td>\n",
       "      <td>1.0</td>\n",
       "    </tr>\n",
       "    <tr>\n",
       "      <th>16</th>\n",
       "      <td>student4</td>\n",
       "      <td>proj2</td>\n",
       "      <td>1.0</td>\n",
       "    </tr>\n",
       "    <tr>\n",
       "      <th>22</th>\n",
       "      <td>student5</td>\n",
       "      <td>proj3</td>\n",
       "      <td>1.0</td>\n",
       "    </tr>\n",
       "  </tbody>\n",
       "</table>\n",
       "</div>"
      ],
      "text/plain": [
       "    students projects  level\n",
       "0   student1    proj1    1.0\n",
       "8   student2    proj4    1.0\n",
       "14  student3    proj5    1.0\n",
       "16  student4    proj2    1.0\n",
       "22  student5    proj3    1.0"
      ]
     },
     "metadata": {},
     "output_type": "display_data"
    }
   ],
   "source": [
    "print(\"Objective Function Value:  \", round(happyclass.objective_value, 4), \"\\n\")\n",
    "matchings =  x.records[[\"students\",\"projects\",\"level\"]][x.records[\"level\"] > 0.0]\n",
    "display(\"x:  \", matchings)"
   ]
  },
  {
   "cell_type": "markdown",
   "metadata": {},
   "source": [
    "## Can we also maximize the minimium assigned preference?"
   ]
  },
  {
   "cell_type": "code",
   "execution_count": 6,
   "metadata": {
    "slideshow": {
     "slide_type": "slide"
    }
   },
   "outputs": [],
   "source": [
    "prefgot = Parameter(m,'prefgot',domain=['*',students])\n",
    "prefgot['happyclass',students] = Sum(projects, x.l[students,projects] * preferences[students,projects])\n",
    "\n",
    "minpref = Parameter(m,'minpref', domain=[students])\n",
    "minpref[students] = Smin(projects, preferences[students, projects]+SpecialValues.EPS) "
   ]
  },
  {
   "cell_type": "code",
   "execution_count": 7,
   "metadata": {
    "slideshow": {
     "slide_type": "slide"
    }
   },
   "outputs": [],
   "source": [
    "z = Variable(m,\"z\",\"free\")\n",
    "zdef = Equation(m,\"zdef\",domain=[students])\n",
    "zdef[students]= z <= Sum(projects, preferences[students,projects] * x[students,projects])\n",
    "\n",
    "minmax = Model(m,\n",
    "    name=\"minmax\",\n",
    "    equations=[EQassignProjects, EQassignStudents, zdef],\n",
    "    problem=Problem.RMIP,\n",
    "    sense=Sense.MAX,\n",
    "    objective=z,\n",
    ")\n",
    "\n",
    "minmax.solve(solver='cplex',solver_options={'lpmethod': 3, 'netfind': 2, 'preind': 0},output=None)\n",
    "\n",
    "prefgot['minmax(rmip)',students] = Sum(projects, x.l[students,projects] * preferences[students,projects])\n",
    "\n",
    "minmax = Model(m,\n",
    "    name=\"minmax\",\n",
    "    equations=[EQassignProjects, EQassignStudents, zdef],\n",
    "    problem=Problem.MIP,\n",
    "    sense=Sense.MAX,\n",
    "    objective=z,\n",
    ")\n",
    "\n",
    "minmax.solve(solver='cplex',solver_options={'lpmethod': 3, 'netfind': 2, 'preind': 0})\n",
    "\n",
    "prefgot['minmax(mip)',students] = Sum(projects, x.l[students,projects] * preferences[students,projects])"
   ]
  },
  {
   "cell_type": "code",
   "execution_count": 8,
   "metadata": {},
   "outputs": [
    {
     "data": {
      "text/plain": [
       "'Min preference:'"
      ]
     },
     "metadata": {},
     "output_type": "display_data"
    },
    {
     "data": {
      "text/html": [
       "<div>\n",
       "<style scoped>\n",
       "    .dataframe tbody tr th:only-of-type {\n",
       "        vertical-align: middle;\n",
       "    }\n",
       "\n",
       "    .dataframe tbody tr th {\n",
       "        vertical-align: top;\n",
       "    }\n",
       "\n",
       "    .dataframe thead th {\n",
       "        text-align: right;\n",
       "    }\n",
       "</style>\n",
       "<table border=\"1\" class=\"dataframe\">\n",
       "  <thead>\n",
       "    <tr style=\"text-align: right;\">\n",
       "      <th></th>\n",
       "      <th>students</th>\n",
       "      <th>value</th>\n",
       "    </tr>\n",
       "  </thead>\n",
       "  <tbody>\n",
       "    <tr>\n",
       "      <th>0</th>\n",
       "      <td>student1</td>\n",
       "      <td>5.0</td>\n",
       "    </tr>\n",
       "    <tr>\n",
       "      <th>1</th>\n",
       "      <td>student2</td>\n",
       "      <td>-0.0</td>\n",
       "    </tr>\n",
       "    <tr>\n",
       "      <th>2</th>\n",
       "      <td>student3</td>\n",
       "      <td>-0.0</td>\n",
       "    </tr>\n",
       "    <tr>\n",
       "      <th>3</th>\n",
       "      <td>student4</td>\n",
       "      <td>-0.0</td>\n",
       "    </tr>\n",
       "    <tr>\n",
       "      <th>4</th>\n",
       "      <td>student5</td>\n",
       "      <td>-0.0</td>\n",
       "    </tr>\n",
       "  </tbody>\n",
       "</table>\n",
       "</div>"
      ],
      "text/plain": [
       "   students  value\n",
       "0  student1    5.0\n",
       "1  student2   -0.0\n",
       "2  student3   -0.0\n",
       "3  student4   -0.0\n",
       "4  student5   -0.0"
      ]
     },
     "metadata": {},
     "output_type": "display_data"
    },
    {
     "data": {
      "text/plain": [
       "'Preference got:'"
      ]
     },
     "metadata": {},
     "output_type": "display_data"
    },
    {
     "data": {
      "text/html": [
       "<div>\n",
       "<style scoped>\n",
       "    .dataframe tbody tr th:only-of-type {\n",
       "        vertical-align: middle;\n",
       "    }\n",
       "\n",
       "    .dataframe tbody tr th {\n",
       "        vertical-align: top;\n",
       "    }\n",
       "\n",
       "    .dataframe thead th {\n",
       "        text-align: right;\n",
       "    }\n",
       "</style>\n",
       "<table border=\"1\" class=\"dataframe\">\n",
       "  <thead>\n",
       "    <tr style=\"text-align: right;\">\n",
       "      <th></th>\n",
       "      <th>uni</th>\n",
       "      <th>students</th>\n",
       "      <th>value</th>\n",
       "    </tr>\n",
       "  </thead>\n",
       "  <tbody>\n",
       "    <tr>\n",
       "      <th>0</th>\n",
       "      <td>happyclass</td>\n",
       "      <td>student1</td>\n",
       "      <td>7.0</td>\n",
       "    </tr>\n",
       "    <tr>\n",
       "      <th>1</th>\n",
       "      <td>happyclass</td>\n",
       "      <td>student2</td>\n",
       "      <td>8.0</td>\n",
       "    </tr>\n",
       "    <tr>\n",
       "      <th>2</th>\n",
       "      <td>happyclass</td>\n",
       "      <td>student3</td>\n",
       "      <td>3.0</td>\n",
       "    </tr>\n",
       "    <tr>\n",
       "      <th>3</th>\n",
       "      <td>happyclass</td>\n",
       "      <td>student4</td>\n",
       "      <td>9.0</td>\n",
       "    </tr>\n",
       "    <tr>\n",
       "      <th>4</th>\n",
       "      <td>happyclass</td>\n",
       "      <td>student5</td>\n",
       "      <td>7.0</td>\n",
       "    </tr>\n",
       "    <tr>\n",
       "      <th>5</th>\n",
       "      <td>minmax(rmip)</td>\n",
       "      <td>student1</td>\n",
       "      <td>7.0</td>\n",
       "    </tr>\n",
       "    <tr>\n",
       "      <th>6</th>\n",
       "      <td>minmax(rmip)</td>\n",
       "      <td>student2</td>\n",
       "      <td>5.0</td>\n",
       "    </tr>\n",
       "    <tr>\n",
       "      <th>7</th>\n",
       "      <td>minmax(rmip)</td>\n",
       "      <td>student3</td>\n",
       "      <td>4.0</td>\n",
       "    </tr>\n",
       "    <tr>\n",
       "      <th>8</th>\n",
       "      <td>minmax(rmip)</td>\n",
       "      <td>student4</td>\n",
       "      <td>9.0</td>\n",
       "    </tr>\n",
       "    <tr>\n",
       "      <th>9</th>\n",
       "      <td>minmax(rmip)</td>\n",
       "      <td>student5</td>\n",
       "      <td>7.0</td>\n",
       "    </tr>\n",
       "    <tr>\n",
       "      <th>10</th>\n",
       "      <td>minmax(mip)</td>\n",
       "      <td>student1</td>\n",
       "      <td>7.0</td>\n",
       "    </tr>\n",
       "    <tr>\n",
       "      <th>11</th>\n",
       "      <td>minmax(mip)</td>\n",
       "      <td>student2</td>\n",
       "      <td>5.0</td>\n",
       "    </tr>\n",
       "    <tr>\n",
       "      <th>12</th>\n",
       "      <td>minmax(mip)</td>\n",
       "      <td>student3</td>\n",
       "      <td>4.0</td>\n",
       "    </tr>\n",
       "    <tr>\n",
       "      <th>13</th>\n",
       "      <td>minmax(mip)</td>\n",
       "      <td>student4</td>\n",
       "      <td>9.0</td>\n",
       "    </tr>\n",
       "    <tr>\n",
       "      <th>14</th>\n",
       "      <td>minmax(mip)</td>\n",
       "      <td>student5</td>\n",
       "      <td>7.0</td>\n",
       "    </tr>\n",
       "  </tbody>\n",
       "</table>\n",
       "</div>"
      ],
      "text/plain": [
       "             uni  students  value\n",
       "0     happyclass  student1    7.0\n",
       "1     happyclass  student2    8.0\n",
       "2     happyclass  student3    3.0\n",
       "3     happyclass  student4    9.0\n",
       "4     happyclass  student5    7.0\n",
       "5   minmax(rmip)  student1    7.0\n",
       "6   minmax(rmip)  student2    5.0\n",
       "7   minmax(rmip)  student3    4.0\n",
       "8   minmax(rmip)  student4    9.0\n",
       "9   minmax(rmip)  student5    7.0\n",
       "10   minmax(mip)  student1    7.0\n",
       "11   minmax(mip)  student2    5.0\n",
       "12   minmax(mip)  student3    4.0\n",
       "13   minmax(mip)  student4    9.0\n",
       "14   minmax(mip)  student5    7.0"
      ]
     },
     "metadata": {},
     "output_type": "display_data"
    }
   ],
   "source": [
    "display(\"Min preference:\",minpref.records, \"Preference got:\",prefgot.records)"
   ]
  },
  {
   "cell_type": "markdown",
   "metadata": {},
   "source": [
    "# Now do this as a MCNF"
   ]
  },
  {
   "cell_type": "code",
   "execution_count": 12,
   "metadata": {},
   "outputs": [
    {
     "ename": "Exception",
     "evalue": "Pivoting operations only possible on symbols with dimension > 1, symbol dimension is 1",
     "output_type": "error",
     "traceback": [
      "\u001b[0;31m---------------------------------------------------------------------------\u001b[0m",
      "\u001b[0;31mException\u001b[0m                                 Traceback (most recent call last)",
      "Cell \u001b[0;32mIn[12], line 16\u001b[0m\n\u001b[1;32m     14\u001b[0m b[projects] \u001b[38;5;241m=\u001b[39m \u001b[38;5;241m-\u001b[39m\u001b[38;5;241m1\u001b[39m\n\u001b[1;32m     15\u001b[0m b[students] \u001b[38;5;241m=\u001b[39m \u001b[38;5;241m1\u001b[39m\n\u001b[0;32m---> 16\u001b[0m \u001b[38;5;28mprint\u001b[39m(\u001b[43mb\u001b[49m\u001b[38;5;241;43m.\u001b[39;49m\u001b[43mpivot\u001b[49m\u001b[43m(\u001b[49m\u001b[43m)\u001b[49m)\n\u001b[1;32m     18\u001b[0m c \u001b[38;5;241m=\u001b[39m Parameter(m,\u001b[38;5;124m'\u001b[39m\u001b[38;5;124mc\u001b[39m\u001b[38;5;124m'\u001b[39m,domain\u001b[38;5;241m=\u001b[39m[\u001b[38;5;124m'\u001b[39m\u001b[38;5;124m*\u001b[39m\u001b[38;5;124m'\u001b[39m,\u001b[38;5;124m'\u001b[39m\u001b[38;5;124m*\u001b[39m\u001b[38;5;124m'\u001b[39m])\n\u001b[1;32m     19\u001b[0m c[students,projects] \u001b[38;5;241m=\u001b[39m preferences[students,projects]\n",
      "File \u001b[0;32m~/CS524/venv/lib/python3.10/site-packages/gams/transfer/syms/_mixins/pivot.py:160\u001b[0m, in \u001b[0;36mPivotParameterMixin.pivot\u001b[0;34m(self, index, columns, fill_value)\u001b[0m\n\u001b[1;32m    142\u001b[0m \u001b[38;5;250m\u001b[39m\u001b[38;5;124;03m\"\"\"\u001b[39;00m\n\u001b[1;32m    143\u001b[0m \u001b[38;5;124;03mConvenience function to pivot records into a new shape (only symbols with >1D can be pivoted)\u001b[39;00m\n\u001b[1;32m    144\u001b[0m \n\u001b[0;32m   (...)\u001b[0m\n\u001b[1;32m    157\u001b[0m \u001b[38;5;124;03m    Pivoted records dataframe\u001b[39;00m\n\u001b[1;32m    158\u001b[0m \u001b[38;5;124;03m\"\"\"\u001b[39;00m\n\u001b[1;32m    159\u001b[0m \u001b[38;5;66;03m# check & set\u001b[39;00m\n\u001b[0;32m--> 160\u001b[0m index, columns \u001b[38;5;241m=\u001b[39m \u001b[38;5;28;43msuper\u001b[39;49m\u001b[43m(\u001b[49m\u001b[43m)\u001b[49m\u001b[38;5;241;43m.\u001b[39;49m\u001b[43mpivot\u001b[49m\u001b[43m(\u001b[49m\u001b[43mindex\u001b[49m\u001b[43m,\u001b[49m\u001b[43m \u001b[49m\u001b[43mcolumns\u001b[49m\u001b[43m)\u001b[49m\n\u001b[1;32m    161\u001b[0m value \u001b[38;5;241m=\u001b[39m \u001b[38;5;124m\"\u001b[39m\u001b[38;5;124mvalue\u001b[39m\u001b[38;5;124m\"\u001b[39m\n\u001b[1;32m    163\u001b[0m \u001b[38;5;66;03m#\u001b[39;00m\n\u001b[1;32m    164\u001b[0m \u001b[38;5;66;03m# ARG: fill_value\u001b[39;00m\n\u001b[1;32m    165\u001b[0m \u001b[38;5;66;03m# set defaults\u001b[39;00m\n",
      "File \u001b[0;32m~/CS524/venv/lib/python3.10/site-packages/gams/transfer/syms/_mixins/pivot.py:38\u001b[0m, in \u001b[0;36mPivotBase.pivot\u001b[0;34m(self, *args)\u001b[0m\n\u001b[1;32m     35\u001b[0m \u001b[38;5;66;03m#\u001b[39;00m\n\u001b[1;32m     36\u001b[0m \u001b[38;5;66;03m# ARG: self\u001b[39;00m\n\u001b[1;32m     37\u001b[0m \u001b[38;5;28;01mif\u001b[39;00m \u001b[38;5;28mself\u001b[39m\u001b[38;5;241m.\u001b[39mdimension \u001b[38;5;241m<\u001b[39m \u001b[38;5;241m2\u001b[39m:\n\u001b[0;32m---> 38\u001b[0m     \u001b[38;5;28;01mraise\u001b[39;00m \u001b[38;5;167;01mException\u001b[39;00m(\n\u001b[1;32m     39\u001b[0m         \u001b[38;5;124m\"\u001b[39m\u001b[38;5;124mPivoting operations only possible on symbols with dimension > 1, \u001b[39m\u001b[38;5;124m\"\u001b[39m\n\u001b[1;32m     40\u001b[0m         \u001b[38;5;124mf\u001b[39m\u001b[38;5;124m\"\u001b[39m\u001b[38;5;124msymbol dimension is \u001b[39m\u001b[38;5;132;01m{\u001b[39;00m\u001b[38;5;28mself\u001b[39m\u001b[38;5;241m.\u001b[39mdimension\u001b[38;5;132;01m}\u001b[39;00m\u001b[38;5;124m\"\u001b[39m\n\u001b[1;32m     41\u001b[0m     )\n\u001b[1;32m     43\u001b[0m \u001b[38;5;66;03m#\u001b[39;00m\n\u001b[1;32m     44\u001b[0m \u001b[38;5;66;03m# ARG: index\u001b[39;00m\n\u001b[1;32m     45\u001b[0m \u001b[38;5;28;01mif\u001b[39;00m \u001b[38;5;129;01mnot\u001b[39;00m \u001b[38;5;28misinstance\u001b[39m(index, (\u001b[38;5;28mstr\u001b[39m, \u001b[38;5;28mlist\u001b[39m, \u001b[38;5;28mtype\u001b[39m(\u001b[38;5;28;01mNone\u001b[39;00m))):\n",
      "\u001b[0;31mException\u001b[0m: Pivoting operations only possible on symbols with dimension > 1, symbol dimension is 1"
     ]
    }
   ],
   "source": [
    "# Convert data into MCNF data\n",
    "node = Set(m,'node',domain=['*'])\n",
    "node[projects] = True\n",
    "node[students] = True\n",
    "\n",
    "arc = Set(m,'arc',domain=['*','*'])\n",
    "arc[students,projects] = True\n",
    "\n",
    "i = Alias(m,'i',node)\n",
    "j = Alias(m,'j',node)\n",
    "k = Alias(m,'k',node)\n",
    "\n",
    "b = Parameter(m,'b',domain=['*'])\n",
    "b[projects] = -1\n",
    "b[students] = 1\n",
    "\n",
    "c = Parameter(m,'c',domain=['*','*'])\n",
    "c[students,projects] = preferences[students,projects]\n",
    "\n",
    "# VARIABLES #\n",
    "f = Variable(m,\"f\",\"binary\",domain=['*','*'],description=\"flow\")\n",
    "\n",
    "# EQUATIONS #\n",
    "# ensure flow out - flow in = b, use dynamic set \n",
    "balance = Equation(m,'balance',domain=['*'])\n",
    "balance[i]= Sum(arc[i,k], f[i,k]) - Sum(arc[j,i], f[j,i]) == b[i]\n",
    "\n",
    "mcf = Model(m,\n",
    "    name=\"mcf\",\n",
    "    equations=[balance],\n",
    "    problem=Problem.RMIP,\n",
    "    sense=Sense.MAX,\n",
    "    objective=Sum(arc[i,j], c[i,j]*f[i,j]),\n",
    ")\n",
    "\n",
    "mcf.solve(solver='cplex',solver_options={'lpmethod': 3, 'netfind': 2, 'preind': 0, 'names': 'no'},output=None)\n",
    "\n",
    "print(\"Objective Function Value:  \", round(mcf.objective_value, 4), \"\\n\\nf:\")\n",
    "display(f.pivot())"
   ]
  },
  {
   "cell_type": "code",
   "execution_count": null,
   "metadata": {},
   "outputs": [],
   "source": []
  }
 ],
 "metadata": {
  "celltoolbar": "Slideshow",
  "kernelspec": {
   "display_name": "Python 3 (ipykernel)",
   "language": "python",
   "name": "python3"
  },
  "language_info": {
   "codemirror_mode": {
    "name": "ipython",
    "version": 3
   },
   "file_extension": ".py",
   "mimetype": "text/x-python",
   "name": "python",
   "nbconvert_exporter": "python",
   "pygments_lexer": "ipython3",
   "version": "3.10.12"
  }
 },
 "nbformat": 4,
 "nbformat_minor": 4
}
