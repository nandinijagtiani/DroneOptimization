{
 "cells": [
  {
   "cell_type": "markdown",
   "metadata": {
    "slideshow": {
     "slide_type": "slide"
    }
   },
   "source": [
    "CS524: Introduction to Optimization Lecture 10\n",
    "======================================\n",
    "\n",
    "## Michael Ferris<br> Computer Sciences Department <br> University of Wisconsin-Madison\n",
    "\n",
    "## September 25, 2024\n",
    "--------------"
   ]
  },
  {
   "cell_type": "markdown",
   "metadata": {},
   "source": [
    "#  Shortest Path\n"
   ]
  },
  {
   "cell_type": "code",
   "execution_count": 1,
   "metadata": {
    "slideshow": {
     "slide_type": "slide"
    }
   },
   "outputs": [],
   "source": [
    "import sys\n",
    "import pandas as pd\n",
    "import numpy as np\n",
    "\n",
    "from gamspy import (\n",
    "    Container,Set,Alias,Parameter,Variable,Equation,Model,Problem,Sense,Options,\n",
    "    Domain,Number,Sum,Product,Smax,Smin,Ord,Card,SpecialValues,\n",
    "    ModelStatus,SolveStatus,\n",
    ")\n",
    "from gamspy.exceptions import GamspyException\n",
    "import gamspy.math as gpm\n",
    "import math\n",
    "\n",
    "options = Options(variable_listing_limit=100, equation_listing_limit=8,seed=101)\n",
    "m = Container(options=options)"
   ]
  },
  {
   "cell_type": "code",
   "execution_count": 2,
   "metadata": {
    "slideshow": {
     "slide_type": "slide"
    }
   },
   "outputs": [
    {
     "name": "stdout",
     "output_type": "stream",
     "text": [
      "Objective Function Value:   4.8284 \n",
      "\n",
      "x:\n",
      "        node2  node3  node4  node5  node6  node7  node8\n",
      "node1    0.0    1.0    0.0    0.0    0.0    0.0    0.0\n",
      "node2    0.0    0.0    0.0    0.0    0.0    0.0    0.0\n",
      "node3    0.0    0.0    0.0    0.0    1.0    0.0    0.0\n",
      "node4    0.0    0.0    0.0    0.0    0.0    0.0    0.0\n",
      "node5    0.0    0.0    0.0    0.0    0.0    0.0    0.0\n",
      "node6    0.0    0.0    0.0    0.0    0.0    0.0    1.0\n",
      "node7    0.0    0.0    0.0    0.0    0.0    0.0    0.0\n"
     ]
    }
   ],
   "source": [
    "# DATA #\n",
    "node = Set(m,'node',records=[f\"node{i}\" for i in range(1,9)])\n",
    "i = Alias(m,'i',node)\n",
    "j = Alias(m,'j',node)\n",
    "k = Alias(m,'k',node)\n",
    "coords = Set(m,'coords', records=['x','y'])\n",
    "\n",
    "supply = Parameter(m,'supply',[i],records=[('node1',1),('node8',-1)])\n",
    "if np.sum(supply.toDense()) != 0:\n",
    "    raise GamspyException(\"supply must equal demand\", supply)\n",
    "\n",
    "posn = Parameter(m,'posn',[i,coords],records=pd.DataFrame(\n",
    "    data = [\n",
    "    ('node1',0,1),\n",
    "    ('node2',0,0),\n",
    "    ('node3',1,2),\n",
    "    ('node4',1,0),\n",
    "    ('node5',2,2),\n",
    "    ('node6',2,1),\n",
    "    ('node7',2,0),\n",
    "    ('node8',3,1)], columns = [\"i\",\"x\",\"y\"]).set_index(\"i\"),uels_on_axes=True)\n",
    "\n",
    "# define a dynamic set that indicates the \"legal\" arcs\n",
    "arc = Set(m,'arc',domain=[i,j],records=[\n",
    "    ('node1','node2'),('node1','node3'),\n",
    "    ('node2','node4'),\n",
    "    ('node3','node6'),\n",
    "    ('node4','node7'),\n",
    "    ('node5','node8'),\n",
    "    ('node6','node5'),('node6','node8'),\n",
    "    ('node7','node6'),('node7','node8') ])\n",
    "lakeCrossing = m.addSet('lakeCrossing',domain=[i,j],records=[\n",
    "    ('node4','node7'),('node6','node8'),('node7','node6') ])\n",
    "\n",
    "# check that lakeCrossing is a subset of arc\n",
    "diff = Set(m,'diff',domain=[i,j])\n",
    "diff[i,j] = lakeCrossing[i,j] - arc[i,j]\n",
    "if diff.records is not None:\n",
    "    raise GamspyException(\"Lake Crossings must be a subset of Arcs\",diff)\n",
    "\n",
    "# figure the distances\n",
    "distance = Parameter(m,'distance',domain=[i,j])\n",
    "\n",
    "distance[arc[i,j]] = gpm.sqrt(Sum(coords,gpm.sqr(posn[i,coords] - posn[j,coords])))\n",
    "# double the distance if the route goes over a lake\n",
    "distance[lakeCrossing] = 2*distance[lakeCrossing]\n",
    "\n",
    "# VARIABLES #\n",
    "\n",
    "x = Variable(m,\"x\",\"positive\",domain=[i,j],description=\"flow\")\n",
    "\n",
    "# EQUATIONS #\n",
    "# remove redundant constraint to get unique multipliers\n",
    "balance = Equation(m,'balance',domain=[i])\n",
    "balance[i].where[~i.last]= Sum(arc[i,k], x[i,k]) - Sum(arc[j,i], x[j,i]) == supply[i]\n",
    "# balance[i].where[~i.sameAs('node8')]= Sum(k.where[arc[i,k]], x[i,k]) - Sum(j.where[arc[j,i]], x[j,i]) == supply[i]\n",
    "\n",
    "short = Model(m,\n",
    "    name=\"short\",\n",
    "    equations=[balance],\n",
    "    problem=Problem.LP,\n",
    "    sense=Sense.MIN,\n",
    "    objective=Sum(arc, distance[arc]*x[arc]),\n",
    ")\n",
    "\n",
    "short.solve(solver='cplex',solver_options={'lpmethod': 3, 'netfind': 2, 'preind': 0, 'names': 'no'},output=None)\n",
    "\n",
    "# POST PROCESSING #\n",
    "\n",
    "print(\"Objective Function Value:  \", round(short.objective_value, 4), \"\\n\")\n",
    "print(\"x:\\n\", x.pivot())"
   ]
  },
  {
   "cell_type": "markdown",
   "metadata": {},
   "source": [
    "# Dual Model"
   ]
  },
  {
   "cell_type": "code",
   "execution_count": 3,
   "metadata": {
    "slideshow": {
     "slide_type": "slide"
    }
   },
   "outputs": [
    {
     "name": "stdout",
     "output_type": "stream",
     "text": [
      "Dual objective Function Value:   4.8284 \n",
      "\n",
      "pi:\n",
      "        i     level\n",
      "0  node1  4.828427\n",
      "1  node2  3.828427\n",
      "2  node3  3.414214\n",
      "3  node4  2.828427\n",
      "4  node5  1.000000\n",
      "5  node6  2.000000\n",
      "6  node7  0.828427\n",
      "7  node8  0.000000\n",
      "balance.m:\n",
      "        i  marginal\n",
      "0  node1  4.828427\n",
      "1  node2  3.828427\n",
      "2  node3  3.414214\n",
      "3  node4  2.828427\n",
      "4  node5  1.000000\n",
      "5  node6  2.000000\n",
      "6  node7  0.828427\n"
     ]
    }
   ],
   "source": [
    "pi = Variable(m,\"pi\",\"positive\",domain=[i])\n",
    "\n",
    "dualcons = Equation(m,'dualcons',domain=[i,j])\n",
    "# dualcons[i,j].where[arc[i,j]]= pi[i] - pi[j] <= distance[i,j]\n",
    "dualcons[arc[i,j]]= pi[i] - pi[j] <= distance[i,j]\n",
    "\n",
    "dualflow = Model(m,\n",
    "    name=\"dualflow\",\n",
    "    equations=[dualcons],\n",
    "    problem=Problem.LP,\n",
    "    sense=Sense.MAX,\n",
    "    objective=Sum(i, supply[i]*pi[i]),\n",
    ")\n",
    "\n",
    "# fix dual multiplier corresponding to dropped constraint\n",
    "# pi.fx['node8'] = 0\n",
    "\n",
    "dualflow.solve(solver='cplex',solver_options={'lpmethod': 3, 'netfind': 2, 'preind': 0, 'names': 'no'},output=None)\n",
    "\n",
    "# POST PROCESSING #\n",
    "    \n",
    "print(\"Dual objective Function Value:  \", round(dualflow.objective_value, 4), \"\\n\")\n",
    "print(\"pi:\\n\", pi.records[['i','level']])\n",
    "print(\"balance.m:\\n\", balance.records[['i','marginal']])"
   ]
  },
  {
   "cell_type": "code",
   "execution_count": 4,
   "metadata": {},
   "outputs": [
    {
     "name": "stdout",
     "output_type": "stream",
     "text": [
      "Arc Density 0.002\n",
      "Proportion of Successful Paths: 59.0\n",
      "Average length of Successful Paths: 49.00945212\n",
      "Total solve time:       1.86\n"
     ]
    }
   ],
   "source": [
    "# %%timeit\n",
    "# DATA #\n",
    "options.variable_listing_limit=0\n",
    "options.equation_listing_limit=0\n",
    "options.suppress_compiler_listing=True\n",
    "options.write_listing_file=False\n",
    "options.generate_name_dict=False\n",
    "options.seed=101\n",
    "\n",
    "node = Set(m,'node',records=range(1,1001))\n",
    "\n",
    "supply = Parameter(m,'supply',[i],records=[(1,1),(1000,-1)])\n",
    "if np.sum(supply.toDense()) != 0:\n",
    "    raise GamspyException(\"supply must equal demand\", supply)\n",
    "\n",
    "iter = m.addSet('iter',records=[f\"iter{i}\" for i in range(1,101)])\n",
    "density = m.addParameter('density',records=0.002)\n",
    "successful = 0\n",
    "averageLength = 0\n",
    "solveTime = 0\n",
    "\n",
    "for cnt in iter.toList():\n",
    "    arc[i,j] = Number(1).where[gpm.uniform(0,1) < density]\n",
    "    arc[i,i] = False\n",
    "    distance[i,j] = gpm.uniform(1,10).where[arc[i,j]]\n",
    "    try:\n",
    "        short.solve(load_symbols=[],options=options,solver='cplex',solver_options={'lpmethod': 3, 'netfind': 2, 'preind': 0, 'names': 'no'},output=None)\n",
    "        solveTime += short.total_solve_time\n",
    "        if short.status == ModelStatus.OptimalGlobal:\n",
    "            successful += 1\n",
    "            averageLength += short.objective_value\n",
    "    except:\n",
    "        pass # infeasible model already detected by GAMS\n",
    "       \n",
    "# POST PROCESSING #\n",
    "\n",
    "averageLength = (averageLength / successful) if successful > 0 else math.inf\n",
    "percentageSuccess = 100*successful / len(iter.records);\n",
    "print(f\"Arc Density {density.toValue()}\")\n",
    "print(f\"Proportion of Successful Paths: {percentageSuccess}\")\n",
    "print(f\"Average length of Successful Paths: {averageLength:.8f}\")\n",
    "print(f\"Total solve time: {solveTime:10.2f}\")"
   ]
  },
  {
   "cell_type": "code",
   "execution_count": null,
   "metadata": {},
   "outputs": [],
   "source": []
  },
  {
   "cell_type": "code",
   "execution_count": null,
   "metadata": {},
   "outputs": [],
   "source": []
  }
 ],
 "metadata": {
  "celltoolbar": "Slideshow",
  "kernelspec": {
   "display_name": "Python 3 (ipykernel)",
   "language": "python",
   "name": "python3"
  },
  "language_info": {
   "codemirror_mode": {
    "name": "ipython",
    "version": 3
   },
   "file_extension": ".py",
   "mimetype": "text/x-python",
   "name": "python",
   "nbconvert_exporter": "python",
   "pygments_lexer": "ipython3",
   "version": "3.12.5"
  }
 },
 "nbformat": 4,
 "nbformat_minor": 4
}
