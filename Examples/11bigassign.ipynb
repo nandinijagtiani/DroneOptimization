{
 "cells": [
  {
   "cell_type": "markdown",
   "metadata": {
    "slideshow": {
     "slide_type": "slide"
    }
   },
   "source": [
    "CS524: Introduction to Optimization Lecture 12\n",
    "======================================\n",
    "\n",
    "## Michael Ferris<br> Computer Sciences Department <br> University of Wisconsin-Madison\n",
    "\n",
    "## September 30, 2024\n",
    "--------------"
   ]
  },
  {
   "cell_type": "code",
   "execution_count": 1,
   "metadata": {
    "slideshow": {
     "slide_type": "slide"
    }
   },
   "outputs": [],
   "source": [
    "import sys\n",
    "import numpy as np\n",
    "import pandas as pd\n",
    "\n",
    "from gamspy import (\n",
    "    Container,Set,Alias,Parameter,Variable,Equation,Model,Problem,Sense,Options,\n",
    "    Domain,Number,Sum,Product,Smax,Smin,Ord,Card,SpecialValues,\n",
    ")\n",
    "\n",
    "options = Options(time_limit=40,seed=42)\n",
    "m = Container(options=options)"
   ]
  },
  {
   "cell_type": "markdown",
   "metadata": {},
   "source": [
    "# Big assignment problem\n",
    "\n",
    "Build some large random assignment problems and see difference in solution times\n",
    "\n",
    "Demonstrates:\n",
    "- How to set the random seed.\n",
    "- How to use solver options\n",
    "- How to do things in a 'sparse' way in GAMSPy\n",
    "- How to do conditional processing using filters"
   ]
  },
  {
   "cell_type": "code",
   "execution_count": 2,
   "metadata": {
    "slideshow": {
     "slide_type": "slide"
    }
   },
   "outputs": [],
   "source": [
    "def mysample(size, seed):\n",
    "    return rng.uniform(low=0.0, high=100.0, size=size)\n",
    "\n",
    "rng = np.random.default_rng(seed=options.seed)\n",
    "\n",
    "num = 4000\n",
    "i = Set(m,'horse',records=[f\"h{k+1}\" for k in range(num)])\n",
    "j = Set(m,'jockey',records=[f\"j{k+1}\" for k in range(num)])\n",
    "\n",
    "c = Parameter(m,'c',[i,j])       \n",
    "c.generateRecords(density=0.15, func=mysample)\n",
    "\n",
    "arc = Set(m,'arc',domain=[i,j])\n",
    "arc.setRecords(c.records) # does all records with text as c values!\n",
    "\n",
    "x = Variable(m,\"x\",\"positive\",domain=[i,j])\n",
    "\n",
    "# EQUATIONS #\n",
    "\n",
    "hookup_horse = Equation(m,'hookup_horse',domain=i)  \n",
    "hookup_horse[i]= Sum(j, x[i,j]) <= 1 \n",
    "\n",
    "hookup_jockey = Equation(m,'hookup_jockey',domain=j)  \n",
    "hookup_jockey[j]= Sum(i, x[i,j]) <= 1 \n",
    "\n",
    "hookup_dense = Model(m,\n",
    "    name=\"hookup_dense\",\n",
    "    equations=m.getEquations(),\n",
    "    problem=Problem.LP,\n",
    "    sense=Sense.MAX,\n",
    "    objective= Sum([i,j], c[i,j] * x[i,j]),\n",
    ")\n",
    "\n",
    "x.up[i,j].where[~arc[i,j]] = 0.0"
   ]
  },
  {
   "cell_type": "code",
   "execution_count": 3,
   "metadata": {
    "slideshow": {
     "slide_type": "slide"
    }
   },
   "outputs": [
    {
     "data": {
      "text/html": [
       "<div>\n",
       "<style scoped>\n",
       "    .dataframe tbody tr th:only-of-type {\n",
       "        vertical-align: middle;\n",
       "    }\n",
       "\n",
       "    .dataframe tbody tr th {\n",
       "        vertical-align: top;\n",
       "    }\n",
       "\n",
       "    .dataframe thead th {\n",
       "        text-align: right;\n",
       "    }\n",
       "</style>\n",
       "<table border=\"1\" class=\"dataframe\">\n",
       "  <thead>\n",
       "    <tr style=\"text-align: right;\">\n",
       "      <th></th>\n",
       "      <th>Solver Status</th>\n",
       "      <th>Model Status</th>\n",
       "      <th>Objective</th>\n",
       "      <th>Num of Equations</th>\n",
       "      <th>Num of Variables</th>\n",
       "      <th>Model Type</th>\n",
       "      <th>Solver</th>\n",
       "      <th>Solver Time</th>\n",
       "    </tr>\n",
       "  </thead>\n",
       "  <tbody>\n",
       "    <tr>\n",
       "      <th>0</th>\n",
       "      <td>Normal</td>\n",
       "      <td>OptimalGlobal</td>\n",
       "      <td>398923.881931101</td>\n",
       "      <td>8001</td>\n",
       "      <td>16000001</td>\n",
       "      <td>LP</td>\n",
       "      <td>CPLEX</td>\n",
       "      <td>11.43</td>\n",
       "    </tr>\n",
       "  </tbody>\n",
       "</table>\n",
       "</div>"
      ],
      "text/plain": [
       "  Solver Status   Model Status         Objective Num of Equations  \\\n",
       "0        Normal  OptimalGlobal  398923.881931101             8001   \n",
       "\n",
       "  Num of Variables Model Type Solver Solver Time  \n",
       "0         16000001         LP  CPLEX       11.43  "
      ]
     },
     "execution_count": 3,
     "metadata": {},
     "output_type": "execute_result"
    }
   ],
   "source": [
    "options.step_summary = True\n",
    "options.write_listing_file = True\n",
    "options.listing_file = \"gams/hookup.lst\"\n",
    "\n",
    "hookup_dense.solve(options=options)"
   ]
  },
  {
   "cell_type": "code",
   "execution_count": 4,
   "metadata": {
    "slideshow": {
     "slide_type": "slide"
    }
   },
   "outputs": [
    {
     "data": {
      "text/html": [
       "<div>\n",
       "<style scoped>\n",
       "    .dataframe tbody tr th:only-of-type {\n",
       "        vertical-align: middle;\n",
       "    }\n",
       "\n",
       "    .dataframe tbody tr th {\n",
       "        vertical-align: top;\n",
       "    }\n",
       "\n",
       "    .dataframe thead th {\n",
       "        text-align: right;\n",
       "    }\n",
       "</style>\n",
       "<table border=\"1\" class=\"dataframe\">\n",
       "  <thead>\n",
       "    <tr style=\"text-align: right;\">\n",
       "      <th></th>\n",
       "      <th>Solver Status</th>\n",
       "      <th>Model Status</th>\n",
       "      <th>Objective</th>\n",
       "      <th>Num of Equations</th>\n",
       "      <th>Num of Variables</th>\n",
       "      <th>Model Type</th>\n",
       "      <th>Solver</th>\n",
       "      <th>Solver Time</th>\n",
       "    </tr>\n",
       "  </thead>\n",
       "  <tbody>\n",
       "    <tr>\n",
       "      <th>0</th>\n",
       "      <td>Normal</td>\n",
       "      <td>OptimalGlobal</td>\n",
       "      <td>398923.881931101</td>\n",
       "      <td>8001</td>\n",
       "      <td>2400001</td>\n",
       "      <td>LP</td>\n",
       "      <td>CPLEX</td>\n",
       "      <td>8.108</td>\n",
       "    </tr>\n",
       "  </tbody>\n",
       "</table>\n",
       "</div>"
      ],
      "text/plain": [
       "  Solver Status   Model Status         Objective Num of Equations  \\\n",
       "0        Normal  OptimalGlobal  398923.881931101             8001   \n",
       "\n",
       "  Num of Variables Model Type Solver Solver Time  \n",
       "0          2400001         LP  CPLEX       8.108  "
      ]
     },
     "execution_count": 4,
     "metadata": {},
     "output_type": "execute_result"
    }
   ],
   "source": [
    "hookup_horse[i]= Sum(arc[i,j], x[i,j]) <= 1 \n",
    "hookup_jockey[j]= Sum(arc[i,j], x[i,j]) <= 1 \n",
    "\n",
    "hookup = Model(m,\n",
    "    name=\"hookup\",\n",
    "    equations=[hookup_horse,hookup_jockey],\n",
    "    problem=Problem.LP,\n",
    "    sense=Sense.MAX,\n",
    "    objective= Sum(arc[i,j], c[i,j] * x[i,j]),\n",
    ")\n",
    "\n",
    "x.l[arc] = 0\n",
    "options.basis_detection_threshold = 1.0\n",
    "hookup.solve(options=options)"
   ]
  },
  {
   "cell_type": "code",
   "execution_count": 6,
   "metadata": {},
   "outputs": [
    {
     "data": {
      "text/plain": [
       "{'primal': 40.415999852120876,\n",
       " 'dual': 12.76199952699244,\n",
       " 'network': 8.84599972050637,\n",
       " 'barrier': 26.98900003451854,\n",
       " 'gurobi': 11.937999771907926}"
      ]
     },
     "metadata": {},
     "output_type": "display_data"
    }
   ],
   "source": [
    "results = {}\n",
    "\n",
    "x.l[arc] = 0\n",
    "hookup.solve(options=options,solver='cplex',solver_options={'lpmethod': 1, 'names': 'no'})\n",
    "results['primal'] = hookup.total_solve_time\n",
    "\n",
    "x.l[arc] = 0\n",
    "hookup.solve(options=options,solver='cplex',solver_options={'lpmethod': 2, 'names': 'no'})\n",
    "results['dual'] = hookup.total_solve_time\n",
    "\n",
    "x.l[arc] = 0\n",
    "hookup.solve(options=options,solver='cplex',solver_options={'lpmethod': 3, 'netfind': 2, 'preind': 0, 'names': 'no'})\n",
    "results['network'] = hookup.total_solve_time\n",
    "\n",
    "x.l[arc] = 0\n",
    "hookup.solve(options=options,solver='cplex',solver_options={'lpmethod': 4, 'names': 'no'})\n",
    "results['barrier'] = hookup.total_solve_time\n",
    "\n",
    "x.l[arc] = 0\n",
    "hookup.solve(options=options,solver='gurobi')\n",
    "results['gurobi'] = hookup.total_solve_time\n",
    "\n",
    "display(results)"
   ]
  },
  {
   "cell_type": "markdown",
   "metadata": {},
   "source": [
    "## Let's figure out how many horse and jockey get their top choice"
   ]
  },
  {
   "cell_type": "code",
   "execution_count": 7,
   "metadata": {
    "slideshow": {
     "slide_type": "slide"
    }
   },
   "outputs": [],
   "source": [
    "horse_pref = Set(m,'horse_pref',domain=[i,j])\n",
    "jockey_pref = Set(m,'jockey_pref',domain=[i,j])\n",
    "\n",
    "horse_who_got_best_jockey = Set(m,'horse_who_got_best_jockey',domain=i)\n",
    "jockey_who_got_best_horse = Set(m,'jockey_who_got_best_horse',domain=j)\n",
    "\n",
    "best_jockey = Parameter(m,'best_jockey',domain=i,description='best jockey value for horse')\n",
    "best_horse = Parameter(m,'best_horse',domain=j,description='best horse value for jockey')"
   ]
  },
  {
   "cell_type": "raw",
   "metadata": {
    "slideshow": {
     "slide_type": "slide"
    }
   },
   "source": [
    "# Following lines take LOTS of time (probably skip doing it)\n",
    "h = Alias(m,'h',i)\n",
    "g = Alias(m,'g',j)\n",
    "\n",
    "horse_pref[arc[i,j]] = Number(1).where[c[i,j] == Smax(g,c[i,g])]\n",
    "jockey_pref[arc[i,j]] = Number(1).where[c[i,j] == Smax(h,c[h,j])]"
   ]
  },
  {
   "cell_type": "code",
   "execution_count": 8,
   "metadata": {},
   "outputs": [
    {
     "data": {
      "text/plain": [
       "<bound method NDFrame.head of       horse jockey element_text\n",
       "0        h1  j2922             \n",
       "1        h2  j3750             \n",
       "2        h3  j2626             \n",
       "3        h4  j3015             \n",
       "4        h5  j3705             \n",
       "...     ...    ...          ...\n",
       "3995  h3996  j3869             \n",
       "3996  h3997  j2004             \n",
       "3997  h3998  j3670             \n",
       "3998  h3999  j2978             \n",
       "3999  h4000  j3227             \n",
       "\n",
       "[4000 rows x 3 columns]>"
      ]
     },
     "metadata": {},
     "output_type": "display_data"
    }
   ],
   "source": [
    "best_jockey[i] = Smax(arc[i,j], c[i,j])\n",
    "best_horse[j] = Smax(arc[i,j], c[i,j])\n",
    "\n",
    "horse_pref[i,j].where[arc[i,j] & (c[i,j] == best_jockey[i])] = True\n",
    "jockey_pref[i,j].where[arc[i,j] & (c[i,j] == best_horse[j])] = True\n",
    "\n",
    "display(horse_pref.records.head)"
   ]
  },
  {
   "cell_type": "code",
   "execution_count": 9,
   "metadata": {
    "slideshow": {
     "slide_type": "slide"
    }
   },
   "outputs": [
    {
     "data": {
      "text/html": [
       "<div>\n",
       "<style scoped>\n",
       "    .dataframe tbody tr th:only-of-type {\n",
       "        vertical-align: middle;\n",
       "    }\n",
       "\n",
       "    .dataframe tbody tr th {\n",
       "        vertical-align: top;\n",
       "    }\n",
       "\n",
       "    .dataframe thead th {\n",
       "        text-align: right;\n",
       "    }\n",
       "</style>\n",
       "<table border=\"1\" class=\"dataframe\">\n",
       "  <thead>\n",
       "    <tr style=\"text-align: right;\">\n",
       "      <th></th>\n",
       "      <th>horse</th>\n",
       "      <th>element_text</th>\n",
       "    </tr>\n",
       "  </thead>\n",
       "  <tbody>\n",
       "    <tr>\n",
       "      <th>0</th>\n",
       "      <td>h2</td>\n",
       "      <td></td>\n",
       "    </tr>\n",
       "    <tr>\n",
       "      <th>1</th>\n",
       "      <td>h4</td>\n",
       "      <td></td>\n",
       "    </tr>\n",
       "    <tr>\n",
       "      <th>2</th>\n",
       "      <td>h5</td>\n",
       "      <td></td>\n",
       "    </tr>\n",
       "    <tr>\n",
       "      <th>3</th>\n",
       "      <td>h6</td>\n",
       "      <td></td>\n",
       "    </tr>\n",
       "    <tr>\n",
       "      <th>4</th>\n",
       "      <td>h10</td>\n",
       "      <td></td>\n",
       "    </tr>\n",
       "    <tr>\n",
       "      <th>...</th>\n",
       "      <td>...</td>\n",
       "      <td>...</td>\n",
       "    </tr>\n",
       "    <tr>\n",
       "      <th>1996</th>\n",
       "      <td>h3992</td>\n",
       "      <td></td>\n",
       "    </tr>\n",
       "    <tr>\n",
       "      <th>1997</th>\n",
       "      <td>h3994</td>\n",
       "      <td></td>\n",
       "    </tr>\n",
       "    <tr>\n",
       "      <th>1998</th>\n",
       "      <td>h3996</td>\n",
       "      <td></td>\n",
       "    </tr>\n",
       "    <tr>\n",
       "      <th>1999</th>\n",
       "      <td>h3997</td>\n",
       "      <td></td>\n",
       "    </tr>\n",
       "    <tr>\n",
       "      <th>2000</th>\n",
       "      <td>h4000</td>\n",
       "      <td></td>\n",
       "    </tr>\n",
       "  </tbody>\n",
       "</table>\n",
       "<p>2001 rows × 2 columns</p>\n",
       "</div>"
      ],
      "text/plain": [
       "      horse element_text\n",
       "0        h2             \n",
       "1        h4             \n",
       "2        h5             \n",
       "3        h6             \n",
       "4       h10             \n",
       "...     ...          ...\n",
       "1996  h3992             \n",
       "1997  h3994             \n",
       "1998  h3996             \n",
       "1999  h3997             \n",
       "2000  h4000             \n",
       "\n",
       "[2001 rows x 2 columns]"
      ]
     },
     "metadata": {},
     "output_type": "display_data"
    },
    {
     "data": {
      "text/html": [
       "<div>\n",
       "<style scoped>\n",
       "    .dataframe tbody tr th:only-of-type {\n",
       "        vertical-align: middle;\n",
       "    }\n",
       "\n",
       "    .dataframe tbody tr th {\n",
       "        vertical-align: top;\n",
       "    }\n",
       "\n",
       "    .dataframe thead th {\n",
       "        text-align: right;\n",
       "    }\n",
       "</style>\n",
       "<table border=\"1\" class=\"dataframe\">\n",
       "  <thead>\n",
       "    <tr style=\"text-align: right;\">\n",
       "      <th></th>\n",
       "      <th>jockey</th>\n",
       "      <th>element_text</th>\n",
       "    </tr>\n",
       "  </thead>\n",
       "  <tbody>\n",
       "    <tr>\n",
       "      <th>0</th>\n",
       "      <td>j6</td>\n",
       "      <td></td>\n",
       "    </tr>\n",
       "    <tr>\n",
       "      <th>1</th>\n",
       "      <td>j15</td>\n",
       "      <td></td>\n",
       "    </tr>\n",
       "    <tr>\n",
       "      <th>2</th>\n",
       "      <td>j16</td>\n",
       "      <td></td>\n",
       "    </tr>\n",
       "    <tr>\n",
       "      <th>3</th>\n",
       "      <td>j18</td>\n",
       "      <td></td>\n",
       "    </tr>\n",
       "    <tr>\n",
       "      <th>4</th>\n",
       "      <td>j19</td>\n",
       "      <td></td>\n",
       "    </tr>\n",
       "    <tr>\n",
       "      <th>...</th>\n",
       "      <td>...</td>\n",
       "      <td>...</td>\n",
       "    </tr>\n",
       "    <tr>\n",
       "      <th>2007</th>\n",
       "      <td>j3995</td>\n",
       "      <td></td>\n",
       "    </tr>\n",
       "    <tr>\n",
       "      <th>2008</th>\n",
       "      <td>j3996</td>\n",
       "      <td></td>\n",
       "    </tr>\n",
       "    <tr>\n",
       "      <th>2009</th>\n",
       "      <td>j3997</td>\n",
       "      <td></td>\n",
       "    </tr>\n",
       "    <tr>\n",
       "      <th>2010</th>\n",
       "      <td>j3998</td>\n",
       "      <td></td>\n",
       "    </tr>\n",
       "    <tr>\n",
       "      <th>2011</th>\n",
       "      <td>j4000</td>\n",
       "      <td></td>\n",
       "    </tr>\n",
       "  </tbody>\n",
       "</table>\n",
       "<p>2012 rows × 2 columns</p>\n",
       "</div>"
      ],
      "text/plain": [
       "     jockey element_text\n",
       "0        j6             \n",
       "1       j15             \n",
       "2       j16             \n",
       "3       j18             \n",
       "4       j19             \n",
       "...     ...          ...\n",
       "2007  j3995             \n",
       "2008  j3996             \n",
       "2009  j3997             \n",
       "2010  j3998             \n",
       "2011  j4000             \n",
       "\n",
       "[2012 rows x 2 columns]"
      ]
     },
     "metadata": {},
     "output_type": "display_data"
    },
    {
     "data": {
      "text/plain": [
       "50.025"
      ]
     },
     "metadata": {},
     "output_type": "display_data"
    },
    {
     "data": {
      "text/plain": [
       "50.3"
      ]
     },
     "metadata": {},
     "output_type": "display_data"
    }
   ],
   "source": [
    "horse_who_got_best_jockey[i] = Number(1).where[Sum(horse_pref[i,j], x.l[i,j]) > 0.01]\n",
    "jockey_who_got_best_horse[j] = Number(1).where[Sum(jockey_pref[i,j], x.l[i,j]) > 0.01]\n",
    "\n",
    "display(horse_who_got_best_jockey.records,jockey_who_got_best_horse.records)\n",
    "\n",
    "pct_horse_happy = 100*len(horse_who_got_best_jockey.records)/num\n",
    "pct_jockey_happy = 100*len(jockey_who_got_best_horse.records)/num\n",
    "\n",
    "display(pct_horse_happy,pct_jockey_happy)"
   ]
  },
  {
   "cell_type": "code",
   "execution_count": null,
   "metadata": {},
   "outputs": [],
   "source": []
  }
 ],
 "metadata": {
  "celltoolbar": "Slideshow",
  "kernelspec": {
   "display_name": "Python 3 (ipykernel)",
   "language": "python",
   "name": "python3"
  },
  "language_info": {
   "codemirror_mode": {
    "name": "ipython",
    "version": 3
   },
   "file_extension": ".py",
   "mimetype": "text/x-python",
   "name": "python",
   "nbconvert_exporter": "python",
   "pygments_lexer": "ipython3",
   "version": "3.12.5"
  }
 },
 "nbformat": 4,
 "nbformat_minor": 4
}
