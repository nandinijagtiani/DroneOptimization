{
 "cells": [
  {
   "cell_type": "markdown",
   "metadata": {
    "slideshow": {
     "slide_type": "slide"
    }
   },
   "source": [
    "CS524: Introduction to Optimization Lecture 19\n",
    "======================================\n",
    "\n",
    "## Michael Ferris<br> Computer Sciences Department <br> University of Wisconsin-Madison\n",
    "\n",
    "## October 16, 2024\n",
    "--------------"
   ]
  },
  {
   "cell_type": "markdown",
   "metadata": {},
   "source": [
    "#  Gandhi (Winston, p 463)\n",
    "\n",
    "A clothing manufacturer can make shirts, shorts, and pants. A different machine must be rented to make each of these three items. A shirt machine costs \\\\$200/month to rent, while a shorts machine costs \\\\$150/month and a pants machine costs \\\\$100/month. (The manufacturer can choose not to rent a shirt machine, for example, but in this case he cannot make any shirts.) Each shirt requires 3 hours of labor and 4 square yards of cloth; each pair of pants requires 6 hours of labor and 4 square yards of cloth; each pair of shorts requires 2 hours of labor and 3 square yards of cloth. The total amount of labor available is 150 hours, and there are 160 square yards of cloth.\n",
    "\n",
    "Each shirt sells for \\\\$12 and costs \\\\$6 to make. Each pair of shorts sells for \\\\$8 and costs \\\\$4 to make, while each pair of pants sells for \\\\$15 and costs \\\\$8 to make.\n",
    "\n",
    "Determine which item(s) should be manufactured, and how many of each."
   ]
  },
  {
   "cell_type": "code",
   "execution_count": 1,
   "metadata": {
    "slideshow": {
     "slide_type": "slide"
    }
   },
   "outputs": [],
   "source": [
    "from gamspy import Container, Sense, Problem, Sum, Options, Number\n",
    "import numpy as np\n",
    "import sys\n",
    "\n",
    "options = Options(variable_listing_limit=0, equation_listing_limit=0,relative_optimality_gap=0.)\n",
    "m = Container(options=options,debugging_level='keep')"
   ]
  },
  {
   "cell_type": "code",
   "execution_count": 3,
   "metadata": {},
   "outputs": [
    {
     "data": {
      "text/html": [
       "<div>\n",
       "<style scoped>\n",
       "    .dataframe tbody tr th:only-of-type {\n",
       "        vertical-align: middle;\n",
       "    }\n",
       "\n",
       "    .dataframe tbody tr th {\n",
       "        vertical-align: top;\n",
       "    }\n",
       "\n",
       "    .dataframe thead th {\n",
       "        text-align: right;\n",
       "    }\n",
       "</style>\n",
       "<table border=\"1\" class=\"dataframe\">\n",
       "  <thead>\n",
       "    <tr style=\"text-align: right;\">\n",
       "      <th></th>\n",
       "      <th>item</th>\n",
       "      <th>value</th>\n",
       "    </tr>\n",
       "  </thead>\n",
       "  <tbody>\n",
       "    <tr>\n",
       "      <th>0</th>\n",
       "      <td>shirt</td>\n",
       "      <td>200.0</td>\n",
       "    </tr>\n",
       "    <tr>\n",
       "      <th>1</th>\n",
       "      <td>shorts</td>\n",
       "      <td>150.0</td>\n",
       "    </tr>\n",
       "    <tr>\n",
       "      <th>2</th>\n",
       "      <td>pants</td>\n",
       "      <td>100.0</td>\n",
       "    </tr>\n",
       "  </tbody>\n",
       "</table>\n",
       "</div>"
      ],
      "text/plain": [
       "     item  value\n",
       "0   shirt  200.0\n",
       "1  shorts  150.0\n",
       "2   pants  100.0"
      ]
     },
     "execution_count": 3,
     "metadata": {},
     "output_type": "execute_result"
    }
   ],
   "source": [
    "# DATA\n",
    "item = m.addSet('item',records=['shirt', 'shorts', 'pants'])\n",
    "input = m.addSet('input',records=[('labor',\"hours available per week\"),\n",
    "    ('cloth',\"sq yards available per week\")])\n",
    "revcost = m.addSet('revcost',records=[('price',\"selling price in dollars\"),\n",
    "    ('var-cost',\"variable cost in dollars\")])\n",
    "rentmach = m.addParameter('rentmach',domain=item,description=\"cost of rental in dollars/week\",\n",
    "    records = [('shirt',200),('shorts',150), ('pants',100)])\n",
    "resources = m.addParameter('resources',domain=input,\n",
    "    records = [('labor',150), ('cloth',160)])\n",
    "requirements=m.addParameter('requirements',domain=[item,input],description='Table 2 from Winston',\n",
    "    records=np.array([[3, 4], [2, 3], [6, 4]]))\n",
    "revenue=m.addParameter('revenue',domain=[item,revcost],description='Table 3 from Winston',\n",
    "    records=np.array([[12, 6], [8, 4], [15, 8]]))\n",
    "bigM = m.addParameter('bigM', records=1000)\n",
    "\n",
    "# MODEL\n",
    "\n",
    "amount = m.addVariable('amount','positive',domain=item)\n",
    "useMachine = m.addVariable('useMachine','binary',domain=item)\n",
    "profit = m.addVariable('profit','free')\n",
    "\n",
    "EQresources = m.addEquation('EQresources',domain=input)\n",
    "EQresources[input]= (\n",
    "    Sum(item,requirements[item,input]*amount[item]) <= resources[input])\n",
    "\n",
    "EQrental = m.addEquation('EQrental',domain=item)\n",
    "EQrental[item]= (\n",
    "    amount[item] <= useMachine[item]*bigM)\n",
    "\n",
    "objective = m.addEquation('objective')\n",
    "objective[:]= (profit == \n",
    "    Sum(item, revenue[item,'price']*amount[item])\n",
    "    - Sum(item, revenue[item,'var-cost']*amount[item]) \n",
    "    - Sum(item, rentmach[item] * useMachine[item]))\n",
    "\n",
    "fixedCost = m.addModel('fixedCost',\n",
    "    equations=[EQresources,EQrental,objective],\n",
    "    problem=Problem.MIP,\n",
    "    sense=Sense.MAX,\n",
    "    objective=profit,\n",
    ")"
   ]
  },
  {
   "cell_type": "markdown",
   "metadata": {},
   "source": [
    "Set the relative optimality tolerance (gap) to 0, then solve bigM problem:"
   ]
  },
  {
   "cell_type": "code",
   "execution_count": 3,
   "metadata": {},
   "outputs": [
    {
     "name": "stdout",
     "output_type": "stream",
     "text": [
      "amount =\n",
      "      item  level\n",
      "0   shirt    0.0\n",
      "1  shorts    0.0\n",
      "2   pants   25.0\n",
      "use machines =\n",
      "      item  level\n",
      "0   shirt    0.0\n",
      "1  shorts    0.0\n",
      "2   pants    1.0\n"
     ]
    }
   ],
   "source": [
    "fixedCost.solve(output=None)\n",
    "print(f\"amount =\\n {amount.records[['item','level']]}\\nuse machines =\\n {useMachine.records[['item','level']]}\")"
   ]
  },
  {
   "cell_type": "markdown",
   "metadata": {},
   "source": [
    "Alternative: Use cplex with indicator constraints (turn on EQrental2 if useMachine = 0)"
   ]
  },
  {
   "cell_type": "code",
   "execution_count": 4,
   "metadata": {},
   "outputs": [
    {
     "name": "stdout",
     "output_type": "stream",
     "text": [
      "amount =\n",
      "      item  level\n",
      "0   shirt    0.0\n",
      "1  shorts    0.0\n",
      "2   pants   25.0\n",
      "use machines =\n",
      "      item  level\n",
      "0   shirt    0.0\n",
      "1  shorts    0.0\n",
      "2   pants    1.0\n"
     ]
    }
   ],
   "source": [
    "EQrental2 = m.addEquation('EQrental2',domain=[item])\n",
    "EQrental2[item] = (amount[item] == 0)\n",
    "\n",
    "fixedCost = m.addModel('fixedCost',\n",
    "    equations=[EQresources,EQrental2,objective],\n",
    "    problem=Problem.MIP,\n",
    "    sense=Sense.MAX,\n",
    "    objective=profit,\n",
    ")\n",
    "\n",
    "fixedCost.solve(output=None,solver='cplex',solver_options={'indic': 'EQrental2(item)$useMachine(item) 0'})\n",
    "print(f\"amount =\\n {m['amount'].records[['item','level']]}\\nuse machines =\\n {m['useMachine'].records[['item','level']]}\")"
   ]
  },
  {
   "cell_type": "markdown",
   "metadata": {},
   "source": [
    "Modify problem to have different costs, capacities and multiple machines"
   ]
  },
  {
   "cell_type": "code",
   "execution_count": 5,
   "metadata": {
    "slideshow": {
     "slide_type": "slide"
    }
   },
   "outputs": [
    {
     "name": "stdout",
     "output_type": "stream",
     "text": [
      "amount =\n",
      "      item  level\n",
      "0   shirt   30.0\n",
      "1  shorts    0.0\n",
      "2   pants    8.0\n",
      "number machines =\n",
      "      item  level\n",
      "0   shirt    3.0\n",
      "1  shorts    0.0\n",
      "2   pants    1.0\n"
     ]
    }
   ],
   "source": [
    "rentmach.setRecords([ ('shirt',30), ('shorts',50), ('pants',20) ])\n",
    "capacityMachine = m.addParameter('capacityMachine',domain=item,\n",
    "    records=[ ('shirt',10), ('shorts',10), ('pants',8) ])\n",
    "    \n",
    "numberMachines = m.addVariable('numberMachines','integer',domain=item)\n",
    "\n",
    "# No change to declaration of equations, just definition\n",
    "EQrental[item]= (\n",
    "    amount[item] <= numberMachines[item]*capacityMachine[item] )\n",
    "\n",
    "objective[:]= (\n",
    "    profit ==   Sum(item, revenue[item,'price']*amount[item])\n",
    "        - Sum(item, revenue[item,'var-cost']*amount[item]) \n",
    "        - Sum(item, rentmach[item]* numberMachines[item]) )\n",
    "\n",
    "fixedCost = m.addModel('fixedCost',\n",
    "    equations=[EQresources,EQrental,objective],\n",
    "    problem=Problem.MIP,\n",
    "    sense=Sense.MAX,\n",
    "    objective=profit,\n",
    ")\n",
    "\n",
    "fixedCost.solve(solver=\"cplex\", solver_options={'*': 'no option'})\n",
    "print(f\"amount =\\n {amount.records[['item','level']]}\\nnumber machines =\\n {numberMachines.records[['item','level']]}\")"
   ]
  },
  {
   "cell_type": "code",
   "execution_count": null,
   "metadata": {},
   "outputs": [],
   "source": []
  }
 ],
 "metadata": {
  "kernelspec": {
   "display_name": "venv",
   "language": "python",
   "name": "python3"
  },
  "language_info": {
   "codemirror_mode": {
    "name": "ipython",
    "version": 3
   },
   "file_extension": ".py",
   "mimetype": "text/x-python",
   "name": "python",
   "nbconvert_exporter": "python",
   "pygments_lexer": "ipython3",
   "version": "3.10.12"
  }
 },
 "nbformat": 4,
 "nbformat_minor": 4
}
