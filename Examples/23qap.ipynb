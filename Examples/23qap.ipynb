{
 "cells": [
  {
   "cell_type": "markdown",
   "metadata": {
    "slideshow": {
     "slide_type": "slide"
    }
   },
   "source": [
    "CS524: Introduction to Optimization Lecture 23\n",
    "======================================\n",
    "\n",
    "### Michael Ferris<br> Computer Sciences Department <br> University of Wisconsin-Madison\n",
    "\n",
    "#### October 25, 2024\n",
    "--------------"
   ]
  },
  {
   "cell_type": "markdown",
   "metadata": {
    "slideshow": {
     "slide_type": "slide"
    }
   },
   "source": [
    "## QAP – The second most famous problem\n",
    "“Quadratic” Assignment Problem\n",
    "- Set of facilities F \n",
    "- Set of locations L \n",
    "- $d_{ij}$ distance from i∈L to j∈L\n",
    "- $f_{kl}$ flow from k∈F to l∈F"
   ]
  },
  {
   "cell_type": "markdown",
   "metadata": {
    "slideshow": {
     "slide_type": "slide"
    }
   },
   "source": [
    "## QAP\n",
    "$$ x_{ij} =   \\left\\{\n",
    "\\begin{array}{ll}\n",
    "      1 & \\text{Assign facility $i$ to location $j$} \\\\\n",
    "      0 & \\text{Otherwise} \\\\\n",
    "\\end{array} \n",
    "\\right. \\\\ \\\\ $$\n",
    "\n",
    "$$\n",
    "min \\Sigma_{k \\in F} \\Sigma_{i \\in L} \\Sigma_{I \\in F} \\Sigma_{j \\in L} d_{ij} f_{kl} x_{ki} x_{Ij} \\\\ \\\\\n",
    "\\Sigma_{i \\in F} x_{ij} = 1 \\forall j \\in L \\\\ \\\\\n",
    "\\Sigma_{j \\in L} x_{ij} = 1 \\forall i \\in F \\\\ \\\\\n",
    "x_{ij} \\in \\{0,1\\} \\forall i \\in F, \\forall j \\in L\n",
    "$$"
   ]
  },
  {
   "cell_type": "markdown",
   "metadata": {
    "slideshow": {
     "slide_type": "slide"
    }
   },
   "source": [
    "## QAP\n",
    "- $x_{ki} x_{lj}$ is nonlinear!\n",
    "- What you really want it is to count $d_{ij} f_{kl}$ towards your objective if and only if you assign facility k→i and facility l→j\n",
    "- There is one more “trick” you should know – when you are multiplying two binary variables..."
   ]
  },
  {
   "cell_type": "markdown",
   "metadata": {
    "slideshow": {
     "slide_type": "slide"
    }
   },
   "source": [
    "## A Final Trick\n",
    "- Modeling Trick:  Linearizing product of two binaries\n",
    "$$z_{kilj} = 1 ⇔ x_{ki} = 1, x_{lj} = 1 ⇔ x_{ki} ∧ x_{lj} \\\\ \n",
    "z_{kilj} ≤ x_{ki} ∀ k ∈ F, i ∈ L, l ∈ F, j ∈ L \\\\\n",
    "z_{kilj} ≤ x_{lj} ∀ k ∈ F, i ∈ L, l ∈ F, j ∈ L \\\\\n",
    "z_{kilj} ≥ x_{ki} + x_{lj}−1 ∀ k ∈ F, i ∈ L, l ∈ F, j ∈ L$$\n",
    "\n",
    "- This is a special case of $P_n ↔ (P_1 ∧ ··· ∧ P_k)$\n",
    "$$\\delta_n + k \\geq 1 + \\Sigma_{i=1}^k \\delta_i, \\delta_j \\geq \\delta_n, j = 1, ..., k $$\n",
    "\n",
    "- We can also do it a different way using the slide of Trix\n",
    "$$x_{ki} + x_{lj} -2 z_{kilj} \\geq 0$$"
   ]
  },
  {
   "cell_type": "markdown",
   "metadata": {
    "slideshow": {
     "slide_type": "slide"
    }
   },
   "source": [
    "**The final trick for linearizing the product of two binary variables is shown below.**"
   ]
  },
  {
   "cell_type": "code",
   "execution_count": 1,
   "metadata": {
    "slideshow": {
     "slide_type": "slide"
    }
   },
   "outputs": [],
   "source": [
    "import sys\n",
    "import numpy as np\n",
    "\n",
    "from gamspy import Container, Problem, Sense, Sum, Options\n",
    "import gamspy.math as gpm"
   ]
  },
  {
   "cell_type": "code",
   "execution_count": 2,
   "metadata": {
    "slideshow": {
     "slide_type": "slide"
    }
   },
   "outputs": [
    {
     "name": "stdout",
     "output_type": "stream",
     "text": [
      "--- Job _ae7f6df5-c618-44d5-911e-d86b44aba4d9.gms Start 10/25/24 09:14:54 48.1.0 612569ae DAX-DAC arm 64bit/macOS\n",
      "--- Applying:\n",
      "    /Users/ferris/.venvs/gamspy++/lib/python3.12/site-packages/gamspy_base/gmsprmun.txt\n",
      "    /Users/ferris/Library/Preferences/GAMS/gamsconfig.yaml\n",
      "--- GAMS Parameters defined\n",
      "    MINLP baron\n",
      "    Input /var/folders/yz/_rxq7zs56y5cnkx3mcnkr7txvxb3pw/T/tmp0_81h8bv/_ae7f6df5-c618-44d5-911e-d86b44aba4d9.gms\n",
      "    Output /var/folders/yz/_rxq7zs56y5cnkx3mcnkr7txvxb3pw/T/tmp0_81h8bv/_ae7f6df5-c618-44d5-911e-d86b44aba4d9.lst\n",
      "    ScrDir /var/folders/yz/_rxq7zs56y5cnkx3mcnkr7txvxb3pw/T/tmp0_81h8bv/tmpsksdr30v/\n",
      "    SysDir /Users/ferris/.venvs/gamspy++/lib/python3.12/site-packages/gamspy_base/\n",
      "    LogOption 3\n",
      "    Trace /var/folders/yz/_rxq7zs56y5cnkx3mcnkr7txvxb3pw/T/tmp0_81h8bv/_ae7f6df5-c618-44d5-911e-d86b44aba4d9.txt\n",
      "    License \"/Users/ferris/Library/Application Support/GAMSPy/gamspy_license.txt\"\n",
      "    OptFile 1\n",
      "    OptDir /var/folders/yz/_rxq7zs56y5cnkx3mcnkr7txvxb3pw/T/tmp0_81h8bv/\n",
      "    LimRow 0\n",
      "    LimCol 0\n",
      "    TraceOpt 3\n",
      "    GDX /var/folders/yz/_rxq7zs56y5cnkx3mcnkr7txvxb3pw/T/tmp0_81h8bv/_ae7f6df5-c618-44d5-911e-d86b44aba4d9out.gdx\n",
      "    ResLim 30\n",
      "    SolPrint 0\n",
      "    PreviousWork 1\n",
      "    gdxSymbols newOrChanged\n",
      "Licensee: GAMSPy++ License for Michael C. Ferris         S241003|0002AN-GEN\n",
      "          University of Wisconsin-Madison, Computer Sciences Dept.  DCE3772\n",
      "          /Users/ferris/Library/Application Support/GAMSPy/gamspy_license.txt\n",
      "          License Admin: Michael C. Ferris, ferris@cs.wisc.edu             \n",
      "          Time limited license with GAMSPy usage\n",
      "          Time limited license expiration date is Oct 28, 2025\n",
      "Processor information: 1 socket(s), 14 core(s), and 14 thread(s) available\n",
      "--- Starting compilation\n",
      "--- _ae7f6df5-c618-44d5-911e-d86b44aba4d9.gms(67) 4 Mb\n",
      "--- Starting execution: elapsed 0:00:00.000\n",
      "--- Generating MINLP model qap_nonlinear\n",
      "--- _ae7f6df5-c618-44d5-911e-d86b44aba4d9.gms(125) 6 Mb\n",
      "---   17 rows  65 columns  193 non-zeroes\n",
      "---   13,890 nl-code  64 nl-non-zeroes\n",
      "---   64 discrete-columns\n",
      "--- Range statistics (absolute non-zero finite values)\n",
      "--- RHS       [min, max] : [ 1.000E+00, 1.000E+00] - Zero values observed as well\n",
      "--- Bound     [min, max] : [ 1.000E+00, 1.000E+00] - Zero values observed as well\n",
      "--- Matrix    [min, max] : [ 1.000E+00, 1.000E+00] - Zero values observed as well\n",
      "--- _ae7f6df5-c618-44d5-911e-d86b44aba4d9.gms(125) 4 Mb\n",
      "--- Executing BARON (Solvelink=2): elapsed 0:00:00.003\n",
      "\n",
      "GAMS/BARON       48.1.0 612569ae Oct 14, 2024          DAC arm 64bit/macOS    \n",
      "\n",
      "*** This solver runs with a community license.\n",
      "--- Using Option File\n",
      "Reading parameter(s) from \"/var/folders/yz/_rxq7zs56y5cnkx3mcnkr7txvxb3pw/T/tmp0_81h8bv/baron.opt\"\n",
      ">>  ExtNLPsolver conopt\n",
      "Finished reading from \"/var/folders/yz/_rxq7zs56y5cnkx3mcnkr7txvxb3pw/T/tmp0_81h8bv/baron.opt\"\n",
      "===========================================================================\n",
      " BARON version 24.10.10. Built: OSX-64 Thu Oct 10 23:00:26 EDT 2024\n",
      " Running on machine H7NV71295K.local\n",
      "\n",
      " BARON is a product of The Optimization Firm.\n",
      " For information on BARON, see https://minlp.com/about-baron\n",
      "\n",
      " If you publish work using this software, please cite publications from\n",
      " https://minlp.com/baron-publications, such as: \n",
      "\n",
      " Khajavirad, A. and N. V. Sahinidis,\n",
      " A hybrid LP/NLP paradigm for global optimization relaxations,\n",
      " Mathematical Programming Computation, 10, 383-421, 2018.\n",
      "===========================================================================\n",
      " This BARON run may utilize the following subsolver(s)\n",
      " For LP/MIP/QP: CLP/CBC, ILOG CPLEX                             \n",
      " For NLP: MINOS, SNOPT, External NLP, FILTERSQP\n",
      "===========================================================================\n",
      " Doing local search\n",
      " Preprocessing found feasible solution with value -2312.04\n",
      " Solving bounding LP\n",
      " Starting multi-start local search\n",
      " Preprocessing found feasible solution with value -3258.83\n",
      " Preprocessing found feasible solution with value -3630.77\n",
      " Done with local search\n",
      "===========================================================================\n",
      "  Iteration       Time (s)     Mem   Lower bound     Upper bound   Progress\n",
      "          1           0.52    36MB    -9396.89        -3630.77        1.45%\n",
      "       1806          30.00   676MB    -9396.89        -3630.77      14.13%\n",
      "\n",
      "                    *** Max. allowable time exceeded ***      \n",
      "\n",
      " Wall clock time:                    30.12\n",
      " Total CPU time used:                30.00\n",
      "\n",
      " Total no. of BaR iterations:    1806\n",
      " Best solution found at node:      -1\n",
      " Max. no. of nodes in memory:     723\n",
      "\n",
      " All done\n",
      "===========================================================================\n",
      "\n",
      "Solution      = -3630.77075307628  best solution found during preprocessing\n",
      "Best possible = -9396.89284075072\n",
      "Absolute gap  = 5766.12208767443  optca = 1E-9\n",
      "Relative gap  = 0.613620074783547  optcr = 1E-7\n",
      "\n",
      "--- Reading solution for model qap_nonlinear\n",
      "***\n",
      "*** Solver did not provide marginals for model qap_nonlinear\n",
      "***\n",
      "--- Executing after solve: elapsed 0:00:30.192\n",
      "--- _ae7f6df5-c618-44d5-911e-d86b44aba4d9.gms(129) 4 Mb\n",
      "--- _ae7f6df5-c618-44d5-911e-d86b44aba4d9.gms(187) 4 Mb\n",
      "--- GDX File /var/folders/yz/_rxq7zs56y5cnkx3mcnkr7txvxb3pw/T/tmp0_81h8bv/_ae7f6df5-c618-44d5-911e-d86b44aba4d9out.gdx\n",
      "*** Status: Normal completion\n",
      "--- Job _ae7f6df5-c618-44d5-911e-d86b44aba4d9.gms Stop 10/25/24 09:15:24 elapsed 0:00:30.192\n"
     ]
    },
    {
     "name": "stderr",
     "output_type": "stream",
     "text": [
      "[MODEL - WARNING] The solve was interrupted! Solve status: ResourceInterrupt. For further information, see https://gamspy.readthedocs.io/en/latest/reference/gamspy._model.html#gamspy.SolveStatus.\n"
     ]
    },
    {
     "name": "stdout",
     "output_type": "stream",
     "text": [
      "nonlinear gap = 5766.122087674434\n",
      "time = 30.188000109046698\n",
      "\n"
     ]
    }
   ],
   "source": [
    "options = Options(relative_optimality_gap=1e-7,absolute_optimality_gap=0,seed=612)\n",
    "m = Container(options=options)\n",
    "\n",
    "# DATA\n",
    "L = m.addSet('L',records=[f'i{i+1}' for i in range(0,8)])\n",
    "L1 = m.addAlias('L1',L)\n",
    "L2 = m.addAlias('L2',L)\n",
    "F = m.addSet('F',records=[f'k{i+1}' for i in range(0,8)])\n",
    "F1 = m.addAlias('F1',F)\n",
    "F2 = m.addAlias('F2',F)\n",
    "\n",
    "dist=m.addParameter('dist',domain=[L1,L2],description=\"Distance\")\n",
    "flow=m.addParameter('flow',domain=[F1,F2],description=\"Flow\")\n",
    "xloc=m.addParameter('xloc',domain=[L],description=\"x location\")\n",
    "yloc=m.addParameter('yloc',domain=[L],description=\"y location\")\n",
    "xloc[L] = gpm.uniform(-10,10)\n",
    "yloc[L] = gpm.uniform(-10,10) \n",
    "dist[L1,L2] = gpm.sqrt(gpm.sqr(xloc[L1]-xloc[L2]) + gpm.sqr(yloc[L1]-yloc[L2]))\n",
    "flow[F1,F2] = gpm.Round(gpm.uniform(-50,50))\n",
    "\n",
    "# MODEL\n",
    "\n",
    "x = m.addVariable('x','binary',domain=[F,L])\n",
    " \n",
    "assign_fac = m.addEquation('assign_fac', domain=F) \n",
    "assign_fac[F] = Sum(L, x[F,L]) == 1\n",
    "\n",
    "assign_loc = m.addEquation('assign_loc', domain=L,)\n",
    "assign_loc[:] = Sum(F, x[F,L]) == 1\n",
    "\n",
    "qap_nonlinear = m.addModel('qap_nonlinear',\n",
    "    equations=m.getEquations(),\n",
    "    problem=Problem.MINLP,\n",
    "    sense=Sense.MIN,\n",
    "    objective=Sum([F1,L1,F2,L2], dist[L1,L2]*flow[F1,F2]*x[F1,L1]*x[F2,L2]),\n",
    ")\n",
    "\n",
    "qap_nonlinear.solve(options=Options(time_limit=30),solver=\"baron\",solver_options={'ExtNLPsolver':'conopt'},output=sys.stdout)\n",
    "# qap_nonlinear.solve(options=Options(time_limit=30),output=None)\n",
    "print(f\"nonlinear gap = {qap_nonlinear.objective_value - qap_nonlinear.objective_estimation}\")\n",
    "print(f\"time = {qap_nonlinear.total_solver_time}\\n\")"
   ]
  },
  {
   "cell_type": "code",
   "execution_count": 3,
   "metadata": {
    "slideshow": {
     "slide_type": "slide"
    }
   },
   "outputs": [
    {
     "name": "stdout",
     "output_type": "stream",
     "text": [
      "linear gap = 0.0\n",
      "time = 6.686999788507819\n",
      "\n",
      "linear (aggregate) gap = 0.0\n",
      "time = 6.529000494629145\n",
      "\n"
     ]
    }
   ],
   "source": [
    "# Now do a linear model\n",
    "z = m.addVariable('z','binary',domain=[F1,L1,F2,L2])\n",
    "\n",
    "# If all dist and flow are positive, you don't need trix_1 and trix_2\n",
    "trix_1 = m.addEquation('trix_1', domain=[F1,L1,F2,L2])\n",
    "trix_1[F1,L1,F2,L2]= z[F1,L1,F2,L2] <= x[F1,L1]\n",
    "\n",
    "trix_2 = m.addEquation('trix_2', domain=[F1,L1,F2,L2])\n",
    "trix_2[F1,L1,F2,L2]= z[F1,L1,F2,L2] <= x[F2,L2]\n",
    "\n",
    "trix_3 = m.addEquation('trix_3', domain=[F1,L1,F2,L2])\n",
    "trix_3[F1,L1,F2,L2]= z[F1,L1,F2,L2] >= x[F1,L1] + x[F2,L2] - 1\n",
    "\n",
    "qap_linear = m.addModel('qap_linear',\n",
    "    equations=[assign_fac, assign_loc, trix_1, trix_2, trix_3],\n",
    "    problem=Problem.MIP,\n",
    "    sense=Sense.MIN,\n",
    "    objective=Sum([F1,L1,F2,L2], dist[L1,L2]*flow[F1,F2]*z[F1,L1,F2,L2] ),\n",
    ")\n",
    "\n",
    "# CPLEX is ok, gurobi is best, copt ok on first model\n",
    "qap_linear.solve(options=Options(time_limit=30),solver=\"cplex\",output=None)\n",
    "print(f\"linear gap = {qap_linear.objective_value - qap_linear.objective_estimation}\")\n",
    "print(f\"time = {qap_linear.total_solver_time}\\n\")\n",
    "\n",
    "# Previous model could have z positive with up=1, but following needs z binary\n",
    "trix_4 = m.addEquation('trix_4', domain=[F1,L1,F2,L2])\n",
    "trix_4[F1,L1,F2,L2]= x[F1,L1] + x[F2,L2] >= 2*z[F1,L1,F2,L2]\n",
    "\n",
    "\n",
    "qap_linear = m.addModel('qap_linear',\n",
    "    equations=[assign_fac, assign_loc, trix_3, trix_4],\n",
    "    problem=Problem.MIP,\n",
    "    sense=Sense.MIN,\n",
    "    objective=Sum([F1,L1,F2,L2], dist[L1,L2]*flow[F1,F2]*z[F1,L1,F2,L2] ),\n",
    ")\n",
    "\n",
    "qap_linear.solve(options=Options(time_limit=30),solver=\"cplex\",output=None)\n",
    "print(f\"linear (aggregate) gap = {qap_linear.objective_value - qap_linear.objective_estimation}\")\n",
    "print(f\"time = {qap_linear.total_solver_time}\\n\")"
   ]
  },
  {
   "cell_type": "code",
   "execution_count": null,
   "metadata": {},
   "outputs": [],
   "source": []
  }
 ],
 "metadata": {
  "celltoolbar": "Slideshow",
  "kernelspec": {
   "display_name": "Python 3 (ipykernel)",
   "language": "python",
   "name": "python3"
  },
  "language_info": {
   "codemirror_mode": {
    "name": "ipython",
    "version": 3
   },
   "file_extension": ".py",
   "mimetype": "text/x-python",
   "name": "python",
   "nbconvert_exporter": "python",
   "pygments_lexer": "ipython3",
   "version": "3.12.5"
  }
 },
 "nbformat": 4,
 "nbformat_minor": 4
}
