{
 "cells": [
  {
   "cell_type": "markdown",
   "metadata": {
    "slideshow": {
     "slide_type": "slide"
    }
   },
   "source": [
    "# CS524: Introduction to Optimization Lecture 25\n",
    "\n",
    "# October 30, 2024"
   ]
  },
  {
   "cell_type": "markdown",
   "metadata": {
    "slideshow": {
     "slide_type": "slide"
    }
   },
   "source": [
    "# Job-shop and Job-flow\n",
    "\n",
    "Job-shop Scheduling:  There are m machines and n jobs to be processed.  Each job requires m operations, one on each machine, in a specific order (maybe given by precedence graph), but the order can be different for each job.  Each machine can only process one job at a time.  Various performance evaluation criteria.  Example: Car repair each operator (mechanic) evaluates plus schedules, gets material, etc.\n",
    "\n",
    "Flow-shop Scheduling: A flow-shop is a shop design in which machines are arranged in series. Jobs begin processing on an initial machine, proceed through several intermediary machines, and conclude on a final machine. The series arrangement implies a linear structure to the shop. A general flow-shop is somewhat different, in that a job may skip a particular machine. For instance, although every job must proceed from 1 to N, some jobs may go from machine 1 to, say, machine 3 and then machine 4."
   ]
  },
  {
   "cell_type": "markdown",
   "metadata": {
    "slideshow": {
     "slide_type": "slide"
    }
   },
   "source": [
    "<h2>Example 1 : jobshop</h2>\n",
    "<br>\n",
    "A company has received an order for three types of wallpaper:<br>\n",
    " p1: blue background with yellow patterns<br>\n",
    " p2: green background with blue and yellow patterns<br>\n",
    " p3: yellow background with blue and green patterns<br>\n",
    "Every paper type is produced as a continuous roll of paper that\n",
    "passes through several machines, each printing a different color.\n",
    "The order in which the papers are run through the machines\n",
    "depends on the design of the paper; given in precedence set.\n",
    "The processing times differ and are given in duration table.<br>\n",
    "<h3>Knowing that every machine can only process one wallpaper at a time and that a paper cannot be processed by several machines simultaneously, how should the paper printing be scheduled in order to finish the order as early as possible.</h3>"
   ]
  },
  {
   "cell_type": "code",
   "execution_count": 1,
   "metadata": {
    "slideshow": {
     "slide_type": "skip"
    }
   },
   "outputs": [],
   "source": [
    "import sys\n",
    "import numpy as np\n",
    "\n",
    "import gamspy as gp\n",
    "from gamspy import Sum\n",
    "# import gamspy.math as gpm\n",
    "\n",
    "options = gp.Options(relative_optimality_gap=0)\n",
    "m = gp.Container(options=options)"
   ]
  },
  {
   "cell_type": "code",
   "execution_count": 3,
   "metadata": {
    "slideshow": {
     "slide_type": "slide"
    }
   },
   "outputs": [
    {
     "ename": "GamspyException",
     "evalue": "There was a parameter error. Check /tmp/tmpfb5e6y3l/_4361ce72-6215-4fb0-b3ef-46e3fd6d67b2.lst for more information.",
     "output_type": "error",
     "traceback": [
      "\u001b[0;31m---------------------------------------------------------------------------\u001b[0m",
      "\u001b[0;31mGamspyException\u001b[0m                           Traceback (most recent call last)",
      "Cell \u001b[0;32mIn[3], line 57\u001b[0m\n\u001b[1;32m     47\u001b[0m disjoint2[disjoint[c,i,j]] \u001b[38;5;241m=\u001b[39m (\n\u001b[1;32m     48\u001b[0m     start[c,j] \u001b[38;5;241m+\u001b[39m duration[c,j] \u001b[38;5;241m<\u001b[39m\u001b[38;5;241m=\u001b[39m start[c,i] \u001b[38;5;241m+\u001b[39m M\u001b[38;5;241m*\u001b[39morder[c,i,j] )\n\u001b[1;32m     50\u001b[0m jobshop \u001b[38;5;241m=\u001b[39m gp\u001b[38;5;241m.\u001b[39mModel(m,\u001b[38;5;124m'\u001b[39m\u001b[38;5;124mjobshop\u001b[39m\u001b[38;5;124m'\u001b[39m,\n\u001b[1;32m     51\u001b[0m     equations\u001b[38;5;241m=\u001b[39mm\u001b[38;5;241m.\u001b[39mgetEquations(),\n\u001b[1;32m     52\u001b[0m     problem\u001b[38;5;241m=\u001b[39mgp\u001b[38;5;241m.\u001b[39mProblem\u001b[38;5;241m.\u001b[39mMIP,\n\u001b[1;32m     53\u001b[0m     sense\u001b[38;5;241m=\u001b[39mgp\u001b[38;5;241m.\u001b[39mSense\u001b[38;5;241m.\u001b[39mMIN,\n\u001b[1;32m     54\u001b[0m     objective\u001b[38;5;241m=\u001b[39mfinish\n\u001b[1;32m     55\u001b[0m )\n\u001b[0;32m---> 57\u001b[0m \u001b[43mjobshop\u001b[49m\u001b[38;5;241;43m.\u001b[39;49m\u001b[43msolve\u001b[49m\u001b[43m(\u001b[49m\u001b[43moptions\u001b[49m\u001b[38;5;241;43m=\u001b[39;49m\u001b[43moptions\u001b[49m\u001b[43m,\u001b[49m\u001b[43msolver\u001b[49m\u001b[38;5;241;43m=\u001b[39;49m\u001b[38;5;124;43m\"\u001b[39;49m\u001b[38;5;124;43mgurobi\u001b[39;49m\u001b[38;5;124;43m\"\u001b[39;49m\u001b[43m,\u001b[49m\u001b[43moutput\u001b[49m\u001b[38;5;241;43m=\u001b[39;49m\u001b[38;5;28;43;01mNone\u001b[39;49;00m\u001b[43m)\u001b[49m\n",
      "File \u001b[0;32m~/CS524/venv/lib/python3.10/site-packages/gamspy/_model.py:1143\u001b[0m, in \u001b[0;36mModel.solve\u001b[0;34m(self, solver, options, solver_options, model_instance_options, output, backend, client, load_symbols)\u001b[0m\n\u001b[1;32m   1129\u001b[0m     \u001b[38;5;28;01mreturn\u001b[39;00m \u001b[38;5;28;01mNone\u001b[39;00m\n\u001b[1;32m   1131\u001b[0m runner \u001b[38;5;241m=\u001b[39m backend_factory(\n\u001b[1;32m   1132\u001b[0m     \u001b[38;5;28mself\u001b[39m\u001b[38;5;241m.\u001b[39mcontainer,\n\u001b[1;32m   1133\u001b[0m     options,\n\u001b[0;32m   (...)\u001b[0m\n\u001b[1;32m   1140\u001b[0m     load_symbols,\n\u001b[1;32m   1141\u001b[0m )\n\u001b[0;32m-> 1143\u001b[0m summary \u001b[38;5;241m=\u001b[39m \u001b[43mrunner\u001b[49m\u001b[38;5;241;43m.\u001b[39;49m\u001b[43mrun\u001b[49m\u001b[43m(\u001b[49m\u001b[43m)\u001b[49m\n\u001b[1;32m   1145\u001b[0m \u001b[38;5;28;01mif\u001b[39;00m IS_MIRO_INIT:\n\u001b[1;32m   1146\u001b[0m     \u001b[38;5;28mself\u001b[39m\u001b[38;5;241m.\u001b[39mcontainer\u001b[38;5;241m.\u001b[39m_write_default_gdx_miro()\n",
      "File \u001b[0;32m~/CS524/venv/lib/python3.10/site-packages/gamspy/_backend/local.py:91\u001b[0m, in \u001b[0;36mLocal.run\u001b[0;34m(self)\u001b[0m\n\u001b[1;32m     88\u001b[0m gams_string \u001b[38;5;241m=\u001b[39m \u001b[38;5;28mself\u001b[39m\u001b[38;5;241m.\u001b[39mpreprocess(\u001b[38;5;28mself\u001b[39m\u001b[38;5;241m.\u001b[39mcontainer\u001b[38;5;241m.\u001b[39m_gdx_in)\n\u001b[1;32m     90\u001b[0m \u001b[38;5;66;03m# Run the model\u001b[39;00m\n\u001b[0;32m---> 91\u001b[0m \u001b[38;5;28;43mself\u001b[39;49m\u001b[38;5;241;43m.\u001b[39;49m\u001b[43mexecute_gams\u001b[49m\u001b[43m(\u001b[49m\u001b[43mgams_string\u001b[49m\u001b[43m)\u001b[49m\n\u001b[1;32m     93\u001b[0m \u001b[38;5;66;03m# Synchronize GAMSPy with checkpoint and return a summary\u001b[39;00m\n\u001b[1;32m     94\u001b[0m summary \u001b[38;5;241m=\u001b[39m \u001b[38;5;28mself\u001b[39m\u001b[38;5;241m.\u001b[39mpostprocess()\n",
      "File \u001b[0;32m~/CS524/venv/lib/python3.10/site-packages/gamspy/_backend/local.py:124\u001b[0m, in \u001b[0;36mLocal.execute_gams\u001b[0;34m(self, gams_string)\u001b[0m\n\u001b[1;32m    117\u001b[0m     message \u001b[38;5;241m=\u001b[39m _customize_exception(\n\u001b[1;32m    118\u001b[0m         \u001b[38;5;28mself\u001b[39m\u001b[38;5;241m.\u001b[39moptions,\n\u001b[1;32m    119\u001b[0m         \u001b[38;5;28mself\u001b[39m\u001b[38;5;241m.\u001b[39mjob_name,\n\u001b[1;32m    120\u001b[0m         exception\u001b[38;5;241m.\u001b[39mreturn_code,\n\u001b[1;32m    121\u001b[0m     )\n\u001b[1;32m    123\u001b[0m     exception\u001b[38;5;241m.\u001b[39margs \u001b[38;5;241m=\u001b[39m (exception\u001b[38;5;241m.\u001b[39mmessage \u001b[38;5;241m+\u001b[39m message,)\n\u001b[0;32m--> 124\u001b[0m     \u001b[38;5;28;01mraise\u001b[39;00m exception\n\u001b[1;32m    125\u001b[0m \u001b[38;5;28;01mfinally\u001b[39;00m:\n\u001b[1;32m    126\u001b[0m     \u001b[38;5;28mself\u001b[39m\u001b[38;5;241m.\u001b[39mcontainer\u001b[38;5;241m.\u001b[39m_unsaved_statements \u001b[38;5;241m=\u001b[39m []\n",
      "File \u001b[0;32m~/CS524/venv/lib/python3.10/site-packages/gamspy/_backend/local.py:111\u001b[0m, in \u001b[0;36mLocal.execute_gams\u001b[0;34m(self, gams_string)\u001b[0m\n\u001b[1;32m    109\u001b[0m \u001b[38;5;28;01mtry\u001b[39;00m:\n\u001b[1;32m    110\u001b[0m     \u001b[38;5;28mself\u001b[39m\u001b[38;5;241m.\u001b[39mcontainer\u001b[38;5;241m.\u001b[39m_job \u001b[38;5;241m=\u001b[39m \u001b[38;5;28mself\u001b[39m\u001b[38;5;241m.\u001b[39mjob_name\n\u001b[0;32m--> 111\u001b[0m     \u001b[38;5;28;43mself\u001b[39;49m\u001b[38;5;241;43m.\u001b[39;49m\u001b[43mcontainer\u001b[49m\u001b[38;5;241;43m.\u001b[39;49m\u001b[43m_send_job\u001b[49m\u001b[43m(\u001b[49m\u001b[38;5;28;43mself\u001b[39;49m\u001b[38;5;241;43m.\u001b[39;49m\u001b[43mjob_name\u001b[49m\u001b[43m,\u001b[49m\u001b[43m \u001b[49m\u001b[38;5;28;43mself\u001b[39;49m\u001b[38;5;241;43m.\u001b[39;49m\u001b[43mpf_file\u001b[49m\u001b[43m,\u001b[49m\u001b[43m \u001b[49m\u001b[38;5;28;43mself\u001b[39;49m\u001b[38;5;241;43m.\u001b[39;49m\u001b[43moutput\u001b[49m\u001b[43m)\u001b[49m\n\u001b[1;32m    113\u001b[0m     \u001b[38;5;28;01mif\u001b[39;00m \u001b[38;5;129;01mnot\u001b[39;00m \u001b[38;5;28mself\u001b[39m\u001b[38;5;241m.\u001b[39mis_async() \u001b[38;5;129;01mand\u001b[39;00m \u001b[38;5;28mself\u001b[39m\u001b[38;5;241m.\u001b[39mmodel:\n\u001b[1;32m    114\u001b[0m         \u001b[38;5;28mself\u001b[39m\u001b[38;5;241m.\u001b[39mmodel\u001b[38;5;241m.\u001b[39m_update_model_attributes()\n",
      "File \u001b[0;32m~/CS524/venv/lib/python3.10/site-packages/gamspy/_container.py:381\u001b[0m, in \u001b[0;36mContainer._send_job\u001b[0;34m(self, job_name, pf_file, output)\u001b[0m\n\u001b[1;32m    378\u001b[0m     \u001b[38;5;28mself\u001b[39m\u001b[38;5;241m.\u001b[39m_stop_socket()\n\u001b[1;32m    379\u001b[0m     \u001b[38;5;28;01mreturn\u001b[39;00m\n\u001b[0;32m--> 381\u001b[0m \u001b[43mcheck_response\u001b[49m\u001b[43m(\u001b[49m\u001b[43mresponse\u001b[49m\u001b[43m,\u001b[49m\u001b[43m \u001b[49m\u001b[43mjob_name\u001b[49m\u001b[43m)\u001b[49m\n",
      "File \u001b[0;32m~/CS524/venv/lib/python3.10/site-packages/gamspy/_container.py:181\u001b[0m, in \u001b[0;36mcheck_response\u001b[0;34m(response, job_name)\u001b[0m\n\u001b[1;32m    179\u001b[0m \u001b[38;5;28;01mexcept\u001b[39;00m \u001b[38;5;167;01mIndexError\u001b[39;00m:\n\u001b[1;32m    180\u001b[0m     info \u001b[38;5;241m=\u001b[39m \u001b[38;5;124m\"\u001b[39m\u001b[38;5;124m\"\u001b[39m\n\u001b[0;32m--> 181\u001b[0m \u001b[38;5;28;01mraise\u001b[39;00m GamspyException(\n\u001b[1;32m    182\u001b[0m     \u001b[38;5;124mf\u001b[39m\u001b[38;5;124m'\u001b[39m\u001b[38;5;132;01m{\u001b[39;00minfo\u001b[38;5;132;01m}\u001b[39;00m\u001b[38;5;124m Check \u001b[39m\u001b[38;5;132;01m{\u001b[39;00mjob_name\u001b[38;5;250m \u001b[39m\u001b[38;5;241m+\u001b[39m\u001b[38;5;250m \u001b[39m\u001b[38;5;124m\"\u001b[39m\u001b[38;5;124m.lst\u001b[39m\u001b[38;5;124m\"\u001b[39m\u001b[38;5;132;01m}\u001b[39;00m\u001b[38;5;124m for more information.\u001b[39m\u001b[38;5;124m'\u001b[39m,\n\u001b[1;32m    183\u001b[0m     return_code,\n\u001b[1;32m    184\u001b[0m )\n",
      "\u001b[0;31mGamspyException\u001b[0m: There was a parameter error. Check /tmp/tmpfb5e6y3l/_4361ce72-6215-4fb0-b3ef-46e3fd6d67b2.lst for more information."
     ]
    }
   ],
   "source": [
    "i = gp.Set(m,'i',description='paper',records=[f'p{ind+1}' for ind in range(3)])\n",
    "j = gp.Alias(m,'j',i)\n",
    "c = gp.Set(m,'c',description='mach',\n",
    "    records=['blue','green','yellow'])\n",
    "d = gp.Alias(m,'d',c)\n",
    "\n",
    "duration = gp.Parameter(m,'duration',domain=[c,i],\n",
    "    records=np.array([\n",
    "        [45,   20,   12],\n",
    "        [0,    10,   17],\n",
    "        [10,   34,   28]]))\n",
    "\n",
    "task = gp.Set(m,'task',domain=[c,i])\n",
    "task.setRecords(duration.records)\n",
    "\n",
    "precedence = gp.Set(m,'precedence',domain=[c,d,i], \n",
    "  records = [('blue','yellow','p1'),\n",
    "      ('green','blue','p2'), ('blue','yellow','p2'),\n",
    "      ('yellow','blue','p3'), ('blue','green','p3')])\n",
    "\n",
    "# The following set will enforce paper i and j not to be done \n",
    "# on the same machine at the same time\n",
    "disjoint = gp.Set(m,'disjoint',domain=[c,i,j])\n",
    "disjoint[c,i,j] = gp.Number(1).where[(i.ord < j.ord) &\n",
    "  task[c,i] & task[c,j]]\n",
    "\n",
    "M = gp.Parameter(m,'M')\n",
    "M[:] = Sum(task,duration[task])\n",
    "\n",
    "# MODEL\n",
    "order = gp.Variable(m,'order','binary',domain=[c,i,j],description=\"task(m,i) before task(m,j)\")\n",
    "start = gp.Variable(m,'start','positive',domain=[c,i],description=\"start time of task\")\n",
    "finish = gp.Variable(m,'finish','free',description='finish time of last task')\n",
    "\n",
    "defstart = gp.Equation(m,'defstart', domain=[c,d,i], description='paper visits machines c, d in precedence order')\n",
    "defstart[precedence[c,d,i]] = start[c,i] + duration[c,i] <= start[d,i]\n",
    "\n",
    "deffinish = gp.Equation(m,'deffinish', domain=[c,i])\n",
    "deffinish[task] = finish >= start[task] + duration[task]\n",
    "\n",
    "# The following are either-or constraints, for each c, do paper i or paper j\n",
    "disjoint1 = gp.Equation(m,'disjoint1', domain=[c,i,j], description='paper i before paper j on c')\n",
    "disjoint1[disjoint[c,i,j]] = (\n",
    "    start[c,i] + duration[c,i] <= start[c,j] + M*(1-order[c,i,j]) )\n",
    "\n",
    "disjoint2 = gp.Equation(m,'disjoint2', domain=[c,i,j], description='paper j before paper i on c')\n",
    "disjoint2[disjoint[c,i,j]] = (\n",
    "    start[c,j] + duration[c,j] <= start[c,i] + M*order[c,i,j] )\n",
    "\n",
    "jobshop = gp.Model(m,'jobshop',\n",
    "    equations=m.getEquations(),\n",
    "    problem=gp.Problem.MIP,\n",
    "    sense=gp.Sense.MIN,\n",
    "    objective=finish\n",
    ")\n",
    "\n",
    "jobshop.solve(options=options,solver=\"gurobi\",output=None)"
   ]
  },
  {
   "cell_type": "code",
   "execution_count": 16,
   "metadata": {
    "slideshow": {
     "slide_type": "slide"
    }
   },
   "outputs": [
    {
     "name": "stdout",
     "output_type": "stream",
     "text": [
      "Finish time of last task: 97.0\n"
     ]
    },
    {
     "data": {
      "text/html": [
       "<div>\n",
       "<style scoped>\n",
       "    .dataframe tbody tr th:only-of-type {\n",
       "        vertical-align: middle;\n",
       "    }\n",
       "\n",
       "    .dataframe tbody tr th {\n",
       "        vertical-align: top;\n",
       "    }\n",
       "\n",
       "    .dataframe thead th {\n",
       "        text-align: right;\n",
       "    }\n",
       "</style>\n",
       "<table border=\"1\" class=\"dataframe\">\n",
       "  <thead>\n",
       "    <tr style=\"text-align: right;\">\n",
       "      <th></th>\n",
       "      <th>p1</th>\n",
       "      <th>p2</th>\n",
       "      <th>p3</th>\n",
       "    </tr>\n",
       "  </thead>\n",
       "  <tbody>\n",
       "    <tr>\n",
       "      <th>blue</th>\n",
       "      <td>42.0</td>\n",
       "      <td>10.0</td>\n",
       "      <td>30.0</td>\n",
       "    </tr>\n",
       "    <tr>\n",
       "      <th>green</th>\n",
       "      <td>0.0</td>\n",
       "      <td>0.0</td>\n",
       "      <td>42.0</td>\n",
       "    </tr>\n",
       "    <tr>\n",
       "      <th>yellow</th>\n",
       "      <td>87.0</td>\n",
       "      <td>30.0</td>\n",
       "      <td>0.0</td>\n",
       "    </tr>\n",
       "  </tbody>\n",
       "</table>\n",
       "</div>"
      ],
      "text/plain": [
       "          p1    p2    p3\n",
       "blue    42.0  10.0  30.0\n",
       "green    0.0   0.0  42.0\n",
       "yellow  87.0  30.0   0.0"
      ]
     },
     "metadata": {},
     "output_type": "display_data"
    },
    {
     "name": "stdout",
     "output_type": "stream",
     "text": [
      "        c   i  level  marginal  lower  upper  scale\n",
      "0    blue  p1   42.0       0.0    0.0    inf    1.0\n",
      "1    blue  p2   10.0       0.0    0.0    inf    1.0\n",
      "2    blue  p3   30.0       0.0    0.0    inf    1.0\n",
      "3   green  p2    0.0       1.0    0.0    inf    1.0\n",
      "4   green  p3   42.0       0.0    0.0    inf    1.0\n",
      "5  yellow  p1   87.0       0.0    0.0    inf    1.0\n",
      "6  yellow  p2   30.0       0.0    0.0    inf    1.0\n",
      "7  yellow  p3    0.0      -0.0    0.0    inf    1.0\n"
     ]
    }
   ],
   "source": [
    "print(f\"Finish time of last task: {jobshop.objective_value}\")\n",
    "\n",
    "display(start.pivot(fill_value=''))"
   ]
  },
  {
   "cell_type": "markdown",
   "metadata": {
    "slideshow": {
     "slide_type": "slide"
    }
   },
   "source": [
    "<h2>Example 2: flowshop</h2>\n",
    "\n",
    "See separate workbook: dyeing example"
   ]
  },
  {
   "cell_type": "markdown",
   "metadata": {
    "slideshow": {
     "slide_type": "slide"
    }
   },
   "source": [
    "## Additional Reading\n",
    "This link is an article that provides a case study of job shop scheduling optimization in real-time production control to provide context outside the classroom:\n",
    "https://www-sciencedirect-com.ezproxy.library.wisc.edu/science/article/pii/0166361583900064"
   ]
  }
 ],
 "metadata": {
  "celltoolbar": "Slideshow",
  "kernelspec": {
   "display_name": "venv",
   "language": "python",
   "name": "python3"
  },
  "language_info": {
   "codemirror_mode": {
    "name": "ipython",
    "version": 3
   },
   "file_extension": ".py",
   "mimetype": "text/x-python",
   "name": "python",
   "nbconvert_exporter": "python",
   "pygments_lexer": "ipython3",
   "version": "3.10.12"
  }
 },
 "nbformat": 4,
 "nbformat_minor": 4
}
