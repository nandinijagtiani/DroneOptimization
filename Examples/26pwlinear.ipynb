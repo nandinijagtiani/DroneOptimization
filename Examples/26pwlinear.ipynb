{
 "cells": [
  {
   "cell_type": "markdown",
   "metadata": {
    "colab_type": "text",
    "id": "Dw4FEoTCSSCc"
   },
   "source": [
    "CS524: Introduction to Optimization Lecture 26\n",
    "======================================\n",
    "\n",
    "## November 1, 2024"
   ]
  },
  {
   "cell_type": "markdown",
   "metadata": {
    "colab_type": "text",
    "id": "E1IcEYrRSSCe"
   },
   "source": [
    "## Piecewise Linear Cost Functions\n",
    "\n",
    "We can use binary variables to model arbitrary piecewise linear functions.\n",
    "\n",
    "The function is nonconvex in general, and is specified by ordered pairs $(B_i,f(B_i))$.\n",
    "\n",
    "Intuitively, one can consider the endpoints of segments as \"breakpoints\" and the segments themselves as \"pieces,\" with there being one more breakpoint than piece.\n",
    "\n",
    "<img src=\"./images/piecewise-linear.png\" width=\"500\">\n"
   ]
  },
  {
   "cell_type": "code",
   "execution_count": 1,
   "metadata": {},
   "outputs": [],
   "source": [
    "import sys\n",
    "import numpy as np\n",
    "\n",
    "from gamspy import Container, Problem, Sense, Sum, Smin, Domain, Card, Options, Number, Ord\n",
    "import gamspy.math as gpm"
   ]
  },
  {
   "cell_type": "markdown",
   "metadata": {
    "colab_type": "text",
    "id": "CbfCuTAFSSCk"
   },
   "source": [
    "## Purchase Example\n",
    "\n",
    "**FEATURES**:\n",
    "\n",
    "MIP problem, modeling a piecewise linear function with binaries, graphical representation of data\n",
    "\n",
    "**DESCRIPTION:**  \n",
    "\n",
    "There are three suppliers of a good, and they have quoted\n",
    "                 various prices for various quantities of product. We want\n",
    "                 to buy at least total cost, yet not buy too much from any\n",
    "                 one supplier. Each supplier offers decreasing prices for\n",
    "                 increased lot size, in the form of incremental discounts.\n",
    "                 We wish to buy 600 items in total.\n",
    "\n",
    "* Note that this model has a non-zero fixed cost that is applied for all suppliers\n",
    "* The purchase model doesn't apply this if the unit is not used\n",
    "\n"
   ]
  },
  {
   "cell_type": "markdown",
   "metadata": {
    "colab_type": "text",
    "id": "-PfNpbTrSSCj"
   },
   "source": [
    "## Definition of Sets and Parameters\n",
    "\n",
    "- $S$: Set of suppliers\n",
    "- $I$: Set of cost breakpoints\n",
    "- $B_{si}$: Maximum number of items from supplier $s \\in S$ to purchase at breakpoint $i \\in I$\n",
    "- $CBR_{si}$: Cost of item from supplier $s \\in S$ at breakpoint $i \\in I$\n",
    "- $R$: Number of purchase\n",
    "- $\\alpha_s$: Maximum percentage to purchase from any supplier"
   ]
  },
  {
   "cell_type": "code",
   "execution_count": 2,
   "metadata": {
    "colab": {},
    "colab_type": "code",
    "id": "YD7DA1XZS9Qk"
   },
   "outputs": [],
   "source": [
    "class arguments:\n",
    "  def __init__(self, big=False, fcost=False, solver='cplex', sos1='binary'):\n",
    "    self.big = big\n",
    "    self.fcost = fcost\n",
    "    self.solver = solver\n",
    "    self.sos1 = sos1\n",
    "    self.NB = 480\n",
    "    self.NS = 140\n",
    "\n",
    "args = arguments(big=True,fcost=True)\n",
    "\n",
    "options = Options(relative_optimality_gap=1e-6,threads=3,seed=666)\n",
    "cont = Container(options=options)\n",
    "\n",
    "if args.big:\n",
    "    i = cont.addSet('i',description='price break points',records=range(0,args.NB+1))\n",
    "    seg = cont.addSet('seg',domain=[i],description='price break segments',records=range(1,args.NB+1))\n",
    "    s = cont.addSet('s',description='Suppliers',records=[f\"s{ind+1}\" for ind in range(0,args.NS)])\n",
    "\n",
    "    CBR = cont.addParameter('CBR',domain=[s,i],description='Total cost at break points')\n",
    "    B = cont.addParameter('BR',domain=[s,i],description='Breakpoints (quantities at which unit cost changes)')\n",
    "\n",
    "    # generate random values for CBR and B\n",
    "    BSIZE = cont.addParameter('BSIZE')\n",
    "    BSIZE[:] = gpm.Round(gpm.uniform(1,4))\n",
    "    BASECOST = cont.addParameter('BASECOST',domain=[s],description='base Unit cost')\n",
    "    BASECOST[s] = gpm.uniform(10,12)\n",
    "    BASEBREAK = cont.addParameter('BASEBREAK',domain=[s],description='base break level')\n",
    "    BASEBREAK[s] = gpm.Round(gpm.uniform(50,150))\n",
    "    # generate function values at 0, and slopes for segments\n",
    "    CBR[s,i] = BASECOST[s] * (gpm.uniform(-1,1)+gpm.power(gpm.uniform(0.85,0.95), i.ord-1))\n",
    "    B[s,i].where[i.ord>=2] = BASEBREAK[s]*BSIZE*(i.ord-1) + BASEBREAK[s]*BSIZE*gpm.uniform(0.9,1.1)\n",
    "    for ind in seg.toList():\n",
    "        # on rhs CBR[s,i] are the segment slopes\n",
    "        CBR[s,i].where[i.val == ind] = CBR[s,i.lag(1)] + CBR[s,i]*(B[s,i]-B[s,i.lag(1)])\n",
    "            \n",
    "    ALPHA=cont.addParameter('ALPHA',domain=[s],description='Maximum percentages for each supplier')\n",
    "    ALPHA[s] = 10*gpm.Round(gpm.uniform(100,250)/Card(s))/100\n",
    "    R = cont.addParameter('REQ', description='Total quantity required')\n",
    "    R[:] = Sum(Domain(s,i).where[i.ord==gpm.Round(Card(i)/2)], B[s,i])/Card(s)\n",
    "else:\n",
    "    i = cont.addSet('i',description='price break points',records=range(0,4))\n",
    "    seg = cont.addSet('seg',domain=[i],description='price break segments',records=range(1,4))\n",
    "    s = cont.addSet('s',description='Suppliers',records=[f\"s{ind+1}\" for ind in range(0,3)])\n",
    "\n",
    "    CBR = cont.addParameter('CBR',domain=[s,i],description='Total cost at break points',records=np.array([\n",
    "        [30.0000,    950.0000,   1850.0000,   7450.0000],\n",
    "        [ 8.0000,    458.0000,   2158.0000,  16683.0000],\n",
    "        [10.0000,   1110.0000,   2810.0000,  30560.0000 ]]) )\n",
    "    B = cont.addParameter('BR',domain=[s,i],description='Breakpoints (quantities at which unit cost changes)',records=np.array([\n",
    "        [0, 100, 200, 1000],\n",
    "        [0,  50, 250, 2000],\n",
    "        [0, 100, 300, 4000]]))\n",
    "\n",
    "    ALPHA=cont.addParameter('ALPHA',domain=[s],description='Maximum percentages for each supplier',\n",
    "        records=[('s1', 0.60), ('s2', 0.45), ('s3', 0.60)])\n",
    "    R = cont.addParameter('REQ', description='Total quantity required', records=600)"
   ]
  },
  {
   "cell_type": "markdown",
   "metadata": {
    "colab_type": "text",
    "id": "m9pNSBEPUJ3v"
   },
   "source": [
    "Compute the slope and intercept values for all segments"
   ]
  },
  {
   "cell_type": "code",
   "execution_count": 3,
   "metadata": {},
   "outputs": [],
   "source": [
    "# Convert data to needed format\n",
    "m = cont.addParameter('m',domain=[s,i],description='gradient on segment')\n",
    "m[s,i].where[seg[i]] = (CBR[s,i]-CBR[s,i.lag(1)])/(B[s,i]-B[s,i.lag(1)])\n",
    "\n",
    "c = cont.addParameter('c',domain=[s,i],description='intercept cost on segment')\n",
    "c[s,i].where[seg[i]] = CBR[s,i.lag(1)] - m[s,i]*B[s,i.lag(1)]"
   ]
  },
  {
   "cell_type": "markdown",
   "metadata": {
    "colab_type": "text",
    "id": "VR0cUFUPXQZE"
   },
   "source": [
    "Modeling the constraints in GAMSPy:"
   ]
  },
  {
   "cell_type": "code",
   "execution_count": 4,
   "metadata": {},
   "outputs": [
    {
     "data": {
      "text/html": [
       "<div>\n",
       "<style scoped>\n",
       "    .dataframe tbody tr th:only-of-type {\n",
       "        vertical-align: middle;\n",
       "    }\n",
       "\n",
       "    .dataframe tbody tr th {\n",
       "        vertical-align: top;\n",
       "    }\n",
       "\n",
       "    .dataframe thead th {\n",
       "        text-align: right;\n",
       "    }\n",
       "</style>\n",
       "<table border=\"1\" class=\"dataframe\">\n",
       "  <thead>\n",
       "    <tr style=\"text-align: right;\">\n",
       "      <th></th>\n",
       "      <th>Solver Status</th>\n",
       "      <th>Model Status</th>\n",
       "      <th>Objective</th>\n",
       "      <th>Num of Equations</th>\n",
       "      <th>Num of Variables</th>\n",
       "      <th>Model Type</th>\n",
       "      <th>Solver</th>\n",
       "      <th>Solver Time</th>\n",
       "    </tr>\n",
       "  </thead>\n",
       "  <tbody>\n",
       "    <tr>\n",
       "      <th>0</th>\n",
       "      <td>Normal</td>\n",
       "      <td>OptimalGlobal</td>\n",
       "      <td>14109.2889431449</td>\n",
       "      <td>134682</td>\n",
       "      <td>134681</td>\n",
       "      <td>MIP</td>\n",
       "      <td>CPLEX</td>\n",
       "      <td>0.212</td>\n",
       "    </tr>\n",
       "  </tbody>\n",
       "</table>\n",
       "</div>"
      ],
      "text/plain": [
       "  Solver Status   Model Status         Objective Num of Equations  \\\n",
       "0        Normal  OptimalGlobal  14109.2889431449           134682   \n",
       "\n",
       "  Num of Variables Model Type Solver Solver Time  \n",
       "0           134681        MIP  CPLEX       0.212  "
      ]
     },
     "execution_count": 4,
     "metadata": {},
     "output_type": "execute_result"
    }
   ],
   "source": [
    "# MODEL\n",
    "\n",
    "x = cont.addVariable('x','positive',domain=[s],description='Quantity to purchase from supplier s')\n",
    "b = cont.addVariable('b',args.sos1,domain=[s,i],description='use piece for supplier')\n",
    "z = cont.addVariable('z','binary',domain=[s],description='use supplier s')\n",
    "w = cont.addVariable('w','free',domain=[s,i],description= 'x values in segment k for supplier s')\n",
    "\n",
    "# Define buy and also order the weight variables by breakpoint quantities\n",
    "defbuy = cont.addEquation('defbuy',domain=[s])\n",
    "defbuy[s]= Sum(seg[i], w[s,i]) == x[s]\n",
    "\n",
    "wlo = cont.addEquation('wlo',domain=[s,i])\n",
    "wlo[s,seg[i]]= B[s,i.lag(1)]*b[s,i] <= w[s,i]\n",
    "\n",
    "wup = cont.addEquation('wup',domain=[s,i])\n",
    "wup[s,seg[i]]= w[s,i] <= B[s,i]*b[s,i]\n",
    "\n",
    "# The convexity row (b sum to 1)\n",
    "OnePiece = cont.addEquation('OnePiece',domain=[s])\n",
    "if args.fcost:\n",
    "    OnePiece[s]= Sum(seg[i], b[s,i]) == z[s]\n",
    "else:\n",
    "    OnePiece[s]= Sum(seg[i], b[s,i]) == 1\n",
    "\n",
    "# The minimum quantity that must be bought\n",
    "Demand = cont.addEquation('Demand')\n",
    "Demand[:] = Sum(s, x[s]) >= R\n",
    "\n",
    "purchase = cont.addModel('purchase',\n",
    "    equations=cont.getEquations(),\n",
    "    problem=Problem.MIP,\n",
    "    sense=Sense.MIN,\n",
    "    objective=Sum([s,seg[i]], c[s,i]*b[s,i] + m[s,i]*w[s,i])\n",
    ")\n",
    "\n",
    "# No more than the maximum percentage from each supplier\n",
    "x.up[s] = ALPHA[s]*R\n",
    "\n",
    "purchase.solve(solver=args.solver,output=None)"
   ]
  },
  {
   "cell_type": "code",
   "execution_count": 5,
   "metadata": {},
   "outputs": [
    {
     "name": "stdout",
     "output_type": "stream",
     "text": [
      "Cost = 14109.288943144893, time = 0.3210000693798065\n",
      "Use segment =\n",
      "         1    2    3    4    5    6    7    8    9   10  ...  471  472  473  \\\n",
      "s1    0.0  0.0  0.0  0.0  0.0  0.0  0.0  0.0  0.0  0.0  ...  0.0  0.0  0.0   \n",
      "s2    0.0  0.0  0.0  0.0  0.0  0.0  0.0  0.0  0.0  0.0  ...  0.0  0.0  0.0   \n",
      "s3    0.0  0.0  0.0  0.0  0.0  0.0  0.0  0.0  0.0  0.0  ...  0.0  0.0  0.0   \n",
      "s4    0.0  0.0  0.0  0.0  0.0  0.0  0.0  0.0  0.0  0.0  ...  0.0  0.0  0.0   \n",
      "s5    0.0  0.0  0.0  0.0  0.0  0.0  0.0  0.0  0.0  0.0  ...  0.0  0.0  0.0   \n",
      "...   ...  ...  ...  ...  ...  ...  ...  ...  ...  ...  ...  ...  ...  ...   \n",
      "s136  0.0  0.0  0.0  0.0  0.0  0.0  0.0  0.0  0.0  0.0  ...  0.0  0.0  0.0   \n",
      "s137  0.0  0.0  0.0  0.0  0.0  0.0  0.0  0.0  0.0  0.0  ...  0.0  0.0  0.0   \n",
      "s138  0.0  0.0  0.0  0.0  0.0  0.0  0.0  0.0  0.0  0.0  ...  0.0  0.0  0.0   \n",
      "s139  0.0  0.0  0.0  0.0  0.0  0.0  0.0  0.0  0.0  0.0  ...  0.0  0.0  0.0   \n",
      "s140  0.0  0.0  0.0  0.0  0.0  0.0  0.0  0.0  0.0  0.0  ...  0.0  0.0  0.0   \n",
      "\n",
      "      474  475  476  477  478  479  480  \n",
      "s1    0.0  0.0  0.0  0.0  0.0  0.0  0.0  \n",
      "s2    0.0  0.0  0.0  0.0  0.0  0.0  0.0  \n",
      "s3    0.0  0.0  0.0  0.0  0.0  0.0  0.0  \n",
      "s4    0.0  0.0  0.0  0.0  0.0  0.0  0.0  \n",
      "s5    0.0  0.0  0.0  0.0  0.0  0.0  0.0  \n",
      "...   ...  ...  ...  ...  ...  ...  ...  \n",
      "s136  0.0  0.0  0.0  0.0  0.0  0.0  0.0  \n",
      "s137  0.0  0.0  0.0  0.0  0.0  0.0  0.0  \n",
      "s138  0.0  0.0  0.0  0.0  0.0  0.0  0.0  \n",
      "s139  0.0  0.0  0.0  0.0  0.0  0.0  0.0  \n",
      "s140  0.0  0.0  0.0  0.0  0.0  0.0  0.0  \n",
      "\n",
      "[140 rows x 480 columns]\n",
      "w =\n",
      "         1    2    3    4    5    6    7    8    9   10  ...  471  472  473  \\\n",
      "s1    0.0  0.0  0.0  0.0  0.0  0.0  0.0  0.0  0.0  0.0  ...  0.0  0.0  0.0   \n",
      "s2    0.0  0.0  0.0  0.0  0.0  0.0  0.0  0.0  0.0  0.0  ...  0.0  0.0  0.0   \n",
      "s3    0.0  0.0  0.0  0.0  0.0  0.0  0.0  0.0  0.0  0.0  ...  0.0  0.0  0.0   \n",
      "s4    0.0  0.0  0.0  0.0  0.0  0.0  0.0  0.0  0.0  0.0  ...  0.0  0.0  0.0   \n",
      "s5    0.0  0.0  0.0  0.0  0.0  0.0  0.0  0.0  0.0  0.0  ...  0.0  0.0  0.0   \n",
      "...   ...  ...  ...  ...  ...  ...  ...  ...  ...  ...  ...  ...  ...  ...   \n",
      "s136  0.0  0.0  0.0  0.0  0.0  0.0  0.0  0.0  0.0  0.0  ...  0.0  0.0  0.0   \n",
      "s137  0.0  0.0  0.0  0.0  0.0  0.0  0.0  0.0  0.0  0.0  ...  0.0  0.0  0.0   \n",
      "s138  0.0  0.0  0.0  0.0  0.0  0.0  0.0  0.0  0.0  0.0  ...  0.0  0.0  0.0   \n",
      "s139  0.0  0.0  0.0  0.0  0.0  0.0  0.0  0.0  0.0  0.0  ...  0.0  0.0  0.0   \n",
      "s140  0.0  0.0  0.0  0.0  0.0  0.0  0.0  0.0  0.0  0.0  ...  0.0  0.0  0.0   \n",
      "\n",
      "      474  475  476  477  478  479  480  \n",
      "s1    0.0  0.0  0.0  0.0  0.0  0.0  0.0  \n",
      "s2    0.0  0.0  0.0  0.0  0.0  0.0  0.0  \n",
      "s3    0.0  0.0  0.0  0.0  0.0  0.0  0.0  \n",
      "s4    0.0  0.0  0.0  0.0  0.0  0.0  0.0  \n",
      "s5    0.0  0.0  0.0  0.0  0.0  0.0  0.0  \n",
      "...   ...  ...  ...  ...  ...  ...  ...  \n",
      "s136  0.0  0.0  0.0  0.0  0.0  0.0  0.0  \n",
      "s137  0.0  0.0  0.0  0.0  0.0  0.0  0.0  \n",
      "s138  0.0  0.0  0.0  0.0  0.0  0.0  0.0  \n",
      "s139  0.0  0.0  0.0  0.0  0.0  0.0  0.0  \n",
      "s140  0.0  0.0  0.0  0.0  0.0  0.0  0.0  \n",
      "\n",
      "[140 rows x 480 columns]\n",
      "Use supplier =\n",
      "         s  level\n",
      "0      s1    0.0\n",
      "1      s2    1.0\n",
      "2      s3    0.0\n",
      "3      s4    1.0\n",
      "4      s5    0.0\n",
      "..    ...    ...\n",
      "135  s136    0.0\n",
      "136  s137    0.0\n",
      "137  s138    0.0\n",
      "138  s139    0.0\n",
      "139  s140    0.0\n",
      "\n",
      "[140 rows x 2 columns]\n"
     ]
    }
   ],
   "source": [
    "print(f\"Cost = {purchase.objective_value}, time = {purchase.total_solver_time}\")\n",
    "print(f\"Use segment =\\n {b.pivot()}\\nw =\\n {w.pivot()}\")\n",
    "if args.fcost:\n",
    "    print(f\"Use supplier =\\n {z.l.records}\")"
   ]
  },
  {
   "attachments": {},
   "cell_type": "markdown",
   "metadata": {
    "colab_type": "text",
    "id": "psA2aXPzSSCp"
   },
   "source": [
    "## Infinite domains\n",
    "\n",
    "We explain this approximation for a function $f$ of a single variable $x$. The piecewise-linear function is described by a collection of segments $\\mathcal{S}$. In the case where the domain of the function is an unbounded set, or the function is not continuous, the segment approach has proven effective. Each segment $i$ has an $(B_i,f_i)$ coordinate point, a (potentially infinite) length $l_i$, and a slope $m_i$, the rate of increase or decrease of the function from $(B_i,f_i)$.\n",
    "\n",
    "<img src=\"images/piecewise-linear.png\" width=\"500\">\n",
    "\n",
    "The sign of the $l_i$ determines if the segment expands to the left (negative length) or the right (positive length) of the $(B_i,f_i)$ point. These segment definitions allow more than pure piecewise-linear functions.  Segments can overlap, meaning we can have multi-valued functions, and there can be holes in the $x$ coordinate space. There is also no order requirement of the segment $B_i$ coordinates.\n",
    "\n",
    "Each segment has two variables associated with it. The first is a binary\n",
    "variable $b_i$ that chooses the segment to be used. In order that we have a single value for the function at $x$, only one segment can be active, which is modeled using:\n",
    "$$\\sum_{i \\in \\mathcal{S}} b_i = 1.$$\n",
    "The other segment variable is a nonnegative variable $\\lambda_i$ whose upper bound is the absolute value of the length of the segment: $\\lambda_i \\leq |l_i|$. This variable measures how far we move into segment $i$ from the starting point $(B_i,f_i)$ A particular choice of the vectors $b$ and $\\lambda$ formed from these components determines a point of evaluation $x \\in \\mathbb{R}$ and the value of the approximation $f$ at $x$ by the following formulae ($\\text{sgn}(l_i)$ denotes the “sign” of the parameter $l_i$):\n",
    "$$x = \\sum_{i \\in \\mathcal{S}}(B_ib_i + \\text{sgn}(l_i)\\lambda_i), f = \\sum_{i \\in \\mathcal{S}}(f_ib_i + \\text{sgn}(l_i)m_i\\lambda_i)$$"
   ]
  },
  {
   "cell_type": "markdown",
   "metadata": {
    "colab_type": "text",
    "id": "m08ZC1BdSSCq"
   },
   "source": [
    "## Infinite Domains\n",
    "\n",
    "For each segment that has finite length $|l_i| < \\infty$, we enforce the constraint that $\\lambda_i$ can only be positive if $b_i = 1$ using the $M$ constraint:\n",
    "$$\\lambda_i \\leq |l_i|b_i.$$\n",
    "If the piecewise-linear function contains segments of infinite length, this constraint does not work.  Instead, for these segments, we form a SOS1 set containing the variables $\\lambda_i$ and $1-b_i$, that is at most one of these two variables is positive. This has the same effect as the $M$ constraint, but is independent of the length of the segment and hence also works with infinite length. (Note: this is not needed in the purchase example)"
   ]
  },
  {
   "cell_type": "code",
   "execution_count": 6,
   "metadata": {},
   "outputs": [
    {
     "data": {
      "text/html": [
       "<div>\n",
       "<style scoped>\n",
       "    .dataframe tbody tr th:only-of-type {\n",
       "        vertical-align: middle;\n",
       "    }\n",
       "\n",
       "    .dataframe tbody tr th {\n",
       "        vertical-align: top;\n",
       "    }\n",
       "\n",
       "    .dataframe thead th {\n",
       "        text-align: right;\n",
       "    }\n",
       "</style>\n",
       "<table border=\"1\" class=\"dataframe\">\n",
       "  <thead>\n",
       "    <tr style=\"text-align: right;\">\n",
       "      <th></th>\n",
       "      <th>Solver Status</th>\n",
       "      <th>Model Status</th>\n",
       "      <th>Objective</th>\n",
       "      <th>Num of Equations</th>\n",
       "      <th>Num of Variables</th>\n",
       "      <th>Model Type</th>\n",
       "      <th>Solver</th>\n",
       "      <th>Solver Time</th>\n",
       "    </tr>\n",
       "  </thead>\n",
       "  <tbody>\n",
       "    <tr>\n",
       "      <th>0</th>\n",
       "      <td>Normal</td>\n",
       "      <td>OptimalGlobal</td>\n",
       "      <td>14109.2889431449</td>\n",
       "      <td>201882</td>\n",
       "      <td>201881</td>\n",
       "      <td>MIP</td>\n",
       "      <td>CPLEX</td>\n",
       "      <td>0.585</td>\n",
       "    </tr>\n",
       "  </tbody>\n",
       "</table>\n",
       "</div>"
      ],
      "text/plain": [
       "  Solver Status   Model Status         Objective Num of Equations  \\\n",
       "0        Normal  OptimalGlobal  14109.2889431449           201882   \n",
       "\n",
       "  Num of Variables Model Type Solver Solver Time  \n",
       "0           201881        MIP  CPLEX       0.585  "
      ]
     },
     "execution_count": 6,
     "metadata": {},
     "output_type": "execute_result"
    }
   ],
   "source": [
    "plusminus = cont.addParameter('plusminus',domain=[s,i],description='plus/minus from base')\n",
    "plusminus[s,i].where[seg[i]] = gpm.sign(B[s,i.lag(1)] - B[s,i])\n",
    "# MODEL\n",
    "\n",
    "x = cont.addVariable('x','positive',domain=[s],description='Quantity to purchase from supplier s')\n",
    "b = cont.addVariable('b',args.sos1,domain=[s,i],description='use piece for supplier')\n",
    "z = cont.addVariable('z','binary',domain=[s],description='use supplier s')\n",
    "lamda = cont.addVariable('lamda','positive',domain=[s,i],description= 'length along interval')\n",
    "\n",
    "# Define buy and also order the weight variables by breakpoint quantities\n",
    "defbuy = cont.addEquation('defbuy',domain=[s])\n",
    "defbuy[s] = Sum(seg[i], b[s,i]*B[s,i] + plusminus[s,i]*lamda[s,i]) == x[s]\n",
    "\n",
    "killOff = cont.addEquation('killOff',domain=[s,i])\n",
    "killOff[s,seg[i]] = lamda[s,i] <= gpm.abs(B[s,i]-B[s,i.lag(1)])*b[s,i]\n",
    "\n",
    "# The convexity row (b sum to 1)\n",
    "OnePiece = cont.addEquation('OnePiece',domain=[s])\n",
    "if args.fcost:\n",
    "    OnePiece[s] = Sum(seg[i], b[s,i]) == z[s]\n",
    "else:\n",
    "    OnePiece[s] = Sum(seg[i], b[s,i]) == 1\n",
    "\n",
    "# The minimum quantity that must be bought\n",
    "Demand = cont.addEquation('Demand')\n",
    "Demand[:] = Sum(s, x[s]) >= R\n",
    "\n",
    "purchase = cont.addModel('purchase',\n",
    "    equations=cont.getEquations(),\n",
    "    problem=Problem.MIP,\n",
    "    sense=Sense.MIN,\n",
    "    objective=Sum([s,seg[i]], CBR[s,i]*b[s,i] + plusminus[s,i]*m[s,i]*lamda[s,i])\n",
    ")\n",
    "\n",
    "# No more than the maximum percentage from each supplier\n",
    "x.up[s] = ALPHA[s]*R\n",
    "\n",
    "purchase.solve(solver=args.solver,output=None)"
   ]
  },
  {
   "cell_type": "code",
   "execution_count": 10,
   "metadata": {},
   "outputs": [
    {
     "name": "stdout",
     "output_type": "stream",
     "text": [
      "Cost = 14109.288943144908, time = 0.7410000544041395\n",
      "Use segment =\n",
      "         1    2    3    4    5    6    7    8    9   10  ...  471  472  473  \\\n",
      "s1    0.0  0.0  0.0  0.0  0.0  0.0  0.0  0.0  0.0  0.0  ...  0.0  0.0  0.0   \n",
      "s2    0.0  0.0  0.0  0.0  0.0  0.0  0.0  0.0  0.0  0.0  ...  0.0  0.0  0.0   \n",
      "s3    0.0  0.0  0.0  0.0  0.0  0.0  0.0  0.0  0.0  0.0  ...  0.0  0.0  0.0   \n",
      "s4    0.0  0.0  0.0  0.0  0.0  0.0  0.0  0.0  0.0  0.0  ...  0.0  0.0  0.0   \n",
      "s5    0.0  0.0  0.0  0.0  0.0  0.0  0.0  0.0  0.0  0.0  ...  0.0  0.0  0.0   \n",
      "...   ...  ...  ...  ...  ...  ...  ...  ...  ...  ...  ...  ...  ...  ...   \n",
      "s136  0.0  0.0  0.0  0.0  0.0  0.0  0.0  0.0  0.0  0.0  ...  0.0  0.0  0.0   \n",
      "s137  0.0  0.0  0.0  0.0  0.0  0.0  0.0  0.0  0.0  0.0  ...  0.0  0.0  0.0   \n",
      "s138  0.0  0.0  0.0  0.0  0.0  0.0  0.0  0.0  0.0  0.0  ...  0.0  0.0  0.0   \n",
      "s139  0.0  0.0  0.0  0.0  0.0  0.0  0.0  0.0  0.0  0.0  ...  0.0  0.0  0.0   \n",
      "s140  0.0  0.0  0.0  0.0  0.0  0.0  0.0  0.0  0.0  0.0  ...  0.0  0.0  0.0   \n",
      "\n",
      "      474  475  476  477  478  479  480  \n",
      "s1    0.0  0.0  0.0  0.0  0.0  0.0  0.0  \n",
      "s2    0.0  0.0  0.0  0.0  0.0  0.0  0.0  \n",
      "s3    0.0  0.0  0.0  0.0  0.0  0.0  0.0  \n",
      "s4    0.0  0.0  0.0  0.0  0.0  0.0  0.0  \n",
      "s5    0.0  0.0  0.0  0.0  0.0  0.0  0.0  \n",
      "...   ...  ...  ...  ...  ...  ...  ...  \n",
      "s136  0.0  0.0  0.0  0.0  0.0  0.0  0.0  \n",
      "s137  0.0  0.0  0.0  0.0  0.0  0.0  0.0  \n",
      "s138  0.0  0.0  0.0  0.0  0.0  0.0  0.0  \n",
      "s139  0.0  0.0  0.0  0.0  0.0  0.0  0.0  \n",
      "s140  0.0  0.0  0.0  0.0  0.0  0.0  0.0  \n",
      "\n",
      "[140 rows x 480 columns]\n",
      "lamda =\n",
      "         1    2    3    4    5    6    7    8    9   10  ...  471  472  473  \\\n",
      "s1    0.0  0.0  0.0  0.0  0.0  0.0  0.0  0.0  0.0  0.0  ...  0.0  0.0  0.0   \n",
      "s2    0.0  0.0  0.0  0.0  0.0  0.0  0.0  0.0  0.0  0.0  ...  0.0  0.0  0.0   \n",
      "s3    0.0  0.0  0.0  0.0  0.0  0.0  0.0  0.0  0.0  0.0  ...  0.0  0.0  0.0   \n",
      "s4    0.0  0.0  0.0  0.0  0.0  0.0  0.0  0.0  0.0  0.0  ...  0.0  0.0  0.0   \n",
      "s5    0.0  0.0  0.0  0.0  0.0  0.0  0.0  0.0  0.0  0.0  ...  0.0  0.0  0.0   \n",
      "...   ...  ...  ...  ...  ...  ...  ...  ...  ...  ...  ...  ...  ...  ...   \n",
      "s136  0.0  0.0  0.0  0.0  0.0  0.0  0.0  0.0  0.0  0.0  ...  0.0  0.0  0.0   \n",
      "s137  0.0  0.0  0.0  0.0  0.0  0.0  0.0  0.0  0.0  0.0  ...  0.0  0.0  0.0   \n",
      "s138  0.0  0.0  0.0  0.0  0.0  0.0  0.0  0.0  0.0  0.0  ...  0.0  0.0  0.0   \n",
      "s139  0.0  0.0  0.0  0.0  0.0  0.0  0.0  0.0  0.0  0.0  ...  0.0  0.0  0.0   \n",
      "s140  0.0  0.0  0.0  0.0  0.0  0.0  0.0  0.0  0.0  0.0  ...  0.0  0.0  0.0   \n",
      "\n",
      "      474  475  476  477  478  479  480  \n",
      "s1    0.0  0.0  0.0  0.0  0.0  0.0  0.0  \n",
      "s2    0.0  0.0  0.0  0.0  0.0  0.0  0.0  \n",
      "s3    0.0  0.0  0.0  0.0  0.0  0.0  0.0  \n",
      "s4    0.0  0.0  0.0  0.0  0.0  0.0  0.0  \n",
      "s5    0.0  0.0  0.0  0.0  0.0  0.0  0.0  \n",
      "...   ...  ...  ...  ...  ...  ...  ...  \n",
      "s136  0.0  0.0  0.0  0.0  0.0  0.0  0.0  \n",
      "s137  0.0  0.0  0.0  0.0  0.0  0.0  0.0  \n",
      "s138  0.0  0.0  0.0  0.0  0.0  0.0  0.0  \n",
      "s139  0.0  0.0  0.0  0.0  0.0  0.0  0.0  \n",
      "s140  0.0  0.0  0.0  0.0  0.0  0.0  0.0  \n",
      "\n",
      "[140 rows x 480 columns]\n",
      "Use supplier =\n",
      "         s  level\n",
      "0      s1    0.0\n",
      "1      s2    1.0\n",
      "2      s3    0.0\n",
      "3      s4    1.0\n",
      "4      s5    0.0\n",
      "..    ...    ...\n",
      "135  s136    0.0\n",
      "136  s137    0.0\n",
      "137  s138    0.0\n",
      "138  s139    0.0\n",
      "139  s140    0.0\n",
      "\n",
      "[140 rows x 2 columns]\n"
     ]
    }
   ],
   "source": [
    "print(f\"Cost = {purchase.objective_value}, time = {purchase.total_solver_time}\")\n",
    "print(f\"Use segment =\\n {b.pivot()}\\nlamda =\\n {lamda.pivot()}\")\n",
    "if args.fcost:\n",
    "    print(f\"Use supplier =\\n {z.l.records}\")"
   ]
  },
  {
   "cell_type": "markdown",
   "metadata": {
    "colab_type": "text",
    "id": "ryiIDg2TWjgI"
   },
   "source": [
    "## Further Information\n",
    "\n",
    "For further information, refer to the slides using the following link:\n",
    "\n",
    "https://canvas.wisc.edu/courses/426147/files/folder/Lectures?preview=42088737"
   ]
  },
  {
   "cell_type": "code",
   "execution_count": null,
   "metadata": {
    "colab": {},
    "colab_type": "code",
    "id": "yOzFNQCeSSCr"
   },
   "outputs": [],
   "source": []
  }
 ],
 "metadata": {
  "celltoolbar": "Slideshow",
  "colab": {
   "name": "Lecture22-Scribing-Assignment.ipynb",
   "provenance": []
  },
  "kernelspec": {
   "display_name": "Python 3 (ipykernel)",
   "language": "python",
   "name": "python3"
  },
  "language_info": {
   "codemirror_mode": {
    "name": "ipython",
    "version": 3
   },
   "file_extension": ".py",
   "mimetype": "text/x-python",
   "name": "python",
   "nbconvert_exporter": "python",
   "pygments_lexer": "ipython3",
   "version": "3.12.5"
  }
 },
 "nbformat": 4,
 "nbformat_minor": 4
}
