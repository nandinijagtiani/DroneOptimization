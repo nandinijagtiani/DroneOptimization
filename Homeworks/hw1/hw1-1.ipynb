{
 "cells": [
  {
   "cell_type": "code",
   "execution_count": 19,
   "metadata": {},
   "outputs": [],
   "source": [
    "from gamspy import (Container, Variable, Equation, Model)"
   ]
  },
  {
   "cell_type": "code",
   "execution_count": 20,
   "metadata": {},
   "outputs": [],
   "source": [
    "m = Container()\n",
    "\n",
    "#VARIABLES\n",
    "x1 = Variable(m, name=\"x1\", type=\"positive\")\n",
    "x2 = Variable(m, name=\"x2\", type=\"positive\")\n",
    "x3 = Variable(m, name=\"x3\", type=\"positive\")\n",
    "obj = 3*x1 + 4*x2 - 20*x3\n",
    "\n",
    "#EQUATIONS\n",
    "eq1 = Equation(m, name=\"eq1\", type=\"regular\")\n",
    "eq1[:]= x1 - 4*x2 + 2*x3 <= 10\n",
    "eq2 = Equation(m, name=\"eq2\", type=\"regular\")\n",
    "eq2[:]= 3*x1 + 6*x3 == 12\n",
    "eq3 = Equation(m, name=\"eq3\", type=\"regular\")\n",
    "eq3[:]= 9*x2 >= 3 + 5*x1\n",
    "\n",
    "simple = Model(m,\n",
    "    name=\"simple\",\n",
    "    equations=m.getEquations(),\n",
    "    problem=\"lp\",\n",
    "    sense=\"min\",\n",
    "    objective=obj\n",
    ")"
   ]
  },
  {
   "cell_type": "code",
   "execution_count": 21,
   "metadata": {},
   "outputs": [
    {
     "name": "stdout",
     "output_type": "stream",
     "text": [
      "Objective Function Value:  -38.6667 \n",
      "\n",
      "x1:  0.0\n",
      "x2:  0.3333\n",
      "x3:  2.0\n"
     ]
    }
   ],
   "source": [
    "simple.solve()\n",
    "print(\"Objective Function Value: \",round(simple._objective_value,4),\"\\n\")\n",
    "print(\"x1: \", round(x1.toValue(), 4))\n",
    "print(\"x2: \", round(x2.toValue(), 4))\n",
    "print(\"x3: \", round(x3.toValue(), 4))"
   ]
  }
 ],
 "metadata": {
  "kernelspec": {
   "display_name": "venv",
   "language": "python",
   "name": "python3"
  },
  "language_info": {
   "codemirror_mode": {
    "name": "ipython",
    "version": 3
   },
   "file_extension": ".py",
   "mimetype": "text/x-python",
   "name": "python",
   "nbconvert_exporter": "python",
   "pygments_lexer": "ipython3",
   "version": "3.10.12"
  }
 },
 "nbformat": 4,
 "nbformat_minor": 2
}
