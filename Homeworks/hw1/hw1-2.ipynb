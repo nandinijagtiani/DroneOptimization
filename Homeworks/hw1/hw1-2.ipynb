{
 "cells": [
  {
   "cell_type": "code",
   "execution_count": 2,
   "metadata": {},
   "outputs": [],
   "source": [
    "from gamspy import (Container, Variable, Equation, Model, Set, Parameter, Sum, Problem, Sense, Options)\n",
    "import numpy as np"
   ]
  },
  {
   "cell_type": "code",
   "execution_count": 6,
   "metadata": {},
   "outputs": [],
   "source": [
    "b = Container()\n",
    "\n",
    "#SETS\n",
    "t = Set(b, 't', records=['Pilsner', 'Doublebock', 'Stout'])\n",
    "r = Set(b, 'r', records=['Hops', 'Malt', 'Barley'])\n",
    "o = Parameter(b, 'o', [t],records=np.array([60, 40, 80]))\n",
    "u = Parameter(b, 'u', [r],records=np.array([12, 9, 16]))\n",
    "p = Parameter(b, 'p', [t, r],records=np.array([[2, 3, 2], [2, 2, 1], [2, 1, 3]]),description=\"Per-Unit resource cost\")\n",
    "\n",
    "#VARIABLES\n",
    "x = Variable(b, \"x\", \"positive\", domain=[t],description=\"beer\")\n",
    "\n",
    "#EQUATIONS\n",
    "resource_con = Equation(b, 'resource_con', domain=[r],description=\"resource limit\")\n",
    "resource_con[r]=Sum(t, p[t, r]*x[t]) <= u[r]\n",
    "\n",
    "ff = Model(b,\n",
    "    name='ff',\n",
    "    equations=b.getEquations(),\n",
    "    problem=Problem.LP,\n",
    "    sense=Sense.MAX,\n",
    "    objective=Sum(t,o[t]*x[t]))\n",
    "\n"
   ]
  },
  {
   "cell_type": "code",
   "execution_count": 7,
   "metadata": {},
   "outputs": [
    {
     "name": "stdout",
     "output_type": "stream",
     "text": [
      "Objective Function Value:  440.0 \n",
      "\n",
      "x:  [('Pilsner', 0.0), ('Doublebock', 1.0000000000000002), ('Stout', 5.0)]\n",
      "status:  ModelStatus.OptimalGlobal\n",
      "solver status:  SolveStatus.NormalCompletion\n",
      "resource_con(Hops)..  2*x(Pilsner) + 2*x(Doublebock) + 2*x(Stout) =L= 12 ; (LHS = 0)\n",
      "resource_con(Malt)..  3*x(Pilsner) + 2*x(Doublebock) + x(Stout) =L= 9 ; (LHS = 0)\n",
      "resource_con(Barley)..  2*x(Pilsner) + x(Doublebock) + 3*x(Stout) =L= 16 ; (LHS = 0)\n",
      "ff_objective..  60*x(Pilsner) + 40*x(Doublebock) + 80*x(Stout) - ff_objective_variable =E= 0 ; (LHS = 0)\n"
     ]
    }
   ],
   "source": [
    "ff.solve(options = Options(equation_listing_limit=100))\n",
    "print(\"Objective Function Value: \",round(ff.objective_value,4),\"\\n\")\n",
    "print(\"x: \", x.toList())\n",
    "print(\"status: \", ff.status)\n",
    "print(\"solver status: \", ff.solve_status)\n",
    "print(ff.getEquationListing())"
   ]
  }
 ],
 "metadata": {
  "kernelspec": {
   "display_name": "venv",
   "language": "python",
   "name": "python3"
  },
  "language_info": {
   "codemirror_mode": {
    "name": "ipython",
    "version": 3
   },
   "file_extension": ".py",
   "mimetype": "text/x-python",
   "name": "python",
   "nbconvert_exporter": "python",
   "pygments_lexer": "ipython3",
   "version": "3.10.12"
  }
 },
 "nbformat": 4,
 "nbformat_minor": 2
}
