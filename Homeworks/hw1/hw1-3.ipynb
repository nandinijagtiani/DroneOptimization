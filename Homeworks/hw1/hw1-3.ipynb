{
 "cells": [
  {
   "cell_type": "code",
   "execution_count": 2,
   "metadata": {},
   "outputs": [],
   "source": [
    "from gamspy import (Container, Variable, Equation, Model, Set, Parameter, Sum, Problem, Sense, Options)\n",
    "import numpy as np"
   ]
  },
  {
   "cell_type": "code",
   "execution_count": 23,
   "metadata": {},
   "outputs": [],
   "source": [
    "b = Container()\n",
    "\n",
    "#SETS\n",
    "suppliers = Set(b, 'suppliers', records=['1', '2', '3'])\n",
    "valve_max = Parameter(b, 'valve_max', records=700)\n",
    "\n",
    "#VARIABLES\n",
    "acquire = Variable(b, \"aquire\", \"positive\", domain=[suppliers],description=\"suppliers\")\n",
    "acquire.up = 700\n",
    "obj = 5*acquire['1'] + 4*acquire['2'] + 3*acquire['3']\n",
    "\n",
    "#EQUATIONS\n",
    "large = Equation(b, name='large', type='regular')\n",
    "large[:]= 0.4*acquire['1'] + 0.3*acquire['2'] + 0.2*acquire['3'] >= 500\n",
    "medium = Equation(b, name='medium', type='regular')\n",
    "medium[:]= 0.4*acquire['1'] + 0.35*acquire['2'] + 0.2*acquire['3'] >= 300\n",
    "small = Equation(b, name='small', type='regular')\n",
    "small[:]= 0.2*acquire['1'] + 0.35*acquire['2'] + 0.6*acquire['3'] >= 300 \n",
    "\n",
    "pigs = Model(b,\n",
    "    name='pigs',\n",
    "    equations=b.getEquations(),\n",
    "    problem=Problem.LP,\n",
    "    sense=Sense.MIN,\n",
    "    objective=obj)\n",
    "\n"
   ]
  },
  {
   "cell_type": "code",
   "execution_count": 24,
   "metadata": {},
   "outputs": [
    {
     "name": "stdout",
     "output_type": "stream",
     "text": [
      "Objective Function Value:  6450.0 \n",
      "\n",
      "acquire: \n",
      "   suppliers  level  marginal  lower  upper  scale\n",
      "0         1  700.0      -1.0    0.0  700.0    1.0\n",
      "1         2  700.0      -0.5    0.0  700.0    1.0\n",
      "2         3   50.0       0.0    0.0  700.0    1.0\n",
      "status:  ModelStatus.OptimalGlobal\n",
      "solver status:  SolveStatus.NormalCompletion\n",
      "large..  0.4*aquire(1) + 0.3*aquire(2) + 0.2*aquire(3) =G= 500 ; (LHS = 0, INFES = 500 ****)\n",
      "medium..  0.4*aquire(1) + 0.35*aquire(2) + 0.2*aquire(3) =G= 300 ; (LHS = 0, INFES = 300 ****)\n",
      "small..  0.2*aquire(1) + 0.35*aquire(2) + 0.6*aquire(3) =G= 300 ; (LHS = 0, INFES = 300 ****)\n",
      "pigs_objective..  5*aquire(1) + 4*aquire(2) + 3*aquire(3) - pigs_objective_variable =E= 0 ; (LHS = 0)\n"
     ]
    }
   ],
   "source": [
    "pigs.solve(options = Options(equation_listing_limit=100))\n",
    "print(\"Objective Function Value: \",round(pigs.objective_value,4),\"\\n\")\n",
    "print(\"acquire: \\n\", acquire.records)\n",
    "print(\"status: \", pigs.status)\n",
    "print(\"solver status: \", pigs.solve_status)\n",
    "print(pigs.getEquationListing())\n"
   ]
  },
  {
   "cell_type": "code",
   "execution_count": null,
   "metadata": {},
   "outputs": [],
   "source": []
  }
 ],
 "metadata": {
  "kernelspec": {
   "display_name": "venv",
   "language": "python",
   "name": "python3"
  },
  "language_info": {
   "codemirror_mode": {
    "name": "ipython",
    "version": 3
   },
   "file_extension": ".py",
   "mimetype": "text/x-python",
   "name": "python",
   "nbconvert_exporter": "python",
   "pygments_lexer": "ipython3",
   "version": "3.10.12"
  }
 },
 "nbformat": 4,
 "nbformat_minor": 2
}
