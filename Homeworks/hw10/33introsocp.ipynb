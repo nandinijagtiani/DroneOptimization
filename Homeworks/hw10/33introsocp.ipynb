{
 "cells": [
  {
   "cell_type": "markdown",
   "metadata": {
    "slideshow": {
     "slide_type": "slide"
    }
   },
   "source": [
    "CS524: Introduction to Optimization Lecture 33\n",
    "======================================\n",
    "\n",
    "## Michael Ferris<br> Computer Sciences Department <br> University of Wisconsin-Madison\n",
    "\n",
    "## November 18, 2024\n",
    "--------------"
   ]
  },
  {
   "cell_type": "code",
   "execution_count": 1,
   "metadata": {
    "slideshow": {
     "slide_type": "slide"
    }
   },
   "outputs": [],
   "source": [
    "import gamspy as gp\n",
    "import gamspy.math as gpm\n",
    "from gamspy import Sum, Card\n",
    "\n",
    "import sys\n",
    "import numpy as np\n",
    "import pandas as pd"
   ]
  },
  {
   "cell_type": "markdown",
   "metadata": {
    "slideshow": {
     "slide_type": "slide"
    }
   },
   "source": [
    "## <font color=\"brown\"> What is a cone? </font>\n",
    "\n",
    "- A set of points $C$ $\\in$ $\\mathbb{R}^n$ is called a **cone** if it satisfies:\n",
    "    - $\\alpha x \\in C $ whenever $x \\in C$ and $\\alpha > 0$\n",
    "    \n",
    "- A cone is convex if in addition\n",
    "    - $x + y \\in C$ whenever $x \\in C$ and $y \\in C$\n",
    "    \n",
    "- Similar to a subspace, but $\\alpha > 0$ instead of $\\alpha \\in \\mathbb{R}$ (this is a critical difference!)\n",
    "\n",
    "- Simple examples: $|x| \\leq y$ and $y \\geq 0$\n",
    "\n",
    "<img src=\"fig1.png\">"
   ]
  },
  {
   "cell_type": "markdown",
   "metadata": {
    "slideshow": {
     "slide_type": "slide"
    }
   },
   "source": [
    "## <font color=\"brown\"> What is a cone? </font>\n",
    "\n",
    "- A **<font color=\"blue\"> slice </font>** of a cone is its intersection with a subspace. </br>\n",
    "\n",
    "- We are interested in **<font color=\"blue\">convex cones</font>** (all slices are convex). </br>\n",
    "\n",
    "- Can be polyhedral, ellipsoidal or something else... </br>\n",
    "\n",
    "- Polyhedral cones will have polyhedron slices, ellipsoidal cones will have ellipsoid slices and so on.\n",
    "\n",
    "<img src=\"fig2.png\">"
   ]
  },
  {
   "cell_type": "markdown",
   "metadata": {
    "slideshow": {
     "slide_type": "slide"
    }
   },
   "source": [
    "## <font color=\"brown\"> What is a cone? </font> </font>\n",
    "\n",
    "### Polyhedral cone recipe:\n",
    "\n",
    "**1.**  Begin with your favorite polyhedron $Ax ≤ b$ where $x \\in \\mathbb{R}^n$. This is a polyhedron in $\\mathbb{R}^n$ dimensional space.\n",
    "\n",
    "**2.**  $\\{Ax ≤ bt, t ≥ 0\\}$ is a polyhedral cone in $(x,t) \\in \\mathbb{R}^{n+1}$. (parametrized by t involves stacking different sized polyhedron along t-dimension).\n",
    "\n",
    "**3.**  The slice $t = 1$ is the original polyhedron.\n",
    "\n",
    "<img src=\"fig3.png\">"
   ]
  },
  {
   "cell_type": "markdown",
   "metadata": {
    "slideshow": {
     "slide_type": "slide"
    }
   },
   "source": [
    "## <font color=\"brown\"> Second-order cone (SOC) </font>\n",
    "\n",
    "A second-order cone is the set of points $x \\in \\mathbb{R}^n$ satisfying\n",
    "\n",
    "$$\\lVert Ax+b \\rVert \\leq c^Tx + d$$\n",
    "\n",
    "Special cases:\n",
    "- If $A = 0$,  we have a linear constraint (hyperplane)\n",
    "- If $c= 0$,  can square both sides (ellipsoid) <br><br>\n",
    "\n",
    "<font color=\"blue\"><center>In general, you <b>cannot</b> just square both sides!</center> </font>"
   ]
  },
  {
   "cell_type": "markdown",
   "metadata": {
    "slideshow": {
     "slide_type": "slide"
    }
   },
   "source": [
    "## <font color=\"brown\"> Second-order cone </font>\n",
    "\n",
    "A second-order cone is the set of points $x \\in \\mathbb{R}^n$ satisfying\n",
    "\n",
    "$$\\lVert Ax-b \\rVert \\leq c^Tx + d$$\n",
    "\n",
    "**Counter example**:\n",
    "\n",
    "If $A=\\begin{bmatrix}1 & 0\\end{bmatrix}$ and $c=\\begin{bmatrix}0 \\\\ 1\\end{bmatrix}$ and $b = d = 0$, we have:\n",
    "\n",
    "$$\\lvert x \\rvert \\leq y$$\n",
    "\n",
    "Square both sides, we get a nonconvex quadratic constraint!\n",
    "\n",
    "$$x^2 − y^2 \\leq 0$$\n",
    "\n",
    "So, squaring both sides of a convex constraint leads to a nonconvex constraint. !!\n",
    "\n",
    "<font color=\"blue\"><center>In general, you <b>should NOT</b> just square both sides!</center> </font>"
   ]
  },
  {
   "cell_type": "markdown",
   "metadata": {
    "slideshow": {
     "slide_type": "slide"
    }
   },
   "source": [
    "## <font color=\"brown\"> Special case:  rotated second-order cone (Rotated SOC) </font>\n",
    "\n",
    "A rotated second-order cone is the set $x \\in \\mathbb{R}^n , y,z\\in \\mathbb{R}$:\n",
    "\n",
    "$$x^Tx \\leq yz, \\;\\: y \\geq 0,\\;\\: z \\geq 0$$\n",
    "\n",
    "With $n = 1$, this looks like:\n",
    "\n",
    "<img src=\"fig5.png\"  width=\"400\" height=\"400\" >\n",
    "\n",
    "Rotated SOC is linear transformation of SOC, hence the convexity is retained."
   ]
  },
  {
   "cell_type": "markdown",
   "metadata": {
    "slideshow": {
     "slide_type": "slide"
    }
   },
   "source": [
    "## <font color=\"brown\"> Special case:  rotated second-order cone </font>\n",
    "\n",
    "A rotated second-order cone is the set $x \\in \\mathbb{R}^n , y,z\\in \\mathbb{R}$:\n",
    "\n",
    "$$x^Tx \\leq yz, \\:\\: y \\geq 0,\\:\\:z \\geq 0$$\n",
    "\n",
    "Can put into standard form:\n",
    "$$4x^Tx \\leq 4yz $$\n",
    "$$4x^Tx + y^2 + z^2 \\leq 4yz + y^2 + z^2 $$\n",
    "$$4x^Tx + (y-z)^2 \\leq (y + z)^2 $$\n",
    "$$\\sqrt{4x^Tx + (y-z)^2} \\leq y + z $$\n",
    "$$\\left\\|\\begin{bmatrix}\n",
    "2x \\\\\n",
    "y-z\n",
    "\\end{bmatrix}\\right\\| \\leq y + z $$"
   ]
  },
  {
   "cell_type": "markdown",
   "metadata": {
    "jp-MarkdownHeadingCollapsed": true,
    "slideshow": {
     "slide_type": "slide"
    }
   },
   "source": [
    "## <font color=\"brown\"> Implementation details </font>\n",
    "\n",
    "A second-order cone program (SOCP) has the form:\n",
    "\n",
    "$$\\min_{x} c^Tx $$ \n",
    "$$\\text{subject to: } \\left\\| A_ix + b_i \\right\\| \\leq c_i^Tx + d_i, \\text{ for } i = 1,.....,m $$\n",
    "\n",
    "- Every LP is an SOCP (just make each $A_i = 0$)\n",
    "- Every convex QP and QCQP is an SOCP\n",
    "    - convert quadratic cost to epigraph form (add a variable)\n",
    "    \n",
    "        $$ \\min z \\text{ s.t. } z \\geq x^TP_0x + r_0^Tx + s_0$$\n",
    "    \n",
    "    - convert quadratic constraints to SOCP (complete square as above)\n",
    "- In GAMSPy, you can specify SOCP constraint directly in QCP. Solvers include Mosek, Gurobi, Cplex."
   ]
  },
  {
   "cell_type": "markdown",
   "metadata": {},
   "source": [
    "# Modeling second order cones in GAMSPy\n",
    "\n",
    "## Example\n",
    "\n",
    "$$ \\max w \\text{ s.t. } w + y + z = 1, (w,y,z) \\in \\mathcal{C}^2_q, (w,y,z) \\in \\mathcal{C}^1_r(2) $$\n",
    "\n",
    "Second order cone:\n",
    "$$\\newcommand{\\real}{\\mathbb{R}} \\newcommand{\\norm}[1]{\\Vert #1 \\Vert}\n",
    "\\mathcal{C}^n_q := \\left\\{(x,z) \\in \\real^n \\times \\real : z \\geq \\norm{x}_2 = \\sqrt{\\sum_{j=1}^n x_j^2} \\right\\}$$\n",
    "\n",
    "Note that \n",
    "$$\\newcommand{\\real}{\\mathbb{R}} \\newcommand{\\norm}[1]{\\Vert #1 \\Vert}\n",
    "\\mathcal{C}^n_q = \\left\\{(x,z) \\in \\real^n \\times \\real : z \\geq 0, \\; z^2 \\geq \\sum_{j=1}^n x_j^2 \\right\\}$$\n",
    "so in GAMSPy we write this as (sonc2):\n",
    "\n",
    "z = m.addVariable('z','positive')\\\n",
    "gpm.sqr(z) >= gpm.sqr(w) + gpm.sqr(y)\n",
    "\n",
    "Rotated second order cone:\n",
    "$$\\newcommand{\\real}{\\mathbb{R}} \\newcommand{\\norm}[1]{\\Vert #1 \\Vert}\n",
    "\\mathcal{C}^n_r(\\alpha) := \\left\\{(x,y,\n",
    "z) \\in \\real^n  \\times \\real^2_+ : \\alpha yz \\geq \\norm{x}_2^2 = x^T x = \\sum_{j=1}^n x_j^2 \\right\\}$$\n",
    "so in GAMSPy we write this (with set j being a singleton) as (sonc3):\n",
    "\n",
    "y = m.addVariable('y','positive')\\\n",
    "z = m.addVariable('z','positive')\\\n",
    "2 * y * z >= gpm.sqr(w)"
   ]
  },
  {
   "cell_type": "code",
   "execution_count": 2,
   "metadata": {
    "slideshow": {
     "slide_type": "slide"
    }
   },
   "outputs": [
    {
     "data": {
      "text/html": [
       "<div>\n",
       "<style scoped>\n",
       "    .dataframe tbody tr th:only-of-type {\n",
       "        vertical-align: middle;\n",
       "    }\n",
       "\n",
       "    .dataframe tbody tr th {\n",
       "        vertical-align: top;\n",
       "    }\n",
       "\n",
       "    .dataframe thead th {\n",
       "        text-align: right;\n",
       "    }\n",
       "</style>\n",
       "<table border=\"1\" class=\"dataframe\">\n",
       "  <thead>\n",
       "    <tr style=\"text-align: right;\">\n",
       "      <th></th>\n",
       "      <th>Solver Status</th>\n",
       "      <th>Model Status</th>\n",
       "      <th>Objective</th>\n",
       "      <th>Num of Equations</th>\n",
       "      <th>Num of Variables</th>\n",
       "      <th>Model Type</th>\n",
       "      <th>Solver</th>\n",
       "      <th>Solver Time</th>\n",
       "    </tr>\n",
       "  </thead>\n",
       "  <tbody>\n",
       "    <tr>\n",
       "      <th>0</th>\n",
       "      <td>Normal</td>\n",
       "      <td>OptimalGlobal</td>\n",
       "      <td>0.391576932004034</td>\n",
       "      <td>3</td>\n",
       "      <td>3</td>\n",
       "      <td>QCP</td>\n",
       "      <td>GUROBI</td>\n",
       "      <td>0.032</td>\n",
       "    </tr>\n",
       "  </tbody>\n",
       "</table>\n",
       "</div>"
      ],
      "text/plain": [
       "  Solver Status   Model Status          Objective Num of Equations  \\\n",
       "0        Normal  OptimalGlobal  0.391576932004034                3   \n",
       "\n",
       "  Num of Variables Model Type  Solver Solver Time  \n",
       "0                3        QCP  GUROBI       0.032  "
      ]
     },
     "execution_count": 2,
     "metadata": {},
     "output_type": "execute_result"
    }
   ],
   "source": [
    "m = gp.Container()\n",
    "\n",
    "w = m.addVariable('w')\n",
    "y = m.addVariable('y','positive')\n",
    "z = m.addVariable('z','positive')\n",
    "\n",
    "sonc1 = m.addEquation('sonc1')\n",
    "sonc1[:] =  w + y + z == 1\n",
    "\n",
    "# need z >= 0 to convey SOC\n",
    "sonc2 = m.addEquation('sonc2')\n",
    "sonc2[:] = gpm.sqr(z) >= gpm.sqr(w) + gpm.sqr(y)\n",
    "\n",
    "# need y,z >= 0 to convey rotated SOC\n",
    "sonc3 = m.addEquation('sonc3')\n",
    "sonc3[:] = 2*y*z >= gpm.sqr(w)\n",
    "\n",
    "simple = m.addModel('simple',\n",
    "    equations=m.getEquations(),\n",
    "    problem=gp.Problem.QCP,\n",
    "    sense=gp.Sense.MAX,\n",
    "    objective=w\n",
    ")\n",
    "\n",
    "simple.solve(solver='gurobi')"
   ]
  },
  {
   "cell_type": "markdown",
   "metadata": {},
   "source": [
    "Mosek requires rotated cones to have \\$2 y z\\$ in its definition.\n",
    "Other solvers allow the cone to have \n",
    "$$\\alpha yz \\text{ for any } \\alpha > 0 . $$\n",
    "\n",
    "Mosek needs cones to be a Cartesian product.\n",
    "Since in above x, y and z appear in both cones, we need to make copies of these variables and use the copies in one of the cones for Mosek."
   ]
  },
  {
   "cell_type": "code",
   "execution_count": 3,
   "metadata": {
    "scrolled": true,
    "slideshow": {
     "slide_type": "slide"
    }
   },
   "outputs": [
    {
     "data": {
      "text/html": [
       "<div>\n",
       "<style scoped>\n",
       "    .dataframe tbody tr th:only-of-type {\n",
       "        vertical-align: middle;\n",
       "    }\n",
       "\n",
       "    .dataframe tbody tr th {\n",
       "        vertical-align: top;\n",
       "    }\n",
       "\n",
       "    .dataframe thead th {\n",
       "        text-align: right;\n",
       "    }\n",
       "</style>\n",
       "<table border=\"1\" class=\"dataframe\">\n",
       "  <thead>\n",
       "    <tr style=\"text-align: right;\">\n",
       "      <th></th>\n",
       "      <th>Solver Status</th>\n",
       "      <th>Model Status</th>\n",
       "      <th>Objective</th>\n",
       "      <th>Num of Equations</th>\n",
       "      <th>Num of Variables</th>\n",
       "      <th>Model Type</th>\n",
       "      <th>Solver</th>\n",
       "      <th>Solver Time</th>\n",
       "    </tr>\n",
       "  </thead>\n",
       "  <tbody>\n",
       "    <tr>\n",
       "      <th>0</th>\n",
       "      <td>Normal</td>\n",
       "      <td>OptimalGlobal</td>\n",
       "      <td>0.391577331931458</td>\n",
       "      <td>6</td>\n",
       "      <td>6</td>\n",
       "      <td>QCP</td>\n",
       "      <td>MOSEK</td>\n",
       "      <td>0.006</td>\n",
       "    </tr>\n",
       "  </tbody>\n",
       "</table>\n",
       "</div>"
      ],
      "text/plain": [
       "  Solver Status   Model Status          Objective Num of Equations  \\\n",
       "0        Normal  OptimalGlobal  0.391577331931458                6   \n",
       "\n",
       "  Num of Variables Model Type Solver Solver Time  \n",
       "0                6        QCP  MOSEK       0.006  "
      ]
     },
     "execution_count": 3,
     "metadata": {},
     "output_type": "execute_result"
    }
   ],
   "source": [
    "wc = m.addVariable('wc')\n",
    "yc = m.addVariable('yc','positive')\n",
    "zc = m.addVariable('zc','positive')\n",
    "\n",
    "sonc3a = m.addEquation('sonc3a')\n",
    "sonc3a[:] = 2*yc*zc >= gpm.sqr(wc)\n",
    "\n",
    "ew = m.addEquation('ew')\n",
    "ew[:] = wc == w\n",
    "\n",
    "ey = m.addEquation('ey')\n",
    "ey[:] = yc == y\n",
    "\n",
    "ez = m.addEquation('ez')\n",
    "ez[:] = zc == z\n",
    "\n",
    "simpmosek = m.addModel('simpmosek',\n",
    "    equations=[sonc1, sonc2, sonc3a, ew, ey, ez],\n",
    "    problem=gp.Problem.QCP,\n",
    "    sense=gp.Sense.MAX,\n",
    "    objective=w\n",
    ")\n",
    "\n",
    "simpmosek.solve(solver='mosek')"
   ]
  },
  {
   "cell_type": "markdown",
   "metadata": {},
   "source": [
    "Can use <= instead of >= in cone definitions.\n",
    "\n",
    "Some solvers allow expressions in the cone definitions, i.e. we can write the constraint \n",
    "$$ (f(x),z) \\in \\mathcal{C}^n_q$$\n",
    "where \\$f(x)\\$ is a linear function of \\$x\\$.\n",
    "\n",
    "This is solver dependent however (e.g. following does not work with mosek, gurobi).   Instead you define new variables $v = w + u$ in an additional linear constraint (and rescale rotated cone so constant is 2 for mosek)."
   ]
  },
  {
   "cell_type": "code",
   "execution_count": 4,
   "metadata": {
    "scrolled": true,
    "slideshow": {
     "slide_type": "slide"
    }
   },
   "outputs": [
    {
     "data": {
      "text/html": [
       "<div>\n",
       "<style scoped>\n",
       "    .dataframe tbody tr th:only-of-type {\n",
       "        vertical-align: middle;\n",
       "    }\n",
       "\n",
       "    .dataframe tbody tr th {\n",
       "        vertical-align: top;\n",
       "    }\n",
       "\n",
       "    .dataframe thead th {\n",
       "        text-align: right;\n",
       "    }\n",
       "</style>\n",
       "<table border=\"1\" class=\"dataframe\">\n",
       "  <thead>\n",
       "    <tr style=\"text-align: right;\">\n",
       "      <th></th>\n",
       "      <th>Solver Status</th>\n",
       "      <th>Model Status</th>\n",
       "      <th>Objective</th>\n",
       "      <th>Num of Equations</th>\n",
       "      <th>Num of Variables</th>\n",
       "      <th>Model Type</th>\n",
       "      <th>Solver</th>\n",
       "      <th>Solver Time</th>\n",
       "    </tr>\n",
       "  </thead>\n",
       "  <tbody>\n",
       "    <tr>\n",
       "      <th>0</th>\n",
       "      <td>Normal</td>\n",
       "      <td>OptimalGlobal</td>\n",
       "      <td>0.499999997148428</td>\n",
       "      <td>4</td>\n",
       "      <td>4</td>\n",
       "      <td>QCP</td>\n",
       "      <td>CPLEX</td>\n",
       "      <td>0.005</td>\n",
       "    </tr>\n",
       "  </tbody>\n",
       "</table>\n",
       "</div>"
      ],
      "text/plain": [
       "  Solver Status   Model Status          Objective Num of Equations  \\\n",
       "0        Normal  OptimalGlobal  0.499999997148428                4   \n",
       "\n",
       "  Num of Variables Model Type Solver Solver Time  \n",
       "0                4        QCP  CPLEX       0.005  "
      ]
     },
     "execution_count": 4,
     "metadata": {},
     "output_type": "execute_result"
    }
   ],
   "source": [
    "u = m.addVariable('u')\n",
    "\n",
    "# need z >= 0 to convey SOC\n",
    "sonc2b = m.addEquation('sonc2b')\n",
    "sonc2b[:] = gpm.sqr(w) + gpm.sqr(y) <= gpm.sqr(z)\n",
    "\n",
    "# need y,z >= 0 to convey rotated SOC (here alpha = 1)\n",
    "# f(w,u) = w + u\n",
    "sonc3b = m.addEquation('sonc3b')\n",
    "sonc3b[:] = gpm.sqr(w+u) <= y*z\n",
    "\n",
    "cons = m.addEquation('cons')\n",
    "cons[:] = w + u >= -5\n",
    "\n",
    "simpleb = m.addModel('simpleb',\n",
    "    equations=[sonc1, sonc2b, sonc3b, cons],\n",
    "    problem=gp.Problem.QCP,\n",
    "    sense=gp.Sense.MAX,\n",
    "    objective=w\n",
    ")\n",
    "\n",
    "simpleb.solve(solver='cplex')"
   ]
  },
  {
   "cell_type": "code",
   "execution_count": null,
   "metadata": {},
   "outputs": [],
   "source": []
  }
 ],
 "metadata": {
  "kernelspec": {
   "display_name": "venv",
   "language": "python",
   "name": "python3"
  },
  "language_info": {
   "codemirror_mode": {
    "name": "ipython",
    "version": 3
   },
   "file_extension": ".py",
   "mimetype": "text/x-python",
   "name": "python",
   "nbconvert_exporter": "python",
   "pygments_lexer": "ipython3",
   "version": "3.10.12"
  }
 },
 "nbformat": 4,
 "nbformat_minor": 4
}
