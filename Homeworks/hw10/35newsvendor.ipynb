{
 "cells": [
  {
   "cell_type": "markdown",
   "metadata": {
    "slideshow": {
     "slide_type": "slide"
    }
   },
   "source": [
    "CS524: Introduction to Optimization Lecture 35\n",
    "======================================\n",
    "\n",
    "### Michael C. Ferris <br><br> Computer Sciences Department <br> University of Wisconsin-Madison\n",
    "\n",
    "### November 22, 2024"
   ]
  },
  {
   "cell_type": "markdown",
   "metadata": {},
   "source": [
    "# Stochastic programming: newsvendor problem"
   ]
  },
  {
   "cell_type": "code",
   "execution_count": 1,
   "metadata": {},
   "outputs": [],
   "source": [
    "import gamspy as gp\n",
    "import gamspy.math as gpm\n",
    "from gamspy import Sum, Card\n",
    "\n",
    "import sys\n",
    "import numpy as np\n",
    "import pandas as pd\n",
    "from statistics import NormalDist\n",
    "\n",
    "class arguments:\n",
    "  def __init__(self, s=400, solver='cplex', seed = 0):\n",
    "    self.s = s\n",
    "    self.solver = solver\n",
    "    self.seed = seed\n",
    "      \n",
    "args = arguments(s=400)"
   ]
  },
  {
   "cell_type": "markdown",
   "metadata": {},
   "source": [
    "Calculate the mean value solution"
   ]
  },
  {
   "cell_type": "code",
   "execution_count": 2,
   "metadata": {},
   "outputs": [
    {
     "name": "stdout",
     "output_type": "stream",
     "text": [
      "Mean value soln, x: 100.0 f: 154.30141556119048\n"
     ]
    }
   ],
   "source": [
    "m = gp.Container()\n",
    "\n",
    "# Purchase costs per unit\n",
    "c = 0.3\n",
    "# Return value per unit leftover\n",
    "r = 0.05\n",
    "# Revenue per unit sold\n",
    "q = 2.0\n",
    "\n",
    "s = gp.Set(m,'s',description='planning scenarios',records = ['mvs'])\n",
    "d = gp.Parameter(m,'d',domain=s,records=[('mvs',100)],description='random demand')\n",
    "\n",
    "x = gp.Variable(m,'x','positive',description='Units bought')\n",
    "y = gp.Variable(m,'y','positive',domain=s,description='Units sold')\n",
    "z = gp.Variable(m,'z','positive',domain=s,description='Returns')\n",
    "\n",
    "defDem = gp.Equation(m,'defDem',domain=s,description='demand =  UnitsSold + LostSales')\n",
    "defDem[s]= d[s] >= y[s]\n",
    "\n",
    "defRet = gp.Equation(m,'defRet',domain=s,description='Returns(salvage) = UnitsBought - UnitsSold')\n",
    "defRet[s]= z[s] == x - y[s]\n",
    "\n",
    "nb = gp.Model(m,'nb',\n",
    "    equations=m.getEquations(),\n",
    "    problem=gp.Problem.LP,\n",
    "    sense=gp.Sense.MAX,\n",
    "    objective=-c*x + Sum(s, q*y[s] + r*z[s])\n",
    ")\n",
    "\n",
    "nb.solve(output=None)\n",
    "\n",
    "# POST PROCESSING #\n",
    "results = {}\n",
    "results['Xmvs'] = x.toValue()\n",
    "\n",
    "# demand sample for out of sample testing\n",
    "np.random.seed(args.seed) \n",
    "testD = np.random.normal(100,20,3000)\n",
    "# profit sample\n",
    "F = np.zeros(np.size(testD))\n",
    "for i in range(len(testD)):\n",
    "    F[i] = min((q-c)*results['Xmvs'], (q-r)*testD[i] + (r-c)*results['Xmvs'])\n",
    "\n",
    "results['Fmvs'] = np.sum(F)/len(testD)\n",
    "print(f'Mean value soln, x: {results['Xmvs']} f: {results['Fmvs']}')"
   ]
  },
  {
   "cell_type": "code",
   "execution_count": 3,
   "metadata": {},
   "outputs": [
    {
     "data": {
      "text/html": [
       "<div>\n",
       "<style scoped>\n",
       "    .dataframe tbody tr th:only-of-type {\n",
       "        vertical-align: middle;\n",
       "    }\n",
       "\n",
       "    .dataframe tbody tr th {\n",
       "        vertical-align: top;\n",
       "    }\n",
       "\n",
       "    .dataframe thead th {\n",
       "        text-align: right;\n",
       "    }\n",
       "</style>\n",
       "<table border=\"1\" class=\"dataframe\">\n",
       "  <thead>\n",
       "    <tr style=\"text-align: right;\">\n",
       "      <th></th>\n",
       "      <th>Solver Status</th>\n",
       "      <th>Model Status</th>\n",
       "      <th>Objective</th>\n",
       "      <th>Num of Equations</th>\n",
       "      <th>Num of Variables</th>\n",
       "      <th>Model Type</th>\n",
       "      <th>Solver</th>\n",
       "      <th>Solver Time</th>\n",
       "    </tr>\n",
       "  </thead>\n",
       "  <tbody>\n",
       "    <tr>\n",
       "      <th>0</th>\n",
       "      <td>Normal</td>\n",
       "      <td>OptimalGlobal</td>\n",
       "      <td>159.42702716105</td>\n",
       "      <td>801</td>\n",
       "      <td>802</td>\n",
       "      <td>LP</td>\n",
       "      <td>CPLEX</td>\n",
       "      <td>0.001</td>\n",
       "    </tr>\n",
       "  </tbody>\n",
       "</table>\n",
       "</div>"
      ],
      "text/plain": [
       "  Solver Status   Model Status        Objective Num of Equations  \\\n",
       "0        Normal  OptimalGlobal  159.42702716105              801   \n",
       "\n",
       "  Num of Variables Model Type Solver Solver Time  \n",
       "0              802         LP  CPLEX       0.001  "
      ]
     },
     "execution_count": 3,
     "metadata": {},
     "output_type": "execute_result"
    }
   ],
   "source": [
    "# Now do stochastic model\n",
    "\n",
    "s.setRecords([f's{ind+1}' for ind in range(args.s)])\n",
    "d.setRecords(np.random.normal(100,20,args.s))\n",
    "p = gp.Parameter(m,'p',domain=s,\n",
    "    records= np.array([1/args.s for ind in range(args.s)]))\n",
    "\n",
    "nb = gp.Model(m,'nb',\n",
    "    equations=[defDem,defRet],\n",
    "    problem=gp.Problem.LP,\n",
    "    sense=gp.Sense.MAX,\n",
    "    objective=-c*x + Sum(s, p[s]*(q*y[s] + r*z[s]))\n",
    ")\n",
    "\n",
    "nb.solve(output=None)"
   ]
  },
  {
   "cell_type": "code",
   "execution_count": 4,
   "metadata": {},
   "outputs": [
    {
     "name": "stdout",
     "output_type": "stream",
     "text": [
      "Stochastic soln(400), x: 122.1238294570209 f: 161.08457511581554\n",
      "CXss = 122.69833235986982\n",
      "vss = 6.783159554625058\n"
     ]
    }
   ],
   "source": [
    "# POST PROCESSING #\n",
    "results['Xss'] = x.toValue()\n",
    "\n",
    "F = np.zeros(np.size(testD))\n",
    "for i in range(len(testD)):\n",
    "    F[i] = min((q-c)*results['Xss'], (q-r)*testD[i] + (r-c)*results['Xss'])\n",
    "results['Fss'] = np.sum(F)/len(testD)\n",
    "print(f'Stochastic soln({args.s}), x: {results['Xss']} f: {results['Fss']}')\n",
    "\n",
    "# Closed form stochastic solution\n",
    "\n",
    "# ss.norm.ppf(0.95, loc=100, scale=20)\n",
    "CXss = NormalDist(mu=100, sigma=20).inv_cdf((q-c)/(q-r))\n",
    "print(f'CXss = {CXss}')\n",
    "\n",
    "# Calculate VSS\n",
    "vss =  results['Fss'] - results['Fmvs']\n",
    "print(f'vss = {vss}')"
   ]
  }
 ],
 "metadata": {
  "kernelspec": {
   "display_name": "Python 3 (ipykernel)",
   "language": "python",
   "name": "python3"
  },
  "language_info": {
   "codemirror_mode": {
    "name": "ipython",
    "version": 3
   },
   "file_extension": ".py",
   "mimetype": "text/x-python",
   "name": "python",
   "nbconvert_exporter": "python",
   "pygments_lexer": "ipython3",
   "version": "3.12.5"
  }
 },
 "nbformat": 4,
 "nbformat_minor": 4
}
