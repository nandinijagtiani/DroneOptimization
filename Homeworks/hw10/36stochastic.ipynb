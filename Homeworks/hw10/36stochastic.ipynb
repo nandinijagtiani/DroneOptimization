{
 "cells": [
  {
   "cell_type": "markdown",
   "metadata": {},
   "source": [
    "# Stochastic programming and sampling\n",
    "\n",
    "Furniture model from Royset/Wets: Primer Book chapter 2."
   ]
  },
  {
   "cell_type": "code",
   "execution_count": 1,
   "metadata": {},
   "outputs": [],
   "source": [
    "import gamspy as gp\n",
    "import gamspy.math as gpm\n",
    "from gamspy import Sum, Card\n",
    "\n",
    "import sys\n",
    "import numpy as np\n",
    "import pandas as pd\n",
    "from statistics import NormalDist\n",
    "\n",
    "class arguments:\n",
    "  def __init__(self, s=400, solver='cplex', seed = 0):\n",
    "    self.s = s\n",
    "    self.solver = solver\n",
    "    self.seed = seed\n",
    "      \n",
    "args = arguments(s=400)"
   ]
  },
  {
   "cell_type": "markdown",
   "metadata": {},
   "source": [
    "Calculate the mean value solution"
   ]
  },
  {
   "cell_type": "code",
   "execution_count": 2,
   "metadata": {},
   "outputs": [
    {
     "data": {
      "text/html": [
       "<div>\n",
       "<style scoped>\n",
       "    .dataframe tbody tr th:only-of-type {\n",
       "        vertical-align: middle;\n",
       "    }\n",
       "\n",
       "    .dataframe tbody tr th {\n",
       "        vertical-align: top;\n",
       "    }\n",
       "\n",
       "    .dataframe thead th {\n",
       "        text-align: right;\n",
       "    }\n",
       "</style>\n",
       "<table border=\"1\" class=\"dataframe\">\n",
       "  <thead>\n",
       "    <tr style=\"text-align: right;\">\n",
       "      <th></th>\n",
       "      <th>Solver Status</th>\n",
       "      <th>Model Status</th>\n",
       "      <th>Objective</th>\n",
       "      <th>Num of Equations</th>\n",
       "      <th>Num of Variables</th>\n",
       "      <th>Model Type</th>\n",
       "      <th>Solver</th>\n",
       "      <th>Solver Time</th>\n",
       "    </tr>\n",
       "  </thead>\n",
       "  <tbody>\n",
       "    <tr>\n",
       "      <th>0</th>\n",
       "      <td>Normal</td>\n",
       "      <td>OptimalGlobal</td>\n",
       "      <td>-18666.6666666667</td>\n",
       "      <td>3</td>\n",
       "      <td>7</td>\n",
       "      <td>LP</td>\n",
       "      <td>CPLEX</td>\n",
       "      <td>0</td>\n",
       "    </tr>\n",
       "  </tbody>\n",
       "</table>\n",
       "</div>"
      ],
      "text/plain": [
       "  Solver Status   Model Status          Objective Num of Equations  \\\n",
       "0        Normal  OptimalGlobal  -18666.6666666667                3   \n",
       "\n",
       "  Num of Variables Model Type Solver Solver Time  \n",
       "0                7         LP  CPLEX           0  "
      ]
     },
     "execution_count": 2,
     "metadata": {},
     "output_type": "execute_result"
    }
   ],
   "source": [
    "m = gp.Container()\n",
    "\n",
    "j = gp.Set(m,'j',description='dresser',records=[i+1 for i in range(4)])\n",
    "i = gp.Set(m,'i',description='labor',records=[('c','carpentry'),('f','finishing')])\n",
    "\n",
    "d = gp.Parameter(m,'d',domain=i,records=[('c',6000),('f',4000)],description='mean time avail')\n",
    "c = gp.Parameter(m,'c',domain=j,records=np.array([-12,-25,-21,-40]),description='cost')\n",
    "q = gp.Parameter(m,'q',domain=i,records=np.array([5,10]),description='overtime cost')\n",
    "\n",
    "s = gp.Set(m,'s',description='planning scenarios',records = ['mvs'])\n",
    "p = gp.Parameter(m,'p',domain=s,description='scenario probability',records=[('mvs',1)])\n",
    "t = gp.Parameter(m,'t',domain=[s,i,j],records=np.array(\n",
    "    [[[4, 9, 7, 10],[1, 1, 3, 40]]]),description='mean requirement')\n",
    "\n",
    "x = gp.Variable(m,'x','positive',domain=j,description='production')\n",
    "y = gp.Variable(m,'y','positive',domain=[s,i],description='overtime')\n",
    "\n",
    "cons = gp.Equation(m,'cons',domain=[s,i])\n",
    "cons[s,i] = Sum(j, t[s,i,j]*x[j]) <= d[i] + y[s,i]\n",
    "\n",
    "furn= gp.Model(m,'furn',\n",
    "    equations=m.getEquations(),\n",
    "    problem=gp.Problem.LP,\n",
    "    sense=gp.Sense.MIN,\n",
    "    objective=Sum(j, c[j]*x[j]) + Sum([s,i], p[s]*q[i]*y[s,i])\n",
    ")\n",
    "\n",
    "furn.solve(output=None)"
   ]
  },
  {
   "cell_type": "code",
   "execution_count": 3,
   "metadata": {
    "scrolled": true
   },
   "outputs": [
    {
     "data": {
      "text/html": [
       "<div>\n",
       "<style scoped>\n",
       "    .dataframe tbody tr th:only-of-type {\n",
       "        vertical-align: middle;\n",
       "    }\n",
       "\n",
       "    .dataframe tbody tr th {\n",
       "        vertical-align: top;\n",
       "    }\n",
       "\n",
       "    .dataframe thead th {\n",
       "        text-align: right;\n",
       "    }\n",
       "</style>\n",
       "<table border=\"1\" class=\"dataframe\">\n",
       "  <thead>\n",
       "    <tr style=\"text-align: right;\">\n",
       "      <th></th>\n",
       "      <th>j</th>\n",
       "      <th>level</th>\n",
       "    </tr>\n",
       "  </thead>\n",
       "  <tbody>\n",
       "    <tr>\n",
       "      <th>0</th>\n",
       "      <td>1</td>\n",
       "      <td>1333.333333</td>\n",
       "    </tr>\n",
       "    <tr>\n",
       "      <th>1</th>\n",
       "      <td>2</td>\n",
       "      <td>0.000000</td>\n",
       "    </tr>\n",
       "    <tr>\n",
       "      <th>2</th>\n",
       "      <td>3</td>\n",
       "      <td>0.000000</td>\n",
       "    </tr>\n",
       "    <tr>\n",
       "      <th>3</th>\n",
       "      <td>4</td>\n",
       "      <td>66.666667</td>\n",
       "    </tr>\n",
       "  </tbody>\n",
       "</table>\n",
       "</div>"
      ],
      "text/plain": [
       "   j        level\n",
       "0  1  1333.333333\n",
       "1  2     0.000000\n",
       "2  3     0.000000\n",
       "3  4    66.666667"
      ]
     },
     "metadata": {},
     "output_type": "display_data"
    }
   ],
   "source": [
    "display(x.l.records)\n",
    "xmvs = gp.Parameter(m,'xmvs',domain=j)\n",
    "xmvs[j] = x.l[j]\n",
    "fmvs = furn.objective_value"
   ]
  },
  {
   "cell_type": "markdown",
   "metadata": {},
   "source": [
    "Generate data to run (small) extensive form problem"
   ]
  },
  {
   "cell_type": "code",
   "execution_count": 4,
   "metadata": {},
   "outputs": [],
   "source": [
    "from itertools import product\n",
    "from functools import reduce\n",
    "\n",
    "def genScen(rv_t):\n",
    "    # cross product of values in ct and d\n",
    "    prodlist = [elem[1::2] for elem in rv_t.values()]\n",
    "    tv = list(product(*prodlist))\n",
    "    t = []\n",
    "    s = ['s'+str(scen) for scen in range(1,sum(1 for _ in tv)+1)]\n",
    "    keysct = list(ct.keys())\n",
    "    scen = 0\n",
    "    for i in tv:\n",
    "        scen +=1\n",
    "        for j in range(len(ct)):\n",
    "            t.append(('s'+str(scen),keysct[j][0],keysct[j][1],i[j]))\n",
    "\n",
    "    prodlist = [elem[::2] for elem in rv_t.values()]\n",
    "    tv = list(product(*prodlist))\n",
    "    p = [];\n",
    "    scen = 0\n",
    "    for i in tv:\n",
    "        scen +=1\n",
    "        p.append(('s'+str(scen),reduce((lambda x, y: x * y), i)))\n",
    "    return s, p, t\n",
    "\n",
    "# discrete distribution (p,val) for each element of T and d\n",
    "ct = {('c','1'): [.25,  3.60,.25,  3.90,.25, 4.10,.25, 4.40],\n",
    "    ('c','2'): [.25,  8.25,.25,  8.75,.25, 9.25,.25, 9.75],\n",
    "    ('c','3'): [.25,  6.85,.25,  6.95,.25, 7.05,.25, 7.15],\n",
    "    ('c','4'): [.25,  9.25,.25,  9.75,.25,10.25,.25,10.75],\n",
    "    ('f','1'): [.25,  0.85,.25,  0.95,.25, 1.05,.25, 1.15],\n",
    "    ('f','2'): [.25,  0.85,.25,  0.95,.25, 1.05,.25, 1.15],\n",
    "    ('f','3'): [.25,  2.60,.25,  2.90,.25, 3.10,.25, 3.40],\n",
    "    ('f','4'): [.25,37.00,.25,39.00,.25,41.00,.25,43.00]}\n",
    "svals,pvals,tvals = genScen(ct)\n",
    "\n",
    "s.setRecords(svals)\n",
    "p.setRecords(pvals)\n",
    "t.setRecords(tvals)"
   ]
  },
  {
   "cell_type": "code",
   "execution_count": 5,
   "metadata": {},
   "outputs": [
    {
     "data": {
      "text/html": [
       "<div>\n",
       "<style scoped>\n",
       "    .dataframe tbody tr th:only-of-type {\n",
       "        vertical-align: middle;\n",
       "    }\n",
       "\n",
       "    .dataframe tbody tr th {\n",
       "        vertical-align: top;\n",
       "    }\n",
       "\n",
       "    .dataframe thead th {\n",
       "        text-align: right;\n",
       "    }\n",
       "</style>\n",
       "<table border=\"1\" class=\"dataframe\">\n",
       "  <thead>\n",
       "    <tr style=\"text-align: right;\">\n",
       "      <th></th>\n",
       "      <th>Solver Status</th>\n",
       "      <th>Model Status</th>\n",
       "      <th>Objective</th>\n",
       "      <th>Num of Equations</th>\n",
       "      <th>Num of Variables</th>\n",
       "      <th>Model Type</th>\n",
       "      <th>Solver</th>\n",
       "      <th>Solver Time</th>\n",
       "    </tr>\n",
       "  </thead>\n",
       "  <tbody>\n",
       "    <tr>\n",
       "      <th>0</th>\n",
       "      <td>Normal</td>\n",
       "      <td>OptimalGlobal</td>\n",
       "      <td>-18127.8446140515</td>\n",
       "      <td>131073</td>\n",
       "      <td>131077</td>\n",
       "      <td>LP</td>\n",
       "      <td>CPLEX</td>\n",
       "      <td>0.365</td>\n",
       "    </tr>\n",
       "  </tbody>\n",
       "</table>\n",
       "</div>"
      ],
      "text/plain": [
       "  Solver Status   Model Status          Objective Num of Equations  \\\n",
       "0        Normal  OptimalGlobal  -18127.8446140515           131073   \n",
       "\n",
       "  Num of Variables Model Type Solver Solver Time  \n",
       "0           131077         LP  CPLEX       0.365  "
      ]
     },
     "execution_count": 5,
     "metadata": {},
     "output_type": "execute_result"
    }
   ],
   "source": [
    "furn.solve(solver='cplex',solver_options={'threads': 2, 'lpmethod': 4, 'advind': 0},output=None)"
   ]
  },
  {
   "cell_type": "code",
   "execution_count": 6,
   "metadata": {
    "scrolled": true
   },
   "outputs": [
    {
     "data": {
      "text/html": [
       "<div>\n",
       "<style scoped>\n",
       "    .dataframe tbody tr th:only-of-type {\n",
       "        vertical-align: middle;\n",
       "    }\n",
       "\n",
       "    .dataframe tbody tr th {\n",
       "        vertical-align: top;\n",
       "    }\n",
       "\n",
       "    .dataframe thead th {\n",
       "        text-align: right;\n",
       "    }\n",
       "</style>\n",
       "<table border=\"1\" class=\"dataframe\">\n",
       "  <thead>\n",
       "    <tr style=\"text-align: right;\">\n",
       "      <th></th>\n",
       "      <th>j</th>\n",
       "      <th>level</th>\n",
       "    </tr>\n",
       "  </thead>\n",
       "  <tbody>\n",
       "    <tr>\n",
       "      <th>0</th>\n",
       "      <td>1</td>\n",
       "      <td>205.162318</td>\n",
       "    </tr>\n",
       "    <tr>\n",
       "      <th>1</th>\n",
       "      <td>2</td>\n",
       "      <td>0.000000</td>\n",
       "    </tr>\n",
       "    <tr>\n",
       "      <th>2</th>\n",
       "      <td>3</td>\n",
       "      <td>696.011413</td>\n",
       "    </tr>\n",
       "    <tr>\n",
       "      <th>3</th>\n",
       "      <td>4</td>\n",
       "      <td>32.980018</td>\n",
       "    </tr>\n",
       "  </tbody>\n",
       "</table>\n",
       "</div>"
      ],
      "text/plain": [
       "   j       level\n",
       "0  1  205.162318\n",
       "1  2    0.000000\n",
       "2  3  696.011413\n",
       "3  4   32.980018"
      ]
     },
     "metadata": {},
     "output_type": "display_data"
    }
   ],
   "source": [
    "display(x.l.records)"
   ]
  },
  {
   "cell_type": "code",
   "execution_count": 7,
   "metadata": {},
   "outputs": [],
   "source": [
    "# What is value of stochastic solution"
   ]
  },
  {
   "cell_type": "code",
   "execution_count": 8,
   "metadata": {},
   "outputs": [
    {
     "data": {
      "text/html": [
       "<div>\n",
       "<style scoped>\n",
       "    .dataframe tbody tr th:only-of-type {\n",
       "        vertical-align: middle;\n",
       "    }\n",
       "\n",
       "    .dataframe tbody tr th {\n",
       "        vertical-align: top;\n",
       "    }\n",
       "\n",
       "    .dataframe thead th {\n",
       "        text-align: right;\n",
       "    }\n",
       "</style>\n",
       "<table border=\"1\" class=\"dataframe\">\n",
       "  <thead>\n",
       "    <tr style=\"text-align: right;\">\n",
       "      <th></th>\n",
       "      <th>Solver Status</th>\n",
       "      <th>Model Status</th>\n",
       "      <th>Objective</th>\n",
       "      <th>Num of Equations</th>\n",
       "      <th>Num of Variables</th>\n",
       "      <th>Model Type</th>\n",
       "      <th>Solver</th>\n",
       "      <th>Solver Time</th>\n",
       "    </tr>\n",
       "  </thead>\n",
       "  <tbody>\n",
       "    <tr>\n",
       "      <th>0</th>\n",
       "      <td>Normal</td>\n",
       "      <td>OptimalGlobal</td>\n",
       "      <td>-17000.0000000002</td>\n",
       "      <td>131073</td>\n",
       "      <td>131077</td>\n",
       "      <td>LP</td>\n",
       "      <td>MOSEK</td>\n",
       "      <td>0.039</td>\n",
       "    </tr>\n",
       "  </tbody>\n",
       "</table>\n",
       "</div>"
      ],
      "text/plain": [
       "  Solver Status   Model Status          Objective Num of Equations  \\\n",
       "0        Normal  OptimalGlobal  -17000.0000000002           131073   \n",
       "\n",
       "  Num of Variables Model Type Solver Solver Time  \n",
       "0           131077         LP  MOSEK       0.039  "
      ]
     },
     "execution_count": 8,
     "metadata": {},
     "output_type": "execute_result"
    }
   ],
   "source": [
    "fss = furn.objective_value\n",
    "x.fx[j] = xmvs[j]\n",
    "furn.solve(solver='mosek',solver_options={'threads': 2, 'lpmethod': 4, 'advind': 0},output=None)"
   ]
  },
  {
   "cell_type": "code",
   "execution_count": 9,
   "metadata": {},
   "outputs": [
    {
     "name": "stdout",
     "output_type": "stream",
     "text": [
      "Overtime cost = 1666.666666666515\n",
      "vss = 1127.844614051366\n"
     ]
    }
   ],
   "source": [
    "print(f'Overtime cost = {furn.objective_value-fmvs}')\n",
    "print(f'vss = {-fss+furn.objective_value}')"
   ]
  },
  {
   "cell_type": "markdown",
   "metadata": {},
   "source": [
    "Now generate discrete sample of distribution when T(i,j) is Normal(mean,1/4).  Better code in sampling notebook."
   ]
  },
  {
   "cell_type": "raw",
   "metadata": {},
   "source": [
    "mean = {('c','1'): 4.0,('c','2'): 9.0,('c','3'): 7.0,('c','4'): 10.0,\n",
    "    ('f','1'): 1.0,('f','2'): 1.0,('f','3'): 3.0,('f','4'): 40.0}\n",
    "np.random.seed(503)\n",
    "# number of samples\n",
    "N = 4\n",
    "# discrete distribution (p,val) for each element of T and d\n",
    "# just change the values (not the ps)\n",
    "for i in mean.keys():\n",
    "    for j in range(N):\n",
    "        ct[i][2*j-1] = np.random.normal(loc=mean[i],scale=1/4)\n",
    "\n",
    "svals,pvals,tvals = genScen(ct)\n",
    "\n",
    "s.setRecords(svals)\n",
    "p.setRecords(pvals)\n",
    "t.setRecords(tvals)\n",
    "furn.solve(solver='cplex',solver_options={'threads': 2, 'lpmethod': 4, 'advind': 0},output=None)"
   ]
  },
  {
   "cell_type": "raw",
   "metadata": {},
   "source": [
    "display(x.l.records)"
   ]
  },
  {
   "cell_type": "code",
   "execution_count": null,
   "metadata": {},
   "outputs": [],
   "source": []
  },
  {
   "cell_type": "code",
   "execution_count": null,
   "metadata": {},
   "outputs": [],
   "source": []
  }
 ],
 "metadata": {
  "kernelspec": {
   "display_name": "Python 3 (ipykernel)",
   "language": "python",
   "name": "python3"
  },
  "language_info": {
   "codemirror_mode": {
    "name": "ipython",
    "version": 3
   },
   "file_extension": ".py",
   "mimetype": "text/x-python",
   "name": "python",
   "nbconvert_exporter": "python",
   "pygments_lexer": "ipython3",
   "version": "3.12.5"
  }
 },
 "nbformat": 4,
 "nbformat_minor": 4
}
