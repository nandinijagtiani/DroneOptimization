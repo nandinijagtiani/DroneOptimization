{
 "cells": [
  {
   "cell_type": "code",
   "execution_count": 1,
   "metadata": {
    "scrolled": true
   },
   "outputs": [],
   "source": [
    "import gamspy as gp\n",
    "import gamspy.math as gpm\n",
    "from gamspy import Sum, Card\n",
    "\n",
    "import sys\n",
    "import numpy as np\n",
    "import pandas as pd"
   ]
  },
  {
   "cell_type": "markdown",
   "metadata": {},
   "source": [
    "# Simple SOCP problem\n",
    "\n",
    "We would like to minimize the function \n",
    "$$f: \\mathbb{R}^3 \\mapsto \\mathbb{R},$$\n",
    "with values:\n",
    "$$ f(x) = \\max \\left( x_1 + x_2 - \\min ( \\min ( x_1+2,x_2+2x_1-5),x_3 - 6),\n",
    " \\frac{(x_1-x_3)^2 + 2x_2^2}{1-x_1} \\right),\n",
    "$$\n",
    "with the constraint \\$\\| x_1 \\| \\leq 0.9 \\$.   Explain precisely how to formulate the \n",
    "problem as an SOCP in standard form."
   ]
  },
  {
   "cell_type": "markdown",
   "metadata": {},
   "source": [
    "# Put your formulation (in text) here"
   ]
  },
  {
   "cell_type": "code",
   "execution_count": null,
   "metadata": {},
   "outputs": [],
   "source": [
    "m = gp.Container()\n",
    "i = gp.Set(m,'i',records=[ind+1 for ind in range(3)]) \n",
    "\n",
    "# PUT YOUR MODEL HERE\n",
    "m = gp.Container()\n",
    "\n",
    "x1 = m.addVariable('x1')\n",
    "x2 = m.addVariable('x2')\n",
    "x3 = m.addVariable('x3')\n",
    "x1.lo = -0.9\n",
    "x1.up = 0.9\n",
    "\n",
    "const1 = m.addEquation('const1')\n",
    "const1[:] =  x1 <= 0.9\n",
    "\n",
    "# need z >= 0 to convey SOC\n",
    "sonc2 = m.addEquation('sonc2')\n",
    "sonc2[:] = gpm.sqr(z) >= gpm.sqr(w) + gpm.sqr(y)\n",
    "\n",
    "# need y,z >= 0 to convey rotated SOC\n",
    "sonc3 = m.addEquation('sonc3')\n",
    "sonc3[:] = 2*y*z >= gpm.sqr(w)\n",
    "\n",
    "socp = m.addModel('socp',\n",
    "    equations=m.getEquations(),\n",
    "    problem=gp.Problem.QCP,\n",
    "    sense=gp.Sense.MAX,\n",
    "    objective=w\n",
    ")\n",
    "\n",
    "socp.solve(options=gp.Options(qcp=\"cplex\"),output=None)"
   ]
  },
  {
   "cell_type": "code",
   "execution_count": null,
   "metadata": {},
   "outputs": [],
   "source": [
    "display(x.l.records)"
   ]
  },
  {
   "cell_type": "code",
   "execution_count": null,
   "metadata": {},
   "outputs": [],
   "source": [
    "socp.solve(options=gp.Options(qcp=\"mosek\"),output=None)\n",
    "# 4.3923"
   ]
  },
  {
   "cell_type": "code",
   "execution_count": null,
   "metadata": {},
   "outputs": [],
   "source": []
  }
 ],
 "metadata": {
  "kernelspec": {
   "display_name": "venv",
   "language": "python",
   "name": "python3"
  },
  "language_info": {
   "codemirror_mode": {
    "name": "ipython",
    "version": 3
   },
   "file_extension": ".py",
   "mimetype": "text/x-python",
   "name": "python",
   "nbconvert_exporter": "python",
   "pygments_lexer": "ipython3",
   "version": "3.10.12"
  }
 },
 "nbformat": 4,
 "nbformat_minor": 4
}
