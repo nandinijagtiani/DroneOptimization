{
 "cells": [
  {
   "cell_type": "code",
   "execution_count": 1,
   "metadata": {
    "scrolled": true
   },
   "outputs": [],
   "source": [
    "import gamspy as gp\n",
    "import gamspy.math as gpm\n",
    "from gamspy import Sum, Card\n",
    "\n",
    "import sys\n",
    "import numpy as np\n",
    "import pandas as pd"
   ]
  },
  {
   "cell_type": "markdown",
   "metadata": {},
   "source": [
    "# Stochastic production problem"
   ]
  },
  {
   "cell_type": "code",
   "execution_count": 3,
   "metadata": {},
   "outputs": [
    {
     "ename": "TypeError",
     "evalue": "Domain item must be type Set, Alias, ImplicitSet or str but found `<class 'gamspy._algebra.expression.Expression'>`",
     "output_type": "error",
     "traceback": [
      "\u001b[0;31m---------------------------------------------------------------------------\u001b[0m",
      "\u001b[0;31mTypeError\u001b[0m                                 Traceback (most recent call last)",
      "Cell \u001b[0;32mIn[3], line 29\u001b[0m\n\u001b[1;32m     26\u001b[0m split_inv_eq[t] \u001b[38;5;241m=\u001b[39m i[t] \u001b[38;5;241m==\u001b[39m ell[t] \u001b[38;5;241m+\u001b[39m h[t]\n\u001b[1;32m     28\u001b[0m prod_change_eq \u001b[38;5;241m=\u001b[39m gp\u001b[38;5;241m.\u001b[39mEquation(m,\u001b[38;5;124m'\u001b[39m\u001b[38;5;124mprod_change_eq\u001b[39m\u001b[38;5;124m'\u001b[39m,domain\u001b[38;5;241m=\u001b[39mt) \n\u001b[0;32m---> 29\u001b[0m prod_change_eq[t] \u001b[38;5;241m=\u001b[39m p[t] \u001b[38;5;241m-\u001b[39m \u001b[43mp\u001b[49m\u001b[43m[\u001b[49m\u001b[43mt\u001b[49m\u001b[38;5;241;43m-\u001b[39;49m\u001b[38;5;241;43m1\u001b[39;49m\u001b[43m]\u001b[49m \u001b[38;5;241m-\u001b[39m initialProd\u001b[38;5;241m.\u001b[39mwhere[t\u001b[38;5;241m.\u001b[39mfirst] \u001b[38;5;241m==\u001b[39m u[t] \u001b[38;5;241m-\u001b[39m n[t]\n\u001b[1;32m     31\u001b[0m inv_bal_eq \u001b[38;5;241m=\u001b[39m gp\u001b[38;5;241m.\u001b[39mEquation(m,\u001b[38;5;124m'\u001b[39m\u001b[38;5;124minv_bal_eq\u001b[39m\u001b[38;5;124m'\u001b[39m,domain\u001b[38;5;241m=\u001b[39mt) \n\u001b[1;32m     32\u001b[0m inv_bal_eq[t] \u001b[38;5;241m=\u001b[39m i[t\u001b[38;5;241m-\u001b[39m\u001b[38;5;241m1\u001b[39m] \u001b[38;5;241m+\u001b[39m initialInv\u001b[38;5;241m.\u001b[39mwhere[t\u001b[38;5;241m.\u001b[39mfirst] \u001b[38;5;241m+\u001b[39m p[t] \u001b[38;5;241m==\u001b[39m y[t] \u001b[38;5;241m+\u001b[39m i[t]\n",
      "File \u001b[0;32m~/CS524/venv/lib/python3.10/site-packages/gamspy/_symbols/variable.py:299\u001b[0m, in \u001b[0;36mVariable.__getitem__\u001b[0;34m(self, indices)\u001b[0m\n\u001b[1;32m    296\u001b[0m \u001b[38;5;28;01mdef\u001b[39;00m \u001b[38;5;21m__getitem__\u001b[39m(\n\u001b[1;32m    297\u001b[0m     \u001b[38;5;28mself\u001b[39m, indices: Sequence \u001b[38;5;241m|\u001b[39m \u001b[38;5;28mstr\u001b[39m\n\u001b[1;32m    298\u001b[0m ) \u001b[38;5;241m-\u001b[39m\u001b[38;5;241m>\u001b[39m implicits\u001b[38;5;241m.\u001b[39mImplicitVariable:\n\u001b[0;32m--> 299\u001b[0m     domain \u001b[38;5;241m=\u001b[39m \u001b[43mvalidation\u001b[49m\u001b[38;5;241;43m.\u001b[39;49m\u001b[43mvalidate_domain\u001b[49m\u001b[43m(\u001b[49m\u001b[38;5;28;43mself\u001b[39;49m\u001b[43m,\u001b[49m\u001b[43m \u001b[49m\u001b[43mindices\u001b[49m\u001b[43m)\u001b[49m\n\u001b[1;32m    301\u001b[0m     \u001b[38;5;28;01mreturn\u001b[39;00m implicits\u001b[38;5;241m.\u001b[39mImplicitVariable(\u001b[38;5;28mself\u001b[39m, name\u001b[38;5;241m=\u001b[39m\u001b[38;5;28mself\u001b[39m\u001b[38;5;241m.\u001b[39mname, domain\u001b[38;5;241m=\u001b[39mdomain)\n",
      "File \u001b[0;32m~/CS524/venv/lib/python3.10/site-packages/gamspy/_validation.py:188\u001b[0m, in \u001b[0;36mvalidate_domain\u001b[0;34m(symbol, indices)\u001b[0m\n\u001b[1;32m    184\u001b[0m \u001b[38;5;28;01mdef\u001b[39;00m \u001b[38;5;21mvalidate_domain\u001b[39m(\n\u001b[1;32m    185\u001b[0m     symbol: Set \u001b[38;5;241m|\u001b[39m Parameter \u001b[38;5;241m|\u001b[39m Equation \u001b[38;5;241m|\u001b[39m ImplicitParameter,\n\u001b[1;32m    186\u001b[0m     indices: Set \u001b[38;5;241m|\u001b[39m Alias \u001b[38;5;241m|\u001b[39m \u001b[38;5;28mstr\u001b[39m \u001b[38;5;241m|\u001b[39m \u001b[38;5;28mtuple\u001b[39m \u001b[38;5;241m|\u001b[39m ImplicitSet,\n\u001b[1;32m    187\u001b[0m ):\n\u001b[0;32m--> 188\u001b[0m     domain \u001b[38;5;241m=\u001b[39m \u001b[43m_transform_given_indices\u001b[49m\u001b[43m(\u001b[49m\u001b[43msymbol\u001b[49m\u001b[38;5;241;43m.\u001b[39;49m\u001b[43mdomain\u001b[49m\u001b[43m,\u001b[49m\u001b[43m \u001b[49m\u001b[43mindices\u001b[49m\u001b[43m)\u001b[49m\n\u001b[1;32m    189\u001b[0m     validate_container(symbol, domain)\n\u001b[1;32m    190\u001b[0m     validate_dimension(symbol, domain)\n",
      "File \u001b[0;32m~/CS524/venv/lib/python3.10/site-packages/gamspy/_validation.py:144\u001b[0m, in \u001b[0;36m_transform_given_indices\u001b[0;34m(domain, indices)\u001b[0m\n\u001b[1;32m    142\u001b[0m new_domain: \u001b[38;5;28mlist\u001b[39m \u001b[38;5;241m=\u001b[39m []\n\u001b[1;32m    143\u001b[0m given_domain \u001b[38;5;241m=\u001b[39m utils\u001b[38;5;241m.\u001b[39m_to_list(indices)\n\u001b[0;32m--> 144\u001b[0m \u001b[43mvalidate_type\u001b[49m\u001b[43m(\u001b[49m\u001b[43mgiven_domain\u001b[49m\u001b[43m)\u001b[49m\n\u001b[1;32m    146\u001b[0m \u001b[38;5;28;01mif\u001b[39;00m \u001b[38;5;28mlen\u001b[39m(domain) \u001b[38;5;241m==\u001b[39m \u001b[38;5;241m0\u001b[39m:\n\u001b[1;32m    147\u001b[0m     \u001b[38;5;66;03m# If scalar, only correct indexing is [:] or [...]\u001b[39;00m\n\u001b[1;32m    148\u001b[0m     \u001b[38;5;28;01mif\u001b[39;00m \u001b[38;5;28mlen\u001b[39m(given_domain) \u001b[38;5;241m!=\u001b[39m \u001b[38;5;241m1\u001b[39m:\n",
      "File \u001b[0;32m~/CS524/venv/lib/python3.10/site-packages/gamspy/_validation.py:113\u001b[0m, in \u001b[0;36mvalidate_type\u001b[0;34m(domain)\u001b[0m\n\u001b[1;32m    100\u001b[0m \u001b[38;5;28;01mfor\u001b[39;00m given \u001b[38;5;129;01min\u001b[39;00m domain:\n\u001b[1;32m    101\u001b[0m     \u001b[38;5;28;01mif\u001b[39;00m \u001b[38;5;129;01mnot\u001b[39;00m \u001b[38;5;28misinstance\u001b[39m(\n\u001b[1;32m    102\u001b[0m         given,\n\u001b[1;32m    103\u001b[0m         (\n\u001b[0;32m   (...)\u001b[0m\n\u001b[1;32m    111\u001b[0m         ),\n\u001b[1;32m    112\u001b[0m     ):\n\u001b[0;32m--> 113\u001b[0m         \u001b[38;5;28;01mraise\u001b[39;00m \u001b[38;5;167;01mTypeError\u001b[39;00m(\n\u001b[1;32m    114\u001b[0m             \u001b[38;5;124m\"\u001b[39m\u001b[38;5;124mDomain item must be type Set, Alias, ImplicitSet or str but\u001b[39m\u001b[38;5;124m\"\u001b[39m\n\u001b[1;32m    115\u001b[0m             \u001b[38;5;124mf\u001b[39m\u001b[38;5;124m\"\u001b[39m\u001b[38;5;124m found `\u001b[39m\u001b[38;5;132;01m{\u001b[39;00m\u001b[38;5;28mtype\u001b[39m(given)\u001b[38;5;132;01m}\u001b[39;00m\u001b[38;5;124m`\u001b[39m\u001b[38;5;124m\"\u001b[39m\n\u001b[1;32m    116\u001b[0m         )\n",
      "\u001b[0;31mTypeError\u001b[0m: Domain item must be type Set, Alias, ImplicitSet or str but found `<class 'gamspy._algebra.expression.Expression'>`"
     ]
    }
   ],
   "source": [
    "m = gp.Container()\n",
    "t = gp.Set(m,'t',records=['Jul', 'Aug', 'Sep', 'Oct', 'Nov', 'Dec']) \n",
    "d = gp.Parameter(m,'d',domain=t,records=np.array([4, 8, 20, 12, 6, 2]))\n",
    "# Scale to thousands\n",
    "d[t] = 1000 * d[t]\n",
    "initialProd = gp.Parameter(m,'initialProd',records=4000,description='production in June')\n",
    "initialInv = gp.Parameter(m,'initialInv',records=2000,description='inventory at end of June')\n",
    "\n",
    "increaseProd = 1.50 # cost per unit to increase production\n",
    "decreaseProd = 1.00 # cost per unit to decrease production\n",
    "lowInv = 8000  # maximum (low) inventory level\n",
    "lowHoldCost = 0.2 # Inventory holding cost (low)\n",
    "highHoldCost = 0.5 # Inventory holding cost (high)\n",
    "shortageCost = 1.0 # Shortage cost\n",
    "\n",
    "ell = gp.Variable(m,'ell','positive',domain=t,description=\"low inventory level\")\n",
    "h = gp.Variable(m,'h','positive',domain=t,description=\"high inventory level\")\n",
    "u = gp.Variable(m,'u','positive',domain=t,description=\"increase in production\")\n",
    "n = gp.Variable(m,'n','positive',domain=t,description=\"decrease in production\")\n",
    "r = gp.Variable(m,'r','positive',domain=t,description=\"shortage\")\n",
    "y = gp.Variable(m,'y','positive',domain=t,description=\"demand met\")\n",
    "p = gp.Variable(m,'p','positive',domain=t,description=\"production\")\n",
    "i = gp.Variable(m,'i','positive',domain=t,description=\"inventory\")\n",
    "\n",
    "split_inv_eq = gp.Equation(m,'split_inv_eq',domain=t) \n",
    "split_inv_eq[t] = i[t] == ell[t] + h[t]\n",
    "\n",
    "prod_change_eq = gp.Equation(m,'prod_change_eq',domain=t) \n",
    "prod_change_eq[t] = p[t] - p[t-1] - initialProd.where[t.first] == u[t] - n[t]\n",
    "\n",
    "inv_bal_eq = gp.Equation(m,'inv_bal_eq',domain=t) \n",
    "inv_bal_eq[t] = i[t-1] + initialInv.where[t.first] + p[t] == y[t] + i[t]\n",
    "\n",
    "shortage_eq = gp.Equation(m,'shortage_eq',domain=t) \n",
    "shortage_eq[t] = r[t] >= d[t] - y[t]\n",
    "\n",
    "sp = gp.Model(m,'sp',\n",
    "    equations=m.getEquations(),\n",
    "    problem=gp.Problem.LP,\n",
    "    sense=gp.Sense.MIN,\n",
    "    objective=Sum(t, lowHoldCost * ell[t] + highHoldCost * h[t] +\n",
    "                 increaseProd * u[t] + decreaseProd * n[t] +\n",
    "                 shortageCost * r[t]),\n",
    ")\n",
    "\n",
    "ell.up[t] = lowInv\n",
    "y.up[t] = d[t]\n",
    "\n",
    "sp.solve(options=gp.Options(qcp=\"cplex\"),output=None)"
   ]
  },
  {
   "cell_type": "code",
   "execution_count": null,
   "metadata": {},
   "outputs": [],
   "source": [
    "display(p.l.records)"
   ]
  },
  {
   "cell_type": "code",
   "execution_count": null,
   "metadata": {},
   "outputs": [],
   "source": [
    "m = gp.Container()\n",
    "\n",
    "# PUT YOUR STOCHASTIC MODEL HERE\n",
    "# You may want to copy the original data statement and perhaps\n",
    "# equations and then edit them to add the scenario information\n",
    "\n",
    "sp.solve(options=gp.Options(qcp=\"cplex\"),output=None)"
   ]
  },
  {
   "cell_type": "code",
   "execution_count": null,
   "metadata": {},
   "outputs": [],
   "source": [
    "display(p.l.records)"
   ]
  },
  {
   "cell_type": "code",
   "execution_count": null,
   "metadata": {},
   "outputs": [],
   "source": []
  }
 ],
 "metadata": {
  "kernelspec": {
   "display_name": "venv",
   "language": "python",
   "name": "python3"
  },
  "language_info": {
   "codemirror_mode": {
    "name": "ipython",
    "version": 3
   },
   "file_extension": ".py",
   "mimetype": "text/x-python",
   "name": "python",
   "nbconvert_exporter": "python",
   "pygments_lexer": "ipython3",
   "version": "3.10.12"
  }
 },
 "nbformat": 4,
 "nbformat_minor": 4
}
