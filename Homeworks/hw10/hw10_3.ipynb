{
 "cells": [
  {
   "cell_type": "code",
   "execution_count": 1,
   "metadata": {
    "scrolled": true
   },
   "outputs": [],
   "source": [
    "import gamspy as gp\n",
    "import gamspy.math as gpm\n",
    "from gamspy import Sum, Card\n",
    "\n",
    "import sys\n",
    "import numpy as np\n",
    "import pandas as pd"
   ]
  },
  {
   "cell_type": "markdown",
   "metadata": {},
   "source": [
    "# Stochastic transport problem"
   ]
  },
  {
   "cell_type": "code",
   "execution_count": 2,
   "metadata": {},
   "outputs": [],
   "source": [
    "m = gp.Container(load_from='stochtrans.gdx')\n",
    "i, cap, s, p = m.getSymbols(['I','cap','scen','p'])\n",
    "j = gp.Alias(m,'j',i)\n",
    "k = gp.Alias(m,'k',i)\n",
    "c, q, D, meanD = m.getSymbols(['c','q', 's_d', 'D'])"
   ]
  },
  {
   "cell_type": "code",
   "execution_count": null,
   "metadata": {},
   "outputs": [],
   "source": [
    "# PUT YOUR STOCHASTIC MODEL HERE\n",
    "\n",
    "sp.solve(options=gp.Options(qcp=\"cplex\"),output=None)"
   ]
  },
  {
   "cell_type": "code",
   "execution_count": null,
   "metadata": {},
   "outputs": [],
   "source": [
    "profs = sp.objective_value\n",
    "scens = s.records\n",
    "s.setRecords(['mvs'])\n",
    "\n",
    "# PUT YOUR MEAN VALUE PROBLEM HERE\n",
    "\n",
    "mvp.solve(options=gp.Options(qcp=\"cplex\"),output=None)"
   ]
  },
  {
   "cell_type": "code",
   "execution_count": null,
   "metadata": {},
   "outputs": [],
   "source": [
    "s.setRecords(scens)\n",
    "\n",
    "# FOLLOWING MAY NEED ADJUSTMENT IF YOU NAME VARIABLES DIFFERENTLY\n",
    "x.fx[i,j] = x.l[i,j]\n",
    "y.up[i,j,s] = D[i,j,s]\n",
    "\n",
    "sp.solve(options=gp.Options(qcp=\"cplex\"),output=None)"
   ]
  },
  {
   "cell_type": "code",
   "execution_count": null,
   "metadata": {},
   "outputs": [],
   "source": [
    "vss = profs-sp.objective_value\n",
    "print(f'vss = {vss}')"
   ]
  },
  {
   "cell_type": "code",
   "execution_count": null,
   "metadata": {},
   "outputs": [],
   "source": []
  }
 ],
 "metadata": {
  "kernelspec": {
   "display_name": "venv",
   "language": "python",
   "name": "python3"
  },
  "language_info": {
   "codemirror_mode": {
    "name": "ipython",
    "version": 3
   },
   "file_extension": ".py",
   "mimetype": "text/x-python",
   "name": "python",
   "nbconvert_exporter": "python",
   "pygments_lexer": "ipython3",
   "version": "3.10.12"
  }
 },
 "nbformat": 4,
 "nbformat_minor": 4
}
