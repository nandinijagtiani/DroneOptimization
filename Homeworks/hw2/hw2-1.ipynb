{
 "cells": [
  {
   "cell_type": "code",
   "execution_count": 2,
   "metadata": {},
   "outputs": [],
   "source": [
    "from gamspy import (Container, Variable, Equation, Model, Set, Parameter, Sum, Problem, Sense, Options)\n",
    "import numpy as np"
   ]
  },
  {
   "cell_type": "code",
   "execution_count": 3,
   "metadata": {},
   "outputs": [],
   "source": [
    "m = Container()\n",
    "\n",
    "#SETS\n",
    "materials = Set(m, 'materials', records=['Fe1', 'Fe2', 'Fe3', 'Cu1', 'Cu2', 'Al1', 'Al2'])\n",
    "elements = Set(m, 'elements', records = ['C', 'Cu', 'Mn'])\n",
    "pct = Parameter(m, 'pct', domain = [elements, materials], records = np.array([[2.5, 3, 0, 0, 0, 0, 0], \n",
    "                                                                    [0, 0, 0.3, 90, 96, 0.4, 0.6], \n",
    "                                                                    [1.3, 0.8, 0, 0, 4, 1.2, 0]]))\n",
    "price = Parameter(m, 'price', domain=[materials], records=np.array([200, 250, 150, 220, 240, 200, 165]))\n",
    "availability = Parameter(m, name='availability', domain=materials, records=np.array([400, 300, 600, 500, 200, 300, 250]))\n",
    "\n",
    "lower_rb = Parameter(container=m, name=\"lower_rb\", domain=elements, records=np.array([(2 * 500), (0.4 * 500), (1.2 * 500)]))\n",
    "upper_rb = Parameter(container=m, name=\"upper_rb\", domain=elements, records=np.array([(3 * 500), (0.6 * 500), (1.65 * 500)]))\n",
    "\n",
    "v = Variable(m, 'v', domain=materials, type='Positive')\n",
    "\n",
    "low_pc = Equation(m, 'low_pc', domain=elements)\n",
    "low_pc[elements] = Sum(materials, pct[elements, materials] * v[materials]) >= lower_rb[elements]\n",
    "high_pc = Equation(m, 'high_pc', domain=elements)\n",
    "high_pc[elements] = Sum(materials, pct[elements, materials] * v[materials]) <= upper_rb[elements]\n",
    "resources = Equation(m, 'resources', domain=materials)\n",
    "resources[materials] = v[materials] <= availability[materials]\n",
    "mb = Equation(m, 'mb')\n",
    "mb[:] = Sum(materials, v[materials]) == 500\n",
    "\n",
    "# Model setup\n",
    "steel_model = Model(m,\n",
    "    name='steel_model',\n",
    "    equations=m.getEquations(),\n",
    "    problem=Problem.LP,\n",
    "    sense=Sense.MIN,\n",
    "    objective=Sum(materials, price[materials] * v[materials]))\n"
   ]
  },
  {
   "cell_type": "code",
   "execution_count": 5,
   "metadata": {},
   "outputs": [
    {
     "name": "stdout",
     "output_type": "stream",
     "text": [
      "Objective Function Value:  98121.6358 \n",
      "\n",
      "materials: \n",
      "   materials       level    marginal  lower  upper  scale\n",
      "0       Fe1  400.000000    0.000000    0.0    inf    1.0\n",
      "1       Fe2    0.000000   66.371898    0.0    inf    1.0\n",
      "2       Fe3   39.776302    0.000000    0.0    inf    1.0\n",
      "3       Cu1    0.000000  142.111150    0.0    inf    1.0\n",
      "4       Cu2    2.761272    0.000000    0.0    inf    1.0\n",
      "5       Al1   57.462426    0.000000    0.0    inf    1.0\n",
      "6       Al2    0.000000   15.241174    0.0    inf    1.0\n",
      "status:  ModelStatus.OptimalGlobal\n",
      "solver status:  SolveStatus.NormalCompletion\n"
     ]
    }
   ],
   "source": [
    "steel_model.solve(options = Options(equation_listing_limit=100))\n",
    "print(\"Objective Function Value: \",round(steel_model.objective_value,4),\"\\n\")\n",
    "print(\"materials: \\n\", v.records)\n",
    "print(\"status: \", steel_model.status)\n",
    "print(\"solver status: \", steel_model.solve_status)"
   ]
  },
  {
   "cell_type": "code",
   "execution_count": null,
   "metadata": {},
   "outputs": [],
   "source": []
  }
 ],
 "metadata": {
  "kernelspec": {
   "display_name": "venv",
   "language": "python",
   "name": "python3"
  },
  "language_info": {
   "codemirror_mode": {
    "name": "ipython",
    "version": 3
   },
   "file_extension": ".py",
   "mimetype": "text/x-python",
   "name": "python",
   "nbconvert_exporter": "python",
   "pygments_lexer": "ipython3",
   "version": "3.10.12"
  }
 },
 "nbformat": 4,
 "nbformat_minor": 2
}
