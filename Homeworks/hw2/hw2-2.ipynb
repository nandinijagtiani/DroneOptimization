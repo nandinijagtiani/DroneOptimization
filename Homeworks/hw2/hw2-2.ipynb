{
 "cells": [
  {
   "cell_type": "code",
   "execution_count": 14,
   "metadata": {},
   "outputs": [],
   "source": [
    "from gamspy import (Container, Variable, Equation, Model, Set, Parameter, Sum, Problem, Sense, Options, Expression)\n",
    "import numpy as np"
   ]
  },
  {
   "cell_type": "code",
   "execution_count": 15,
   "metadata": {},
   "outputs": [],
   "source": [
    "b = Container()\n",
    "\n",
    "#SETS\n",
    "districts = Set(b, 'districts', records=['1', '2', '3'])\n",
    "schools = Set(b, 'schools', records=['East', \"West\"])\n",
    "\n",
    "distances = Parameter(b, \"distances\", domain=[schools, districts], records=np.array([[1.2, 1.9, 1.3], [2.1, 1.1, 0.9]]))\n",
    "students = Parameter(b, 'students', domain=districts, records=np.array([250, 300, 250]))\n",
    "minority = Parameter(b, 'minority',domain=districts, records=np.array([50, 55, 100]))\n",
    "\n",
    "#VARIABLES\n",
    "pct_students = Variable(b, \"pct_students\", \"positive\", domain=[schools, districts],description=\"students\")\n",
    "\n",
    "minority_pct_school = Variable(b, 'minority_pct_school', \"positive\", domain=schools, description=\"Minority percentage at each school\")\n",
    "\n",
    "\n",
    "obj = Sum([schools, districts], distances[schools, districts] * pct_students [schools, districts] * students[districts])\n",
    "\n",
    "# City-wide minority percentage\n",
    "total_students = Sum(districts, students[districts])\n",
    "total_minority = Sum(districts, minority[districts])\n",
    "citywide_minority_pct = total_minority / total_students\n",
    "\n",
    "# Upper and lower bounds for minority percentage per school\n",
    "upper_minority_pct = citywide_minority_pct + 0.05\n",
    "lower_minority_pct = citywide_minority_pct - 0.05\n",
    "\n",
    "minority_balance_upper = Equation(b, 'minority_balance_upper', domain=schools)\n",
    "minority_balance_upper[schools] = minority_pct_school[schools] <= upper_minority_pct\n",
    "\n",
    "minority_balance_lower = Equation(b, 'minority_balance_lower', domain=schools)\n",
    "minority_balance_lower[schools] = minority_pct_school[schools] >= lower_minority_pct\n",
    "\n",
    "# Constraint: Each school must have between 300 and 500 students\n",
    "enrollment = Sum(districts, pct_students[schools, districts] * students[districts])\n",
    "\n",
    "# Apply the constraints for school enrollment\n",
    "enrollment_min = Equation(b, 'enrollment_min', domain=[schools])\n",
    "enrollment_min[:] = enrollment[schools] >= 300\n",
    "\n",
    "enrollment_max = Equation(b, 'enrollment_max', domain=[schools])\n",
    "enrollment_max[:] = enrollment[schools] <= 500\n",
    "\n",
    "total_pct_students = Sum(schools, pct_students[schools, districts])\n",
    "pct_constraint = Equation(b, 'pct_constraint', domain=districts)\n",
    "pct_constraint[districts] = total_pct_students == 1\n",
    "\n",
    "\n",
    "\n",
    "\n",
    "school_model = Model(b,\n",
    "    name='school_model',\n",
    "    equations=b.getEquations(),\n",
    "    problem=Problem.LP,\n",
    "    sense=Sense.MIN,\n",
    "    objective=obj)"
   ]
  },
  {
   "cell_type": "code",
   "execution_count": 16,
   "metadata": {},
   "outputs": [
    {
     "name": "stdout",
     "output_type": "stream",
     "text": [
      "Objective Function Value:  875.0 \n",
      "\n",
      "student distribution: \n",
      "   schools districts  level  marginal  lower  upper  scale\n",
      "0    East         1    1.0       0.0    0.0    inf    1.0\n",
      "1    East         2    0.0     120.0    0.0    inf    1.0\n",
      "2    East         3    0.2       0.0    0.0    inf    1.0\n",
      "3    West         1    0.0     325.0    0.0    inf    1.0\n",
      "4    West         2    1.0       0.0    0.0    inf    1.0\n",
      "5    West         3    0.8       0.0    0.0    inf    1.0\n",
      "status:  ModelStatus.OptimalGlobal\n",
      "solver status:  SolveStatus.NormalCompletion\n"
     ]
    }
   ],
   "source": [
    "school_model.solve(options=Options(equation_listing_limit=100))\n",
    "print(\"Objective Function Value: \",round(school_model.objective_value,4),\"\\n\")\n",
    "print(\"student distribution: \\n\", pct_students.records)\n",
    "print(\"status: \", school_model.status)\n",
    "print(\"solver status: \", school_model.solve_status)"
   ]
  },
  {
   "cell_type": "code",
   "execution_count": null,
   "metadata": {},
   "outputs": [],
   "source": []
  }
 ],
 "metadata": {
  "kernelspec": {
   "display_name": "venv",
   "language": "python",
   "name": "python3"
  },
  "language_info": {
   "codemirror_mode": {
    "name": "ipython",
    "version": 3
   },
   "file_extension": ".py",
   "mimetype": "text/x-python",
   "name": "python",
   "nbconvert_exporter": "python",
   "pygments_lexer": "ipython3",
   "version": "3.10.12"
  }
 },
 "nbformat": 4,
 "nbformat_minor": 2
}
