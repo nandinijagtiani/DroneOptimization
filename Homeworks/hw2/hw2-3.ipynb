{
 "cells": [
  {
   "cell_type": "code",
   "execution_count": 2,
   "metadata": {},
   "outputs": [],
   "source": [
    "from gamspy import (Container, Variable, Equation, Model, Set, Parameter, Sum, Problem, Sense, Options)\n",
    "import numpy as np"
   ]
  },
  {
   "cell_type": "code",
   "execution_count": 23,
   "metadata": {},
   "outputs": [],
   "source": [
    "c = Container()\n",
    "\n",
    "# Sets\n",
    "ads = Set(c, 'ads', records=['TV', 'Magazine', 'Radio'])\n",
    "\n",
    "# Parameters\n",
    "cost = Parameter(c, 'cost', domain=ads, records=np.array([20000, 10000, 2000])) \n",
    "audience = Parameter(c, 'audience', domain=ads, records=np.array([1800000, 1000000, 250000])) \n",
    "wizard_weeks = Parameter(c, 'wizard_weeks', domain=ads, records=np.array([1, 3, 1/7])) \n",
    "\n",
    "# Variables\n",
    "x = Variable(c, 'x', domain=ads, type='Positive')\n",
    "\n",
    "# Objective: Maximize total audience\n",
    "objective = Sum(ads, audience[ads] * x[ads])\n",
    "\n",
    "# Constraints\n",
    "budget_constraint = Equation(c, 'budget_constraint', domain=[])\n",
    "budget_constraint[:] = Sum(ads, cost[ads] * x[ads]) <= 1000000\n",
    "\n",
    "tv_time_constraint = Equation(c, 'tv_time_constraint', domain=[])\n",
    "tv_time_constraint[:] = x['TV'] >= 10\n",
    "\n",
    "wizard_weeks_constraint = Equation(c, 'wizard_weeks_constraint', domain=[])\n",
    "wizard_weeks_constraint[:] = Sum(ads, wizard_weeks[ads] * x[ads]) <= 100\n",
    "\n",
    "# New constraints\n",
    "magazine_min_constraint = Equation(c, 'magazine_min_constraint', domain=[])\n",
    "magazine_min_constraint[:] = x['Magazine'] >= 2  # At least 2 magazine pages\n",
    "\n",
    "radio_max_constraint = Equation(c, 'radio_max_constraint', domain=[])\n",
    "radio_max_constraint[:] = x['Radio'] <= 120  # At most 120 minutes of radio\n",
    "\n",
    "# Model\n",
    "model_4 = Model(c, \n",
    "              name='model_4', \n",
    "              equations=c.getEquations(), \n",
    "              problem=Problem.LP, \n",
    "              sense=Sense.MAX, \n",
    "              objective=objective)\n",
    "\n"
   ]
  },
  {
   "cell_type": "code",
   "execution_count": 18,
   "metadata": {},
   "outputs": [
    {
     "name": "stdout",
     "output_type": "stream",
     "text": [
      "Objective Function Value:  98000000.0 \n",
      "\n",
      "advertising methods: \n",
      "         ads  level  marginal  lower  upper  scale\n",
      "0        TV   10.0       0.0    0.0    inf    1.0\n",
      "1  Magazine   80.0       0.0    0.0    inf    1.0\n",
      "status:  ModelStatus.OptimalGlobal\n",
      "solver status:  SolveStatus.NormalCompletion\n"
     ]
    }
   ],
   "source": [
    "model_1.solve(options=Options(equation_listing_limit=100))\n",
    "print(\"Objective Function Value: \",round(model_1.objective_value,4),\"\\n\")\n",
    "print(\"advertising methods: \\n\", x.records)\n",
    "print(\"status: \", model_1.status)\n",
    "print(\"solver status: \", model_1.solve_status)"
   ]
  },
  {
   "cell_type": "code",
   "execution_count": 20,
   "metadata": {},
   "outputs": [
    {
     "name": "stdout",
     "output_type": "stream",
     "text": [
      "Objective Function Value:  92000000.0 \n",
      "\n",
      "advertising methods: \n",
      "         ads  level  marginal  lower  upper  scale\n",
      "0        TV   40.0       0.0    0.0    inf    1.0\n",
      "1  Magazine   20.0       0.0    0.0    inf    1.0\n",
      "status:  ModelStatus.OptimalGlobal\n",
      "solver status:  SolveStatus.NormalCompletion\n"
     ]
    }
   ],
   "source": [
    "model_2.solve(options=Options(equation_listing_limit=100))\n",
    "print(\"Objective Function Value: \",round(model_2.objective_value,4),\"\\n\")\n",
    "print(\"advertising methods: \\n\", x.records)\n",
    "print(\"status: \", model_2.status)\n",
    "print(\"solver status: \", model_2.solve_status)"
   ]
  },
  {
   "cell_type": "code",
   "execution_count": 22,
   "metadata": {},
   "outputs": [
    {
     "name": "stdout",
     "output_type": "stream",
     "text": [
      "Objective Function Value:  118000000.0 \n",
      "\n",
      "advertising methods: \n",
      "         ads  level  marginal  lower  upper  scale\n",
      "0        TV   10.0       0.0    0.0    inf    1.0\n",
      "1  Magazine    0.0 -250000.0    0.0    inf    1.0\n",
      "2     Radio  400.0       0.0    0.0    inf    1.0\n",
      "status:  ModelStatus.OptimalGlobal\n",
      "solver status:  SolveStatus.NormalCompletion\n"
     ]
    }
   ],
   "source": [
    "model_3.solve(options=Options(equation_listing_limit=100))\n",
    "print(\"Objective Function Value: \",round(model_3.objective_value,4),\"\\n\")\n",
    "print(\"advertising methods: \\n\", x.records)\n",
    "print(\"status: \", model_3.status)\n",
    "print(\"solver status: \", model_3.solve_status)"
   ]
  },
  {
   "cell_type": "code",
   "execution_count": 25,
   "metadata": {},
   "outputs": [
    {
     "name": "stdout",
     "output_type": "stream",
     "text": [
      "Objective Function Value:  100194285.7143 \n",
      "\n",
      "advertising methods: \n",
      "         ads       level  marginal  lower  upper  scale\n",
      "0        TV   29.028571       0.0    0.0    inf    1.0\n",
      "1  Magazine   17.942857       0.0    0.0    inf    1.0\n",
      "2     Radio  120.000000       0.0    0.0    inf    1.0\n",
      "status:  ModelStatus.OptimalGlobal\n",
      "solver status:  SolveStatus.NormalCompletion\n"
     ]
    }
   ],
   "source": [
    "model_4.solve(options=Options(equation_listing_limit=100))\n",
    "print(\"Objective Function Value: \",round(model_4.objective_value,4),\"\\n\")\n",
    "print(\"advertising methods: \\n\", x.records)\n",
    "print(\"status: \", model_4.status)\n",
    "print(\"solver status: \", model_4.solve_status)"
   ]
  },
  {
   "cell_type": "code",
   "execution_count": null,
   "metadata": {},
   "outputs": [],
   "source": []
  }
 ],
 "metadata": {
  "kernelspec": {
   "display_name": "venv",
   "language": "python",
   "name": "python3"
  },
  "language_info": {
   "codemirror_mode": {
    "name": "ipython",
    "version": 3
   },
   "file_extension": ".py",
   "mimetype": "text/x-python",
   "name": "python",
   "nbconvert_exporter": "python",
   "pygments_lexer": "ipython3",
   "version": "3.10.12"
  }
 },
 "nbformat": 4,
 "nbformat_minor": 2
}
