{
 "cells": [
  {
   "cell_type": "markdown",
   "metadata": {
    "slideshow": {
     "slide_type": "slide"
    }
   },
   "source": [
    "CS524: Introduction to Optimization Lecture 6\n",
    "======================================\n",
    "\n",
    "## Michael Ferris<br> Computer Sciences Department <br> University of Wisconsin-Madison\n",
    "\n",
    "## September 16, 2024\n",
    "--------------"
   ]
  },
  {
   "cell_type": "code",
   "execution_count": 1,
   "metadata": {
    "slideshow": {
     "slide_type": "slide"
    }
   },
   "outputs": [],
   "source": [
    "import numpy as np\n",
    "import pandas as pd\n",
    "import sys\n",
    "from gamspy import (\n",
    "    Container,Set,Alias,Parameter,Variable,Equation,Model,Problem,Sense,Options,\n",
    "    Domain,Number,Sum,Product,Smax,Smin,Ord,Card,SpecialValues,\n",
    ")\n",
    "options = Options(variable_listing_limit=0, equation_listing_limit=50)\n",
    "\n",
    "m = Container(options=options)\n",
    "T = Set(m,'T',records=['Jan', 'Feb', 'Mar', 'Apr'])\n",
    "I0 = Parameter(m,'I0',description='Initial Inventory',records=500)\n",
    "W0 = Parameter(m,'W0',description='Initial Number of Workers',records=100)\n",
    "alpha = Parameter(m,'alpha',description='Dollars per month for worker',records=1500)\n",
    "beta = Parameter(m,'beta',description='Dollars per hour for overtime',records=13)\n",
    "MAXH = Parameter(m,'MAXH',description='max hours per month',records=160)\n",
    "MAXO = Parameter(m,'MAXO',description='max overtime hours per month',records=20)\n",
    "a = Parameter(m,'a',description='labor hours per shoe',records=4)\n",
    "delta = Parameter(m,'delta',description='Raw material costs (dollars) per shoe',records=15)\n",
    "eta = Parameter(m,'eta',description='hiring cost (dollars) per worker',records=1600)\n",
    "zeta = Parameter(m,'zeta',description='firing cost (dollars) per worker',records=2000)\n",
    "iota = Parameter(m,'iota',description='inventory cost (dollars) per shoe',records=3)\n",
    "d = Parameter(m,'d',[T],description='Demand',records=np.array([ 3000., 5000., 2000., 1000. ]))\n",
    "\n",
    "x = Variable(m,'x','positive',[T],description='Production in period T')\n",
    "I = Variable(m,'I','positive',[T],description='Ending inventory in period T')\n",
    "w = Variable(m,'w','positive',[T],description='Worker level at end of period T')\n",
    "h = Variable(m,'h','positive',[T],description='Number of workers hired at beginning of T')\n",
    "f = Variable(m,'f','positive',[T],description='Number of workers fired at beginning of T')\n",
    "o = Variable(m,'o','positive',[T],description='Number of overtime hours in period T')"
   ]
  },
  {
   "cell_type": "code",
   "execution_count": 2,
   "metadata": {
    "scrolled": true,
    "slideshow": {
     "slide_type": "slide"
    }
   },
   "outputs": [
    {
     "data": {
      "text/html": [
       "<div>\n",
       "<style scoped>\n",
       "    .dataframe tbody tr th:only-of-type {\n",
       "        vertical-align: middle;\n",
       "    }\n",
       "\n",
       "    .dataframe tbody tr th {\n",
       "        vertical-align: top;\n",
       "    }\n",
       "\n",
       "    .dataframe thead th {\n",
       "        text-align: right;\n",
       "    }\n",
       "</style>\n",
       "<table border=\"1\" class=\"dataframe\">\n",
       "  <thead>\n",
       "    <tr style=\"text-align: right;\">\n",
       "      <th></th>\n",
       "      <th>Solver Status</th>\n",
       "      <th>Model Status</th>\n",
       "      <th>Objective</th>\n",
       "      <th>Num of Equations</th>\n",
       "      <th>Num of Variables</th>\n",
       "      <th>Model Type</th>\n",
       "      <th>Solver</th>\n",
       "      <th>Solver Time</th>\n",
       "    </tr>\n",
       "  </thead>\n",
       "  <tbody>\n",
       "    <tr>\n",
       "      <th>0</th>\n",
       "      <td>Normal</td>\n",
       "      <td>OptimalGlobal</td>\n",
       "      <td>692500</td>\n",
       "      <td>17</td>\n",
       "      <td>25</td>\n",
       "      <td>LP</td>\n",
       "      <td>CPLEX</td>\n",
       "      <td>0</td>\n",
       "    </tr>\n",
       "  </tbody>\n",
       "</table>\n",
       "</div>"
      ],
      "text/plain": [
       "  Solver Status   Model Status Objective Num of Equations Num of Variables  \\\n",
       "0        Normal  OptimalGlobal    692500               17               25   \n",
       "\n",
       "  Model Type Solver Solver Time  \n",
       "0         LP  CPLEX           0  "
      ]
     },
     "execution_count": 2,
     "metadata": {},
     "output_type": "execute_result"
    }
   ],
   "source": [
    "# Requirements constraints\n",
    "RegLabor_eq = Equation(m,'RegLabor_eq',domain=[T])\n",
    "RegLabor_eq[T]= a*x[T] <= MAXH * w[T] + o[T]\n",
    "\n",
    "OverLabor_eq = Equation(m,'OverLabor_eq',domain=[T])\n",
    "OverLabor_eq[T]= o[T] <= MAXO * w[T]\n",
    "\n",
    "BalShoe_eq = Equation(m,'BalShoe_eq',domain=[T])\n",
    "BalShoe_eq[T]= I[T] == I0.where[T.first] + I[T.lag(1)] + x[T] - d[T]\n",
    "\n",
    "BalPeople_eq = Equation(m,'BalPeople_eq',domain=[T])\n",
    "BalPeople_eq[T]= w[T] == W0.where[T.first] + w[T.lag(1)] + h[T] - f[T]\n",
    "\n",
    "shoeco = Model(m,\"shoeco\",\n",
    "    equations=m.getEquations(),\n",
    "    problem=Problem.LP,\n",
    "    sense=Sense.MIN,\n",
    "    objective=Sum(T, delta*x[T] + alpha * w[T] + beta * o[T] + eta * h[T] +\n",
    "                    zeta * f[T] + iota * I[T])\n",
    ")\n",
    "\n",
    "shoeco.solve()"
   ]
  },
  {
   "cell_type": "raw",
   "metadata": {
    "slideshow": {
     "slide_type": "slide"
    }
   },
   "source": [
    "# Easier to do in GAMSPy parameter (next cell)\n",
    "resDF = pd.DataFrame(\n",
    "    m['x'].toDense(),\n",
    "    columns=['x'],\n",
    "    index=T.records.uni)\n",
    "resDF.index.name = None\n",
    "for col in ['I','w','h','f','o']:\n",
    "    resDF[col] = m[col].toDense()\n",
    "display(resDF)"
   ]
  },
  {
   "cell_type": "code",
   "execution_count": 3,
   "metadata": {
    "scrolled": true
   },
   "outputs": [
    {
     "name": "stdout",
     "output_type": "stream",
     "text": [
      "RegLabor_eq(Jan)..  4*x(Jan) - 160*w(Jan) - o(Jan) =L= 0 ; (LHS = 0)\n",
      "RegLabor_eq(Feb)..  4*x(Feb) - 160*w(Feb) - o(Feb) =L= 0 ; (LHS = 0)\n",
      "RegLabor_eq(Mar)..  4*x(Mar) - 160*w(Mar) - o(Mar) =L= 0 ; (LHS = 0)\n",
      "RegLabor_eq(Apr)..  4*x(Apr) - 160*w(Apr) - o(Apr) =L= 0 ; (LHS = 0)\n",
      "OverLabor_eq(Jan)..  - 20*w(Jan) + o(Jan) =L= 0 ; (LHS = 0)\n",
      "OverLabor_eq(Feb)..  - 20*w(Feb) + o(Feb) =L= 0 ; (LHS = 0)\n",
      "OverLabor_eq(Mar)..  - 20*w(Mar) + o(Mar) =L= 0 ; (LHS = 0)\n",
      "OverLabor_eq(Apr)..  - 20*w(Apr) + o(Apr) =L= 0 ; (LHS = 0)\n",
      "BalShoe_eq(Jan)..  - x(Jan) + I(Jan) =E= -2500 ; (LHS = 0, INFES = 2500 ****)\n",
      "BalShoe_eq(Feb)..  - x(Feb) - I(Jan) + I(Feb) =E= -5000 ; (LHS = 0, INFES = 5000 ****)\n",
      "BalShoe_eq(Mar)..  - x(Mar) - I(Feb) + I(Mar) =E= -2000 ; (LHS = 0, INFES = 2000 ****)\n",
      "BalShoe_eq(Apr)..  - x(Apr) - I(Mar) + I(Apr) =E= -1000 ; (LHS = 0, INFES = 1000 ****)\n",
      "BalPeople_eq(Jan)..  w(Jan) - h(Jan) + f(Jan) =E= 100 ; (LHS = 0, INFES = 100 ****)\n",
      "BalPeople_eq(Feb)..  - w(Jan) + w(Feb) - h(Feb) + f(Feb) =E= 0 ; (LHS = 0)\n",
      "BalPeople_eq(Mar)..  - w(Feb) + w(Mar) - h(Mar) + f(Mar) =E= 0 ; (LHS = 0)\n",
      "BalPeople_eq(Apr)..  - w(Mar) + w(Apr) - h(Apr) + f(Apr) =E= 0 ; (LHS = 0)\n",
      "shoeco_objective..  15*x(Jan) + 15*x(Feb) + 15*x(Mar) + 15*x(Apr) + 3*I(Jan) + 3*I(Feb) + 3*I(Mar) + 3*I(Apr) + 1500*w(Jan) + 1500*w(Feb) + 1500*w(Mar) + 1500*w(Apr) + 1600*h(Jan) + 1600*h(Feb) + 1600*h(Mar) + 1600*h(Apr) + 2000*f(Jan) + 2000*f(Feb) + 2000*f(Mar) + 2000*f(Apr) + 13*o(Jan) + 13*o(Feb) + 13*o(Mar) + 13*o(Apr) - shoeco_objective_variable =E= 0 ; (LHS = 0)\n"
     ]
    },
    {
     "data": {
      "text/html": [
       "<div>\n",
       "<style scoped>\n",
       "    .dataframe tbody tr th:only-of-type {\n",
       "        vertical-align: middle;\n",
       "    }\n",
       "\n",
       "    .dataframe tbody tr th {\n",
       "        vertical-align: top;\n",
       "    }\n",
       "\n",
       "    .dataframe thead th {\n",
       "        text-align: right;\n",
       "    }\n",
       "</style>\n",
       "<table border=\"1\" class=\"dataframe\">\n",
       "  <thead>\n",
       "    <tr style=\"text-align: right;\">\n",
       "      <th></th>\n",
       "      <th>x</th>\n",
       "      <th>I</th>\n",
       "      <th>w</th>\n",
       "      <th>f</th>\n",
       "    </tr>\n",
       "  </thead>\n",
       "  <tbody>\n",
       "    <tr>\n",
       "      <th>Jan</th>\n",
       "      <td>3750.0</td>\n",
       "      <td>1250.0</td>\n",
       "      <td>93.75</td>\n",
       "      <td>6.25</td>\n",
       "    </tr>\n",
       "    <tr>\n",
       "      <th>Feb</th>\n",
       "      <td>3750.0</td>\n",
       "      <td>0.0</td>\n",
       "      <td>93.75</td>\n",
       "      <td>0.00</td>\n",
       "    </tr>\n",
       "    <tr>\n",
       "      <th>Mar</th>\n",
       "      <td>2000.0</td>\n",
       "      <td>0.0</td>\n",
       "      <td>50.00</td>\n",
       "      <td>43.75</td>\n",
       "    </tr>\n",
       "    <tr>\n",
       "      <th>Apr</th>\n",
       "      <td>1000.0</td>\n",
       "      <td>0.0</td>\n",
       "      <td>50.00</td>\n",
       "      <td>0.00</td>\n",
       "    </tr>\n",
       "  </tbody>\n",
       "</table>\n",
       "</div>"
      ],
      "text/plain": [
       "          x       I      w      f\n",
       "Jan  3750.0  1250.0  93.75   6.25\n",
       "Feb  3750.0     0.0  93.75   0.00\n",
       "Mar  2000.0     0.0  50.00  43.75\n",
       "Apr  1000.0     0.0  50.00   0.00"
      ]
     },
     "metadata": {},
     "output_type": "display_data"
    }
   ],
   "source": [
    "print(shoeco.getEquationListing())\n",
    "objective = {}\n",
    "objective['shoeco'] = shoeco.objective_value\n",
    "results = Parameter(m,'results',domain=[T,'*'])\n",
    "results[T,'x'] = x.l[T]\n",
    "results[T,'I'] = I.l[T]\n",
    "results[T,'w'] = w.l[T]\n",
    "results[T,'h'] = h.l[T]\n",
    "results[T,'f'] = f.l[T]\n",
    "results[T,'o'] = o.l[T]\n",
    "display(m['results'].pivot())"
   ]
  },
  {
   "cell_type": "markdown",
   "metadata": {},
   "source": [
    "Explain why you don't fire 25 people in April (only need 25 people to generate 1000 shoes)"
   ]
  },
  {
   "cell_type": "markdown",
   "metadata": {
    "slideshow": {
     "slide_type": "slide"
    }
   },
   "source": [
    "Now lets model the case where backlogging is allowed"
   ]
  },
  {
   "cell_type": "code",
   "execution_count": 4,
   "metadata": {
    "slideshow": {
     "slide_type": "slide"
    }
   },
   "outputs": [
    {
     "data": {
      "text/html": [
       "<div>\n",
       "<style scoped>\n",
       "    .dataframe tbody tr th:only-of-type {\n",
       "        vertical-align: middle;\n",
       "    }\n",
       "\n",
       "    .dataframe tbody tr th {\n",
       "        vertical-align: top;\n",
       "    }\n",
       "\n",
       "    .dataframe thead th {\n",
       "        text-align: right;\n",
       "    }\n",
       "</style>\n",
       "<table border=\"1\" class=\"dataframe\">\n",
       "  <thead>\n",
       "    <tr style=\"text-align: right;\">\n",
       "      <th></th>\n",
       "      <th>Solver Status</th>\n",
       "      <th>Model Status</th>\n",
       "      <th>Objective</th>\n",
       "      <th>Num of Equations</th>\n",
       "      <th>Num of Variables</th>\n",
       "      <th>Model Type</th>\n",
       "      <th>Solver</th>\n",
       "      <th>Solver Time</th>\n",
       "    </tr>\n",
       "  </thead>\n",
       "  <tbody>\n",
       "    <tr>\n",
       "      <th>0</th>\n",
       "      <td>Normal</td>\n",
       "      <td>OptimalGlobal</td>\n",
       "      <td>690000</td>\n",
       "      <td>21</td>\n",
       "      <td>33</td>\n",
       "      <td>LP</td>\n",
       "      <td>CPLEX</td>\n",
       "      <td>0</td>\n",
       "    </tr>\n",
       "  </tbody>\n",
       "</table>\n",
       "</div>"
      ],
      "text/plain": [
       "  Solver Status   Model Status Objective Num of Equations Num of Variables  \\\n",
       "0        Normal  OptimalGlobal    690000               21               33   \n",
       "\n",
       "  Model Type Solver Solver Time  \n",
       "0         LP  CPLEX           0  "
      ]
     },
     "execution_count": 4,
     "metadata": {},
     "output_type": "execute_result"
    }
   ],
   "source": [
    "L = Variable(m,'L','positive',[T],description='Leftover inventory in scenario')\n",
    "S = Variable(m,'S','positive',[T],description='Shortage inventory in scenario')\n",
    "\n",
    "theta = Parameter(m,'theta',description='Backlog cost',records=20)\n",
    "\n",
    "BacklogDef_eq = Equation(m,'BacklogDef_eq',domain=[T])\n",
    "BacklogDef_eq[T]=  I[T] == L[T] - S[T]\n",
    "\n",
    "shoeco = Model(m,\"shoeco\",\n",
    "    equations=m.getEquations(),\n",
    "    problem=Problem.LP,\n",
    "    sense=Sense.MIN,\n",
    "    objective=Sum(T, delta*x[T] + alpha * w[T] + beta * o[T] + eta * h[T] +\n",
    "                    zeta * f[T] + iota * L[T] + theta * S[T] )\n",
    ")\n",
    "\n",
    "I.lo[T] = SpecialValues.NEGINF\n",
    "I.lo[T].where[T.last] = 0\n",
    "\n",
    "shoeco.solve()"
   ]
  },
  {
   "cell_type": "raw",
   "metadata": {},
   "source": [
    "for col in ['x','I','w','h','f','o','L','S']:\n",
    "    resDF['B '+col] = m[col].toDense()\n",
    "display(resDF)"
   ]
  },
  {
   "cell_type": "code",
   "execution_count": 5,
   "metadata": {
    "slideshow": {
     "slide_type": "slide"
    }
   },
   "outputs": [
    {
     "data": {
      "text/html": [
       "<div>\n",
       "<style scoped>\n",
       "    .dataframe tbody tr th:only-of-type {\n",
       "        vertical-align: middle;\n",
       "    }\n",
       "\n",
       "    .dataframe tbody tr th {\n",
       "        vertical-align: top;\n",
       "    }\n",
       "\n",
       "    .dataframe thead th {\n",
       "        text-align: right;\n",
       "    }\n",
       "</style>\n",
       "<table border=\"1\" class=\"dataframe\">\n",
       "  <thead>\n",
       "    <tr style=\"text-align: right;\">\n",
       "      <th></th>\n",
       "      <th>x</th>\n",
       "      <th>I</th>\n",
       "      <th>w</th>\n",
       "      <th>f</th>\n",
       "      <th>B x</th>\n",
       "      <th>B I</th>\n",
       "      <th>B w</th>\n",
       "      <th>B f</th>\n",
       "      <th>B L</th>\n",
       "      <th>B S</th>\n",
       "    </tr>\n",
       "  </thead>\n",
       "  <tbody>\n",
       "    <tr>\n",
       "      <th>Jan</th>\n",
       "      <td>3750.0</td>\n",
       "      <td>1250.0</td>\n",
       "      <td>93.75</td>\n",
       "      <td>6.25</td>\n",
       "      <td>3750.0</td>\n",
       "      <td>1250.0</td>\n",
       "      <td>93.75</td>\n",
       "      <td>6.25</td>\n",
       "      <td>1250.0</td>\n",
       "      <td>0.0</td>\n",
       "    </tr>\n",
       "    <tr>\n",
       "      <th>Feb</th>\n",
       "      <td>3750.0</td>\n",
       "      <td>0.0</td>\n",
       "      <td>93.75</td>\n",
       "      <td>0.00</td>\n",
       "      <td>3750.0</td>\n",
       "      <td>0.0</td>\n",
       "      <td>93.75</td>\n",
       "      <td>0.00</td>\n",
       "      <td>0.0</td>\n",
       "      <td>0.0</td>\n",
       "    </tr>\n",
       "    <tr>\n",
       "      <th>Mar</th>\n",
       "      <td>2000.0</td>\n",
       "      <td>0.0</td>\n",
       "      <td>50.00</td>\n",
       "      <td>43.75</td>\n",
       "      <td>1500.0</td>\n",
       "      <td>-500.0</td>\n",
       "      <td>37.50</td>\n",
       "      <td>56.25</td>\n",
       "      <td>0.0</td>\n",
       "      <td>500.0</td>\n",
       "    </tr>\n",
       "    <tr>\n",
       "      <th>Apr</th>\n",
       "      <td>1000.0</td>\n",
       "      <td>0.0</td>\n",
       "      <td>50.00</td>\n",
       "      <td>0.00</td>\n",
       "      <td>1500.0</td>\n",
       "      <td>0.0</td>\n",
       "      <td>37.50</td>\n",
       "      <td>0.00</td>\n",
       "      <td>0.0</td>\n",
       "      <td>0.0</td>\n",
       "    </tr>\n",
       "  </tbody>\n",
       "</table>\n",
       "</div>"
      ],
      "text/plain": [
       "          x       I      w      f     B x     B I    B w    B f     B L    B S\n",
       "Jan  3750.0  1250.0  93.75   6.25  3750.0  1250.0  93.75   6.25  1250.0    0.0\n",
       "Feb  3750.0     0.0  93.75   0.00  3750.0     0.0  93.75   0.00     0.0    0.0\n",
       "Mar  2000.0     0.0  50.00  43.75  1500.0  -500.0  37.50  56.25     0.0  500.0\n",
       "Apr  1000.0     0.0  50.00   0.00  1500.0     0.0  37.50   0.00     0.0    0.0"
      ]
     },
     "metadata": {},
     "output_type": "display_data"
    }
   ],
   "source": [
    "objective['backlog'] = shoeco.objective_value\n",
    "results[T,'B x'] = x.l[T]\n",
    "results[T,'B I'] = I.l[T]\n",
    "results[T,'B w'] = w.l[T]\n",
    "results[T,'B h'] = h.l[T]\n",
    "results[T,'B f'] = f.l[T]\n",
    "results[T,'B o'] = o.l[T]\n",
    "results[T,'B L'] = L.l[T]\n",
    "results[T,'B S'] = S.l[T]\n",
    "\n",
    "display(m['results'].pivot())"
   ]
  },
  {
   "cell_type": "markdown",
   "metadata": {
    "slideshow": {
     "slide_type": "slide"
    }
   },
   "source": [
    "Now suppose we have demand scenarios S (in this example 3).\n",
    "Let's see how easy it is to do scenarios and minimax."
   ]
  },
  {
   "cell_type": "code",
   "execution_count": 6,
   "metadata": {},
   "outputs": [
    {
     "data": {
      "text/html": [
       "<div>\n",
       "<style scoped>\n",
       "    .dataframe tbody tr th:only-of-type {\n",
       "        vertical-align: middle;\n",
       "    }\n",
       "\n",
       "    .dataframe tbody tr th {\n",
       "        vertical-align: top;\n",
       "    }\n",
       "\n",
       "    .dataframe thead th {\n",
       "        text-align: right;\n",
       "    }\n",
       "</style>\n",
       "<table border=\"1\" class=\"dataframe\">\n",
       "  <thead>\n",
       "    <tr style=\"text-align: right;\">\n",
       "      <th></th>\n",
       "      <th>Solver Status</th>\n",
       "      <th>Model Status</th>\n",
       "      <th>Objective</th>\n",
       "      <th>Num of Equations</th>\n",
       "      <th>Num of Variables</th>\n",
       "      <th>Model Type</th>\n",
       "      <th>Solver</th>\n",
       "      <th>Solver Time</th>\n",
       "    </tr>\n",
       "  </thead>\n",
       "  <tbody>\n",
       "    <tr>\n",
       "      <th>0</th>\n",
       "      <td>Normal</td>\n",
       "      <td>OptimalGlobal</td>\n",
       "      <td>692539.855072464</td>\n",
       "      <td>39</td>\n",
       "      <td>57</td>\n",
       "      <td>LP</td>\n",
       "      <td>CPLEX</td>\n",
       "      <td>0</td>\n",
       "    </tr>\n",
       "  </tbody>\n",
       "</table>\n",
       "</div>"
      ],
      "text/plain": [
       "  Solver Status   Model Status         Objective Num of Equations  \\\n",
       "0        Normal  OptimalGlobal  692539.855072464               39   \n",
       "\n",
       "  Num of Variables Model Type Solver Solver Time  \n",
       "0               57         LP  CPLEX           0  "
      ]
     },
     "execution_count": 6,
     "metadata": {},
     "output_type": "execute_result"
    }
   ],
   "source": [
    "Scen = Set(m,'Scen',records=[f\"s{i}\" for i in range(1, 4)])\n",
    "# Scen = Set(m,'Scen',records=range(1, 4))\n",
    "dU = Parameter(m,'dU',[T,Scen],records=np.array([\n",
    "    [ 3000., 5000., 1000. ],\n",
    "    [ 5000.,  3000.,  1000. ],\n",
    "    [ 2000.,  1000.,  5000. ],\n",
    "    [ 1000.,  2000.,  4000. ]]))\n",
    "LU = Variable(m,'LU','positive',[T,Scen],description='Leftover inventory in scenario')\n",
    "SU = Variable(m,'SU','positive',[T,Scen],description='Shortage inventory in scenario')\n",
    "IU = Variable(m,'IU','free',[T,Scen],description='Inventory in scenario')\n",
    "z = Variable(m,'z','free',description='Auxiliary var for maximum')\n",
    "\n",
    "zdef_eq = Equation(m,'zdef_eq',domain=[Scen])\n",
    "zdef_eq[Scen]= (\n",
    "    z >= Sum(T, delta*x[T] + alpha * w[T] + beta * o[T] + eta * h[T] +\n",
    "        zeta * f[T]  + iota * LU[T,Scen] + theta * SU[T,Scen]))\n",
    "    \n",
    "BacklogDefU_eq = Equation(m,'BacklogDefU_eq',domain=[T,Scen])\n",
    "BacklogDefU_eq[T,Scen]=  IU[T,Scen] == LU[T,Scen] - SU[T,Scen]\n",
    "\n",
    "BalShoeU_eq = Equation(m,'BalShoeU_eq',domain=[T,Scen])\n",
    "BalShoeU_eq[T,Scen]=  IU[T,Scen] == I0.where[T.first] + IU[T.lag(1),Scen] + x[T] - dU[T,Scen]\n",
    "\n",
    "minimax = Model(m,\"minimax\",\n",
    "    equations=[RegLabor_eq, OverLabor_eq, BalShoeU_eq, BalPeople_eq, BacklogDefU_eq, zdef_eq],\n",
    "    problem=Problem.LP,\n",
    "    sense=Sense.MIN,\n",
    "    objective=z\n",
    ")\n",
    "\n",
    "IU.lo[\"Apr\",Scen] = 0\n",
    "\n",
    "minimax.solve()"
   ]
  },
  {
   "cell_type": "code",
   "execution_count": 7,
   "metadata": {
    "slideshow": {
     "slide_type": "slide"
    }
   },
   "outputs": [
    {
     "data": {
      "text/plain": [
       "{'shoeco': 692500.0, 'backlog': 690000.0, 'minimax': 692539.8550724636}"
      ]
     },
     "metadata": {},
     "output_type": "display_data"
    }
   ],
   "source": [
    "objective['minimax'] = minimax.objective_value\n",
    "display(objective)"
   ]
  },
  {
   "cell_type": "code",
   "execution_count": null,
   "metadata": {},
   "outputs": [],
   "source": []
  }
 ],
 "metadata": {
  "celltoolbar": "Slideshow",
  "kernelspec": {
   "display_name": "Python 3 (ipykernel)",
   "language": "python",
   "name": "python3"
  },
  "language_info": {
   "codemirror_mode": {
    "name": "ipython",
    "version": 3
   },
   "file_extension": ".py",
   "mimetype": "text/x-python",
   "name": "python",
   "nbconvert_exporter": "python",
   "pygments_lexer": "ipython3",
   "version": "3.12.5"
  }
 },
 "nbformat": 4,
 "nbformat_minor": 4
}
