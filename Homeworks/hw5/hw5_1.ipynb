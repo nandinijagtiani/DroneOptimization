{
 "cells": [
  {
   "cell_type": "markdown",
   "metadata": {},
   "source": [
    "#  Owl delivery service\n",
    "\n",
    "Ollivander, the famous wand maker of Diagon Alley, has a logistics\n",
    "problem.  He produces wands of different types for which he\n",
    "must arrange delivery.  For each type, he knows the quantity that need\n",
    "to be delivered.  To make deliveries, Ollivander may use a set of\n",
    "owls, and each owl has a known capacity (maximum number of wands the\n",
    "owl can carry).  Wands are highly volatile, and an owl will explode\n",
    "mid-flight if it carries two wands of the same type.  The code\n",
    "that describes the instance is given below."
   ]
  },
  {
   "cell_type": "code",
   "execution_count": 5,
   "metadata": {
    "slideshow": {
     "slide_type": "slide"
    }
   },
   "outputs": [],
   "source": [
    "import sys\n",
    "import pandas as pd\n",
    "import numpy as np\n",
    "\n",
    "from gamspy import (\n",
    "    Container,Set,Alias,Parameter,Variable,Equation,Model,Problem,Sense,Options,\n",
    "    Domain,Number,Sum,Product,Smax,Smin,Ord,Card,SpecialValues,\n",
    "    ModelStatus,SolveStatus,\n",
    ")\n",
    "\n",
    "options = Options(equation_listing_limit=0)\n",
    "m = Container(options=options)"
   ]
  },
  {
   "cell_type": "markdown",
   "metadata": {},
   "source": [
    "# Data"
   ]
  },
  {
   "cell_type": "code",
   "execution_count": 6,
   "metadata": {
    "slideshow": {
     "slide_type": "slide"
    }
   },
   "outputs": [],
   "source": [
    "nodes = Set(m,'nodes',records=['s','t']+[f\"w{ind+1}\" for ind in range(7)]+[f\"o{ind+1}\" for ind in range(5)])\n",
    "i = Alias(m,'i',nodes)\n",
    "j = Alias(m,'j',nodes)\n",
    "\n",
    "wands = Set(m,'wands',domain=i,records=[f\"w{ind+1}\" for ind in range(7)])\n",
    "owls = Set(m,'owls',domain=i,records=[f\"o{ind+1}\" for ind in range(5)])\n",
    "\n",
    "s = Set(m,'s',domain=i,is_singleton=True,description='sources',records=['s'])\n",
    "t = Set(m,'t',domain=i,is_singleton=True,description='sinks',records=['t'])\n",
    "\n",
    "OwlCapacity = Parameter(m,'OwlCapacity',domain=owls,records=np.array([6, 4, 5, 4, 3]))\n",
    "WandsToDeliver = Parameter(m,'WandsToDeliver',domain=wands,records=3*np.ones(len(wands.records)))\n",
    "\n"
   ]
  },
  {
   "cell_type": "markdown",
   "metadata": {},
   "source": [
    "# Model"
   ]
  },
  {
   "cell_type": "code",
   "execution_count": 7,
   "metadata": {
    "slideshow": {
     "slide_type": "slide"
    }
   },
   "outputs": [
    {
     "data": {
      "text/html": [
       "<div>\n",
       "<style scoped>\n",
       "    .dataframe tbody tr th:only-of-type {\n",
       "        vertical-align: middle;\n",
       "    }\n",
       "\n",
       "    .dataframe tbody tr th {\n",
       "        vertical-align: top;\n",
       "    }\n",
       "\n",
       "    .dataframe thead th {\n",
       "        text-align: right;\n",
       "    }\n",
       "</style>\n",
       "<table border=\"1\" class=\"dataframe\">\n",
       "  <thead>\n",
       "    <tr style=\"text-align: right;\">\n",
       "      <th></th>\n",
       "      <th>Solver Status</th>\n",
       "      <th>Model Status</th>\n",
       "      <th>Objective</th>\n",
       "      <th>Num of Equations</th>\n",
       "      <th>Num of Variables</th>\n",
       "      <th>Model Type</th>\n",
       "      <th>Solver</th>\n",
       "      <th>Solver Time</th>\n",
       "    </tr>\n",
       "  </thead>\n",
       "  <tbody>\n",
       "    <tr>\n",
       "      <th>0</th>\n",
       "      <td>Normal</td>\n",
       "      <td>OptimalGlobal</td>\n",
       "      <td>21</td>\n",
       "      <td>13</td>\n",
       "      <td>48</td>\n",
       "      <td>LP</td>\n",
       "      <td>CPLEX</td>\n",
       "      <td>0.007</td>\n",
       "    </tr>\n",
       "  </tbody>\n",
       "</table>\n",
       "</div>"
      ],
      "text/plain": [
       "  Solver Status   Model Status Objective Num of Equations Num of Variables  \\\n",
       "0        Normal  OptimalGlobal        21               13               48   \n",
       "\n",
       "  Model Type Solver Solver Time  \n",
       "0         LP  CPLEX       0.007  "
      ]
     },
     "execution_count": 7,
     "metadata": {},
     "output_type": "execute_result"
    }
   ],
   "source": [
    "# WRITE YOUR DATA AND MODEL HERE\n",
    "arcs = Set(m, \"arcs\", domain=[nodes, i])\n",
    "arcs[s, wands] = True\n",
    "arcs[wands, owls] = True\n",
    "arcs[owls, t] = True\n",
    "\n",
    "bound = m.addParameter('u',domain=[nodes,i])\n",
    "bound[s,wands] = WandsToDeliver[wands]\n",
    "bound[wands,owls] = 1\n",
    "bound[owls,t] = OwlCapacity[owls]\n",
    "\n",
    "num = Variable(m, \"num\", type=\"positive\", domain=[nodes, i])\n",
    "\n",
    "balance_s = Equation(m, 'balance_s', domain=[nodes])\n",
    "balance_s[nodes].where[~s[nodes] & ~t[nodes]] = Sum(arcs[nodes, j], num[nodes, j]) - Sum(arcs[i, nodes], num[i, nodes]) == 0\n",
    "\n",
    "num.up[arcs] = bound[arcs]\n",
    "\n",
    "maxflow = Model(m,\n",
    "    name=\"maxflow\",\n",
    "    equations=m.getEquations(),\n",
    "    problem=Problem.LP,\n",
    "    sense=Sense.MAX,\n",
    "    objective=Sum(arcs[s, i], num[s, i])\n",
    ")\n",
    "\n",
    "\n",
    "maxflow.solve(solver='cplex',solver_options={'lpmethod': 3, 'netfind': 1, 'preind': 0, 'names': 'no'},output=None)"
   ]
  },
  {
   "cell_type": "markdown",
   "metadata": {},
   "source": [
    "# Post Processing "
   ]
  },
  {
   "cell_type": "code",
   "execution_count": 8,
   "metadata": {
    "slideshow": {
     "slide_type": "slide"
    }
   },
   "outputs": [
    {
     "name": "stdout",
     "output_type": "stream",
     "text": [
      "Objective Function Value: 21.0\n",
      "\n",
      "Number of equations: 13\n",
      "\n",
      "Number of variables: 48\n",
      "\n"
     ]
    },
    {
     "data": {
      "text/plain": [
       "array([3., 3., 3., 3., 3., 3., 3.])"
      ]
     },
     "metadata": {},
     "output_type": "display_data"
    },
    {
     "name": "stdout",
     "output_type": "stream",
     "text": [
      "Delivered all\n"
     ]
    }
   ],
   "source": [
    "print(f\"Objective Function Value: {round(maxflow.objective_value, 4)}\\n\")\n",
    "print(f\"Number of equations: {maxflow.num_equations:.0f}\\n\")\n",
    "print(f\"Number of variables: {maxflow.num_variables:.0f}\\n\")\n",
    "\n",
    "display(WandsToDeliver.toDense())\n",
    "if maxflow.objective_value >= np.sum(WandsToDeliver.toDense()):\n",
    "    print(\"Delivered all\")\n",
    "else:\n",
    "    print(\"Some wands not delivered\")"
   ]
  }
 ],
 "metadata": {
  "celltoolbar": "Slideshow",
  "kernelspec": {
   "display_name": "venv",
   "language": "python",
   "name": "python3"
  },
  "language_info": {
   "codemirror_mode": {
    "name": "ipython",
    "version": 3
   },
   "file_extension": ".py",
   "mimetype": "text/x-python",
   "name": "python",
   "nbconvert_exporter": "python",
   "pygments_lexer": "ipython3",
   "version": "3.10.12"
  }
 },
 "nbformat": 4,
 "nbformat_minor": 4
}
