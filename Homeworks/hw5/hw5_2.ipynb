{
 "cells": [
  {
   "cell_type": "markdown",
   "metadata": {},
   "source": [
    "# Glassco\n",
    "\n",
    "Glassco manufactures wine glasses, beer glasses, champagne glasses and whiskey glasses.  Each type of glass uses time in the molding shop, time in the packaging shop, and a certain amount of glass.  The resources required to make each type of glass are given in the following table:\n",
    "\n",
    "|Data          |WINE GLASS|BEER GLASS|CHMPGNE GLASS|WHISKEY GLASS|\n",
    "|--------------|----------|----------|-------------|-------------|\n",
    "|Molding time  |4 minutes |9 minutes |7 minutes    |10 minutes   |\n",
    "|Packaging time|1 minute  |1 minute  |3 minutes    |39 minutes   |\n",
    "|Glass         |3 oz      |4 oz      |2 oz         |1 oz         |\n",
    "|Selling price |\\$6       |\\$10      |\\$9          |\\$20         |\n",
    "\n",
    "At present, 950 minutes of molding time, 600 minutes of packaging time and 200 oz of glass are available.  \n",
    "\n",
    "### Write down the LP (in GAMSPy) that Glassco should solve, assuming the company wishes to maximize revenue."
   ]
  },
  {
   "cell_type": "code",
   "execution_count": 31,
   "metadata": {},
   "outputs": [],
   "source": [
    "import sys\n",
    "import numpy as np\n",
    "\n",
    "from gamspy import (\n",
    "    Container,Set,Alias,Parameter,Variable,Equation,Model,Problem,Sense,Options,\n",
    "    Domain,Number,Sum,Product,Smax,Smin,Ord,Card,SpecialValues,\n",
    ")\n",
    "\n",
    "options = Options(variable_listing_limit=0)\n",
    "m = Container(options=options)"
   ]
  },
  {
   "cell_type": "code",
   "execution_count": 32,
   "metadata": {},
   "outputs": [],
   "source": [
    "# WRITE YOUR PRIMAL LP MODEL HERE\n",
    "A = Set(m, 'A', records=['molding', 'packaging', 'glass'])\n",
    "P = Set(m, 'P', records=['wine', 'beer', 'champagne', 'whisky'])\n",
    "\n",
    "actions = Parameter(m, 'actions', domain=[A, P], records=np.array([[4, 9, 7, 10], \n",
    "                                                                   [1, 1, 3, 39], \n",
    "                                                                   [3, 4, 2, 1]]))\n",
    "\n",
    "cost = Parameter(m, 'cost', domain=P, records=np.array([6, 10, 9, 20]))\n",
    "time = Parameter(m, 'time', domain=A, records=np.array([950, 600, 200]))\n",
    "\n",
    "x = Variable(m, 'x', 'positive', domain=P)\n",
    "\n",
    "time_c = Equation(m, 'time_c', domain=A)\n",
    "time_c[A] = Sum(P, actions[A, P] * x[P]) <= time[A]\n",
    "\n",
    "primal = Model(m,\n",
    "    name=\"primal\",\n",
    "    equations=m.getEquations(),\n",
    "    problem=Problem.LP,\n",
    "    sense=Sense.MAX,\n",
    "    objective=Sum(P, cost[P] * x[P]),\n",
    ")"
   ]
  },
  {
   "cell_type": "code",
   "execution_count": 33,
   "metadata": {},
   "outputs": [
    {
     "data": {
      "text/html": [
       "<div>\n",
       "<style scoped>\n",
       "    .dataframe tbody tr th:only-of-type {\n",
       "        vertical-align: middle;\n",
       "    }\n",
       "\n",
       "    .dataframe tbody tr th {\n",
       "        vertical-align: top;\n",
       "    }\n",
       "\n",
       "    .dataframe thead th {\n",
       "        text-align: right;\n",
       "    }\n",
       "</style>\n",
       "<table border=\"1\" class=\"dataframe\">\n",
       "  <thead>\n",
       "    <tr style=\"text-align: right;\">\n",
       "      <th></th>\n",
       "      <th>Solver Status</th>\n",
       "      <th>Model Status</th>\n",
       "      <th>Objective</th>\n",
       "      <th>Num of Equations</th>\n",
       "      <th>Num of Variables</th>\n",
       "      <th>Model Type</th>\n",
       "      <th>Solver</th>\n",
       "      <th>Solver Time</th>\n",
       "    </tr>\n",
       "  </thead>\n",
       "  <tbody>\n",
       "    <tr>\n",
       "      <th>0</th>\n",
       "      <td>Normal</td>\n",
       "      <td>OptimalGlobal</td>\n",
       "      <td>1024</td>\n",
       "      <td>4</td>\n",
       "      <td>5</td>\n",
       "      <td>LP</td>\n",
       "      <td>CPLEX</td>\n",
       "      <td>0</td>\n",
       "    </tr>\n",
       "  </tbody>\n",
       "</table>\n",
       "</div>"
      ],
      "text/plain": [
       "  Solver Status   Model Status Objective Num of Equations Num of Variables  \\\n",
       "0        Normal  OptimalGlobal      1024                4                5   \n",
       "\n",
       "  Model Type Solver Solver Time  \n",
       "0         LP  CPLEX           0  "
      ]
     },
     "execution_count": 33,
     "metadata": {},
     "output_type": "execute_result"
    }
   ],
   "source": [
    "primal.solve()"
   ]
  },
  {
   "cell_type": "markdown",
   "metadata": {},
   "source": [
    "### Write down (and solve) the dual of this LP problem\n",
    "You should set up a separate model and include just those equations needed in each model in the model statement."
   ]
  },
  {
   "cell_type": "code",
   "execution_count": 39,
   "metadata": {},
   "outputs": [
    {
     "data": {
      "text/html": [
       "<div>\n",
       "<style scoped>\n",
       "    .dataframe tbody tr th:only-of-type {\n",
       "        vertical-align: middle;\n",
       "    }\n",
       "\n",
       "    .dataframe tbody tr th {\n",
       "        vertical-align: top;\n",
       "    }\n",
       "\n",
       "    .dataframe thead th {\n",
       "        text-align: right;\n",
       "    }\n",
       "</style>\n",
       "<table border=\"1\" class=\"dataframe\">\n",
       "  <thead>\n",
       "    <tr style=\"text-align: right;\">\n",
       "      <th></th>\n",
       "      <th>Solver Status</th>\n",
       "      <th>Model Status</th>\n",
       "      <th>Objective</th>\n",
       "      <th>Num of Equations</th>\n",
       "      <th>Num of Variables</th>\n",
       "      <th>Model Type</th>\n",
       "      <th>Solver</th>\n",
       "      <th>Solver Time</th>\n",
       "    </tr>\n",
       "  </thead>\n",
       "  <tbody>\n",
       "    <tr>\n",
       "      <th>0</th>\n",
       "      <td>Normal</td>\n",
       "      <td>OptimalGlobal</td>\n",
       "      <td>1024</td>\n",
       "      <td>5</td>\n",
       "      <td>4</td>\n",
       "      <td>LP</td>\n",
       "      <td>CPLEX</td>\n",
       "      <td>0.002</td>\n",
       "    </tr>\n",
       "  </tbody>\n",
       "</table>\n",
       "</div>"
      ],
      "text/plain": [
       "  Solver Status   Model Status Objective Num of Equations Num of Variables  \\\n",
       "0        Normal  OptimalGlobal      1024                5                4   \n",
       "\n",
       "  Model Type Solver Solver Time  \n",
       "0         LP  CPLEX       0.002  "
      ]
     },
     "execution_count": 39,
     "metadata": {},
     "output_type": "execute_result"
    }
   ],
   "source": [
    "# WRITE YOUR DUAL LP MODEL HERE\n",
    "pi = Variable(m, 'pi', type='positive', domain=A)\n",
    "dualcons = Equation(m, 'dcons', domain=P)\n",
    "dualcons[P] = Sum(A, actions[A, P]*pi[A]) >= cost[P]\n",
    "\n",
    "dual = Model(m,\n",
    "    name=\"dual\",\n",
    "    equations=[dualcons],\n",
    "    problem=Problem.LP,\n",
    "    sense=Sense.MIN,\n",
    "    objective=Sum(A, time[A]*pi[A]),\n",
    ")\n",
    "\n",
    "dual.solve()"
   ]
  },
  {
   "cell_type": "code",
   "execution_count": 55,
   "metadata": {},
   "outputs": [
    {
     "data": {
      "text/plain": [
       "'x:'"
      ]
     },
     "metadata": {},
     "output_type": "display_data"
    },
    {
     "data": {
      "text/html": [
       "<div>\n",
       "<style scoped>\n",
       "    .dataframe tbody tr th:only-of-type {\n",
       "        vertical-align: middle;\n",
       "    }\n",
       "\n",
       "    .dataframe tbody tr th {\n",
       "        vertical-align: top;\n",
       "    }\n",
       "\n",
       "    .dataframe thead th {\n",
       "        text-align: right;\n",
       "    }\n",
       "</style>\n",
       "<table border=\"1\" class=\"dataframe\">\n",
       "  <thead>\n",
       "    <tr style=\"text-align: right;\">\n",
       "      <th></th>\n",
       "      <th>P</th>\n",
       "      <th>level</th>\n",
       "      <th>marginal</th>\n",
       "      <th>lower</th>\n",
       "      <th>upper</th>\n",
       "      <th>scale</th>\n",
       "    </tr>\n",
       "  </thead>\n",
       "  <tbody>\n",
       "    <tr>\n",
       "      <th>0</th>\n",
       "      <td>wine</td>\n",
       "      <td>0.0</td>\n",
       "      <td>-6.053333</td>\n",
       "      <td>0.0</td>\n",
       "      <td>inf</td>\n",
       "      <td>1.0</td>\n",
       "    </tr>\n",
       "    <tr>\n",
       "      <th>1</th>\n",
       "      <td>beer</td>\n",
       "      <td>0.0</td>\n",
       "      <td>-5.933333</td>\n",
       "      <td>0.0</td>\n",
       "      <td>inf</td>\n",
       "      <td>1.0</td>\n",
       "    </tr>\n",
       "    <tr>\n",
       "      <th>2</th>\n",
       "      <td>champagne</td>\n",
       "      <td>96.0</td>\n",
       "      <td>0.000000</td>\n",
       "      <td>0.0</td>\n",
       "      <td>inf</td>\n",
       "      <td>1.0</td>\n",
       "    </tr>\n",
       "    <tr>\n",
       "      <th>3</th>\n",
       "      <td>whisky</td>\n",
       "      <td>8.0</td>\n",
       "      <td>0.000000</td>\n",
       "      <td>0.0</td>\n",
       "      <td>inf</td>\n",
       "      <td>1.0</td>\n",
       "    </tr>\n",
       "  </tbody>\n",
       "</table>\n",
       "</div>"
      ],
      "text/plain": [
       "           P  level  marginal  lower  upper  scale\n",
       "0       wine    0.0 -6.053333    0.0    inf    1.0\n",
       "1       beer    0.0 -5.933333    0.0    inf    1.0\n",
       "2  champagne   96.0  0.000000    0.0    inf    1.0\n",
       "3     whisky    8.0  0.000000    0.0    inf    1.0"
      ]
     },
     "metadata": {},
     "output_type": "display_data"
    },
    {
     "data": {
      "text/plain": [
       "'reduced costs:'"
      ]
     },
     "metadata": {},
     "output_type": "display_data"
    },
    {
     "data": {
      "text/html": [
       "<div>\n",
       "<style scoped>\n",
       "    .dataframe tbody tr th:only-of-type {\n",
       "        vertical-align: middle;\n",
       "    }\n",
       "\n",
       "    .dataframe tbody tr th {\n",
       "        vertical-align: top;\n",
       "    }\n",
       "\n",
       "    .dataframe thead th {\n",
       "        text-align: right;\n",
       "    }\n",
       "</style>\n",
       "<table border=\"1\" class=\"dataframe\">\n",
       "  <thead>\n",
       "    <tr style=\"text-align: right;\">\n",
       "      <th></th>\n",
       "      <th>P</th>\n",
       "      <th>value</th>\n",
       "    </tr>\n",
       "  </thead>\n",
       "  <tbody>\n",
       "    <tr>\n",
       "      <th>0</th>\n",
       "      <td>wine</td>\n",
       "      <td>-6.053333</td>\n",
       "    </tr>\n",
       "    <tr>\n",
       "      <th>1</th>\n",
       "      <td>beer</td>\n",
       "      <td>-5.933333</td>\n",
       "    </tr>\n",
       "  </tbody>\n",
       "</table>\n",
       "</div>"
      ],
      "text/plain": [
       "      P     value\n",
       "0  wine -6.053333\n",
       "1  beer -5.933333"
      ]
     },
     "metadata": {},
     "output_type": "display_data"
    },
    {
     "data": {
      "text/plain": [
       "'require:'"
      ]
     },
     "metadata": {},
     "output_type": "display_data"
    },
    {
     "data": {
      "text/html": [
       "<div>\n",
       "<style scoped>\n",
       "    .dataframe tbody tr th:only-of-type {\n",
       "        vertical-align: middle;\n",
       "    }\n",
       "\n",
       "    .dataframe tbody tr th {\n",
       "        vertical-align: top;\n",
       "    }\n",
       "\n",
       "    .dataframe thead th {\n",
       "        text-align: right;\n",
       "    }\n",
       "</style>\n",
       "<table border=\"1\" class=\"dataframe\">\n",
       "  <thead>\n",
       "    <tr style=\"text-align: right;\">\n",
       "      <th></th>\n",
       "      <th>A</th>\n",
       "      <th>level</th>\n",
       "      <th>marginal</th>\n",
       "      <th>lower</th>\n",
       "      <th>upper</th>\n",
       "      <th>scale</th>\n",
       "    </tr>\n",
       "  </thead>\n",
       "  <tbody>\n",
       "    <tr>\n",
       "      <th>0</th>\n",
       "      <td>molding</td>\n",
       "      <td>752.0</td>\n",
       "      <td>0.000000</td>\n",
       "      <td>-inf</td>\n",
       "      <td>950.0</td>\n",
       "      <td>1.0</td>\n",
       "    </tr>\n",
       "    <tr>\n",
       "      <th>1</th>\n",
       "      <td>packaging</td>\n",
       "      <td>600.0</td>\n",
       "      <td>0.413333</td>\n",
       "      <td>-inf</td>\n",
       "      <td>600.0</td>\n",
       "      <td>1.0</td>\n",
       "    </tr>\n",
       "    <tr>\n",
       "      <th>2</th>\n",
       "      <td>glass</td>\n",
       "      <td>200.0</td>\n",
       "      <td>3.880000</td>\n",
       "      <td>-inf</td>\n",
       "      <td>200.0</td>\n",
       "      <td>1.0</td>\n",
       "    </tr>\n",
       "  </tbody>\n",
       "</table>\n",
       "</div>"
      ],
      "text/plain": [
       "           A  level  marginal  lower  upper  scale\n",
       "0    molding  752.0  0.000000   -inf  950.0    1.0\n",
       "1  packaging  600.0  0.413333   -inf  600.0    1.0\n",
       "2      glass  200.0  3.880000   -inf  200.0    1.0"
      ]
     },
     "metadata": {},
     "output_type": "display_data"
    },
    {
     "data": {
      "text/plain": [
       "'pi:'"
      ]
     },
     "metadata": {},
     "output_type": "display_data"
    },
    {
     "data": {
      "text/html": [
       "<div>\n",
       "<style scoped>\n",
       "    .dataframe tbody tr th:only-of-type {\n",
       "        vertical-align: middle;\n",
       "    }\n",
       "\n",
       "    .dataframe tbody tr th {\n",
       "        vertical-align: top;\n",
       "    }\n",
       "\n",
       "    .dataframe thead th {\n",
       "        text-align: right;\n",
       "    }\n",
       "</style>\n",
       "<table border=\"1\" class=\"dataframe\">\n",
       "  <thead>\n",
       "    <tr style=\"text-align: right;\">\n",
       "      <th></th>\n",
       "      <th>A</th>\n",
       "      <th>level</th>\n",
       "      <th>marginal</th>\n",
       "      <th>lower</th>\n",
       "      <th>upper</th>\n",
       "      <th>scale</th>\n",
       "    </tr>\n",
       "  </thead>\n",
       "  <tbody>\n",
       "    <tr>\n",
       "      <th>0</th>\n",
       "      <td>molding</td>\n",
       "      <td>0.000000</td>\n",
       "      <td>198.0</td>\n",
       "      <td>0.0</td>\n",
       "      <td>inf</td>\n",
       "      <td>1.0</td>\n",
       "    </tr>\n",
       "    <tr>\n",
       "      <th>1</th>\n",
       "      <td>packaging</td>\n",
       "      <td>0.413333</td>\n",
       "      <td>0.0</td>\n",
       "      <td>0.0</td>\n",
       "      <td>inf</td>\n",
       "      <td>1.0</td>\n",
       "    </tr>\n",
       "    <tr>\n",
       "      <th>2</th>\n",
       "      <td>glass</td>\n",
       "      <td>3.880000</td>\n",
       "      <td>0.0</td>\n",
       "      <td>0.0</td>\n",
       "      <td>inf</td>\n",
       "      <td>1.0</td>\n",
       "    </tr>\n",
       "  </tbody>\n",
       "</table>\n",
       "</div>"
      ],
      "text/plain": [
       "           A     level  marginal  lower  upper  scale\n",
       "0    molding  0.000000     198.0    0.0    inf    1.0\n",
       "1  packaging  0.413333       0.0    0.0    inf    1.0\n",
       "2      glass  3.880000       0.0    0.0    inf    1.0"
      ]
     },
     "metadata": {},
     "output_type": "display_data"
    },
    {
     "name": "stdout",
     "output_type": "stream",
     "text": [
      "Notice how the marginal values of the primal solution are equal to the variable values of the dual.\n"
     ]
    }
   ],
   "source": [
    "## Marginal values of Primal vs Values of Dual\n",
    "reduced = Parameter(m, 'reduced', domain=P)\n",
    "reduced[P] = x.m[P]\n",
    "\n",
    "display(\"x:\", x.records, 'reduced costs:', reduced.records, \"require:\", time_c.records, 'pi:', pi.records)\n",
    "\n",
    "print(\"Notice how the marginal values of the primal solution are equal to the variable values of the dual.\")"
   ]
  },
  {
   "cell_type": "markdown",
   "metadata": {},
   "source": [
    "### What is the solution of the dual problem?  Can you show how the multipliers on the primal problem are related to the dual solution?"
   ]
  },
  {
   "cell_type": "code",
   "execution_count": 53,
   "metadata": {},
   "outputs": [
    {
     "data": {
      "text/plain": [
       "'obj='"
      ]
     },
     "metadata": {},
     "output_type": "display_data"
    },
    {
     "data": {
      "text/plain": [
       "{'primal': 1024, 'dual': 1024}"
      ]
     },
     "metadata": {},
     "output_type": "display_data"
    },
    {
     "data": {
      "text/plain": [
       "'x='"
      ]
     },
     "metadata": {},
     "output_type": "display_data"
    },
    {
     "data": {
      "text/plain": [
       "{'primal':            P  level  marginal  lower  upper  scale\n",
       " 0       wine    0.0 -6.053333    0.0    inf    1.0\n",
       " 1       beer    0.0 -5.933333    0.0    inf    1.0\n",
       " 2  champagne   96.0  0.000000    0.0    inf    1.0\n",
       " 3     whisky    8.0  0.000000    0.0    inf    1.0,\n",
       " 'dual': 0     0.0\n",
       " 1     0.0\n",
       " 2    96.0\n",
       " 3     8.0\n",
       " Name: marginal, dtype: float64}"
      ]
     },
     "metadata": {},
     "output_type": "display_data"
    },
    {
     "data": {
      "text/plain": [
       "'u='"
      ]
     },
     "metadata": {},
     "output_type": "display_data"
    },
    {
     "data": {
      "text/plain": [
       "{'primal':            A  level  marginal  lower  upper  scale\n",
       " 0    molding  752.0  0.000000   -inf  950.0    1.0\n",
       " 1  packaging  600.0  0.413333   -inf  600.0    1.0\n",
       " 2      glass  200.0  3.880000   -inf  200.0    1.0,\n",
       " 'dual':            A     level  marginal  lower  upper  scale\n",
       " 0    molding  0.000000     198.0    0.0    inf    1.0\n",
       " 1  packaging  0.413333       0.0    0.0    inf    1.0\n",
       " 2      glass  3.880000       0.0    0.0    inf    1.0}"
      ]
     },
     "metadata": {},
     "output_type": "display_data"
    }
   ],
   "source": [
    "# UPDATE ALL INSTANCES OF XXXX in this cell.  \n",
    "# Quantities labelled 'primal' must only involve quantities associated with your primal problem\n",
    "# Quantities labelled 'dual' must only involve quantities associated with your dual problem\n",
    "\n",
    "obj = {}\n",
    "obj['primal'] = 1024\n",
    "obj['dual'] = 1024\n",
    "\n",
    "xsolution = {}\n",
    "xsolution['primal'] = x.records\n",
    "xsolution['dual'] = dualcons.records['marginal']\n",
    "\n",
    "usolution = {}\n",
    "usolution['primal'] = time_c.records\n",
    "usolution['dual'] = pi.records\n",
    "                                 \n",
    "display('obj=',obj,'x=',xsolution,'u=',usolution)"
   ]
  },
  {
   "cell_type": "code",
   "execution_count": 54,
   "metadata": {},
   "outputs": [
    {
     "name": "stdout",
     "output_type": "stream",
     "text": [
      "The revenue is expected to increase $97.0 if 225 oz of glass is available\n"
     ]
    }
   ],
   "source": [
    "# Replace YYYY with an expression that predicts the change in revenue when glass availability rises to 225.\n",
    "# You cannot solve another model but may use results you obtained from the above two solves\n",
    "\n",
    "RevIncrease = Parameter(m,'RevIncrease')\n",
    "RevIncrease[:] = (25) * time_c.records.loc[time_c.records['A'] == 'glass', 'marginal'].values[0]\n",
    "\n",
    "print(f\"The revenue is expected to increase ${RevIncrease.toValue().round()} if 225 oz of glass is available\")"
   ]
  }
 ],
 "metadata": {
  "kernelspec": {
   "display_name": "venv",
   "language": "python",
   "name": "python3"
  },
  "language_info": {
   "codemirror_mode": {
    "name": "ipython",
    "version": 3
   },
   "file_extension": ".py",
   "mimetype": "text/x-python",
   "name": "python",
   "nbconvert_exporter": "python",
   "pygments_lexer": "ipython3",
   "version": "3.10.12"
  }
 },
 "nbformat": 4,
 "nbformat_minor": 4
}
