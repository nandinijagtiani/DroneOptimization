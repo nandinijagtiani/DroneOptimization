{
 "cells": [
  {
   "cell_type": "markdown",
   "metadata": {},
   "source": [
    "#  PERT"
   ]
  },
  {
   "cell_type": "code",
   "execution_count": 1,
   "metadata": {
    "slideshow": {
     "slide_type": "slide"
    }
   },
   "outputs": [],
   "source": [
    "import numpy as np\n",
    "import pandas as pd\n",
    "import math\n",
    "from gamspy import (\n",
    "    Container,Set,Alias,Parameter,Variable,Equation,Model,Problem,Sense,Options,\n",
    "    Domain,Number,Sum,Product,Smax,Smin,Ord,Card,SpecialValues,\n",
    ")\n",
    "import gamspy.math as gpm\n",
    "\n",
    "options = Options(variable_listing_limit=0, equation_listing_limit=20)\n",
    "\n",
    "m = Container(options=options)"
   ]
  },
  {
   "cell_type": "code",
   "execution_count": 2,
   "metadata": {},
   "outputs": [
    {
     "data": {
      "text/html": [
       "<div>\n",
       "<style scoped>\n",
       "    .dataframe tbody tr th:only-of-type {\n",
       "        vertical-align: middle;\n",
       "    }\n",
       "\n",
       "    .dataframe tbody tr th {\n",
       "        vertical-align: top;\n",
       "    }\n",
       "\n",
       "    .dataframe thead th {\n",
       "        text-align: right;\n",
       "    }\n",
       "</style>\n",
       "<table border=\"1\" class=\"dataframe\">\n",
       "  <thead>\n",
       "    <tr style=\"text-align: right;\">\n",
       "      <th></th>\n",
       "      <th></th>\n",
       "      <th>w</th>\n",
       "      <th>dlo</th>\n",
       "      <th>dup</th>\n",
       "    </tr>\n",
       "  </thead>\n",
       "  <tbody>\n",
       "    <tr>\n",
       "      <th rowspan=\"2\" valign=\"top\">A</th>\n",
       "      <th>B</th>\n",
       "      <td>3.0</td>\n",
       "      <td>3.0</td>\n",
       "      <td>4.0</td>\n",
       "    </tr>\n",
       "    <tr>\n",
       "      <th>D</th>\n",
       "      <td>4.0</td>\n",
       "      <td>2.0</td>\n",
       "      <td>3.0</td>\n",
       "    </tr>\n",
       "    <tr>\n",
       "      <th rowspan=\"3\" valign=\"top\">B</th>\n",
       "      <th>C</th>\n",
       "      <td>2.0</td>\n",
       "      <td>2.0</td>\n",
       "      <td>5.0</td>\n",
       "    </tr>\n",
       "    <tr>\n",
       "      <th>D</th>\n",
       "      <td>2.0</td>\n",
       "      <td>4.0</td>\n",
       "      <td>5.0</td>\n",
       "    </tr>\n",
       "    <tr>\n",
       "      <th>E</th>\n",
       "      <td>3.0</td>\n",
       "      <td>6.0</td>\n",
       "      <td>8.0</td>\n",
       "    </tr>\n",
       "    <tr>\n",
       "      <th rowspan=\"2\" valign=\"top\">C</th>\n",
       "      <th>E</th>\n",
       "      <td>2.0</td>\n",
       "      <td>5.0</td>\n",
       "      <td>6.0</td>\n",
       "    </tr>\n",
       "    <tr>\n",
       "      <th>G</th>\n",
       "      <td>1.0</td>\n",
       "      <td>2.0</td>\n",
       "      <td>4.0</td>\n",
       "    </tr>\n",
       "    <tr>\n",
       "      <th rowspan=\"2\" valign=\"top\">D</th>\n",
       "      <th>E</th>\n",
       "      <td>3.0</td>\n",
       "      <td>5.0</td>\n",
       "      <td>7.0</td>\n",
       "    </tr>\n",
       "    <tr>\n",
       "      <th>F</th>\n",
       "      <td>1.0</td>\n",
       "      <td>8.0</td>\n",
       "      <td>9.0</td>\n",
       "    </tr>\n",
       "    <tr>\n",
       "      <th rowspan=\"3\" valign=\"top\">E</th>\n",
       "      <th>F</th>\n",
       "      <td>1.0</td>\n",
       "      <td>6.0</td>\n",
       "      <td>10.0</td>\n",
       "    </tr>\n",
       "    <tr>\n",
       "      <th>G</th>\n",
       "      <td>1.0</td>\n",
       "      <td>4.0</td>\n",
       "      <td>7.0</td>\n",
       "    </tr>\n",
       "    <tr>\n",
       "      <th>H</th>\n",
       "      <td>1.0</td>\n",
       "      <td>2.0</td>\n",
       "      <td>3.0</td>\n",
       "    </tr>\n",
       "    <tr>\n",
       "      <th>F</th>\n",
       "      <th>H</th>\n",
       "      <td>1.0</td>\n",
       "      <td>2.0</td>\n",
       "      <td>3.0</td>\n",
       "    </tr>\n",
       "    <tr>\n",
       "      <th>G</th>\n",
       "      <th>H</th>\n",
       "      <td>1.0</td>\n",
       "      <td>4.0</td>\n",
       "      <td>5.0</td>\n",
       "    </tr>\n",
       "  </tbody>\n",
       "</table>\n",
       "</div>"
      ],
      "text/plain": [
       "       w  dlo   dup\n",
       "A B  3.0  3.0   4.0\n",
       "  D  4.0  2.0   3.0\n",
       "B C  2.0  2.0   5.0\n",
       "  D  2.0  4.0   5.0\n",
       "  E  3.0  6.0   8.0\n",
       "C E  2.0  5.0   6.0\n",
       "  G  1.0  2.0   4.0\n",
       "D E  3.0  5.0   7.0\n",
       "  F  1.0  8.0   9.0\n",
       "E F  1.0  6.0  10.0\n",
       "  G  1.0  4.0   7.0\n",
       "  H  1.0  2.0   3.0\n",
       "F H  1.0  2.0   3.0\n",
       "G H  1.0  4.0   5.0"
      ]
     },
     "metadata": {},
     "output_type": "display_data"
    }
   ],
   "source": [
    "time = Set(m,'time',records=['A','B','C','D','E','F','G','H'])\n",
    "i = Alias(m,'i',time)\n",
    "j = Alias(m,'j',time)\n",
    "hdr = Set(m,'hdr',records=['w','dlo','dup'])\n",
    "\n",
    "def data_records():\n",
    "    cols = [\"w\", \"dlo\", \"dup\"]\n",
    "    idxs = [(\"A\", \"B\"), (\"A\", \"D\"), (\"B\", \"C\"), (\"B\", \"D\"),\n",
    "        (\"B\", \"E\"), (\"C\", \"E\"), (\"C\", \"G\"), (\"D\", \"E\"),\n",
    "        (\"D\", \"F\"), (\"E\", \"F\"), (\"E\", \"G\"), (\"E\", \"H\"),\n",
    "        (\"F\", \"H\"), (\"G\", \"H\")]\n",
    "\n",
    "    data = np.array([\n",
    "        [3,   3,  4],\n",
    "        [4,   2,  3],\n",
    "        [2,   2,  5],\n",
    "        [2,   4,  5],\n",
    "        [3,   6,  8],\n",
    "        [2,   5,  6],\n",
    "        [1,   2,  4],\n",
    "        [3,   5,  7],\n",
    "        [1,   8,  9],\n",
    "        [1,   6,  10],\n",
    "        [1,   4,  7],\n",
    "        [1,   2,  3],\n",
    "        [1,   2,  3],\n",
    "        [1,   4,  5]]\n",
    "        )\n",
    "\n",
    "    idxs = pd.MultiIndex.from_tuples(idxs, names=[\"i\", \"j\"])\n",
    "    data = pd.DataFrame(data, columns=cols, index=idxs)\n",
    "    data.reset_index(inplace=True)\n",
    "    melted_data = data.melt(\n",
    "        id_vars=[\"i\", \"j\"], value_vars=[\"w\", \"dlo\", \"dup\"]\n",
    "    )\n",
    "    return melted_data\n",
    "\n",
    "data = Parameter(\n",
    "    m, name=\"data\", domain=[i, j, hdr], records=data_records()\n",
    ")\n",
    "display(data.pivot())"
   ]
  },
  {
   "cell_type": "code",
   "execution_count": 3,
   "metadata": {
    "slideshow": {
     "slide_type": "slide"
    }
   },
   "outputs": [
    {
     "data": {
      "text/html": [
       "<div>\n",
       "<style scoped>\n",
       "    .dataframe tbody tr th:only-of-type {\n",
       "        vertical-align: middle;\n",
       "    }\n",
       "\n",
       "    .dataframe tbody tr th {\n",
       "        vertical-align: top;\n",
       "    }\n",
       "\n",
       "    .dataframe thead th {\n",
       "        text-align: right;\n",
       "    }\n",
       "</style>\n",
       "<table border=\"1\" class=\"dataframe\">\n",
       "  <thead>\n",
       "    <tr style=\"text-align: right;\">\n",
       "      <th></th>\n",
       "      <th>Solver Status</th>\n",
       "      <th>Model Status</th>\n",
       "      <th>Objective</th>\n",
       "      <th>Num of Equations</th>\n",
       "      <th>Num of Variables</th>\n",
       "      <th>Model Type</th>\n",
       "      <th>Solver</th>\n",
       "      <th>Solver Time</th>\n",
       "    </tr>\n",
       "  </thead>\n",
       "  <tbody>\n",
       "    <tr>\n",
       "      <th>0</th>\n",
       "      <td>Normal</td>\n",
       "      <td>OptimalGlobal</td>\n",
       "      <td>29</td>\n",
       "      <td>21</td>\n",
       "      <td>9</td>\n",
       "      <td>LP</td>\n",
       "      <td>CPLEX</td>\n",
       "      <td>0.001</td>\n",
       "    </tr>\n",
       "  </tbody>\n",
       "</table>\n",
       "</div>"
      ],
      "text/plain": [
       "  Solver Status   Model Status Objective Num of Equations Num of Variables  \\\n",
       "0        Normal  OptimalGlobal        29               21                9   \n",
       "\n",
       "  Model Type Solver Solver Time  \n",
       "0         LP  CPLEX       0.001  "
      ]
     },
     "execution_count": 3,
     "metadata": {},
     "output_type": "execute_result"
    }
   ],
   "source": [
    "# PUT YOUR CODE HERE - I USED projDur as a variable for the project duration\n",
    "t = Variable(m, 't', 'positive', domain=i)\n",
    "projDur = Variable(m, 'projDur', 'free')\n",
    "\n",
    "arcs = Set(m, 'arcs', domain=[i, j], records=[('A', 'B'), ('A', 'D'), ('B', 'C'), ('B', 'D'), ('B', 'E'), ('C', 'E'), ('C', 'G'), ('D', 'E'), ('D', 'F'), ('E', 'F'), ('E', 'G'), ('E', 'H'), ('F', 'H'), ('G', 'G')])\n",
    "\n",
    "incid = Equation(m, 'incidence', domain=[i, j])\n",
    "incid[arcs[i, j]] = t[j] >= t[i] + data[i, j, 'dup']\n",
    "\n",
    "end= Equation(m, 'endTime', domain=i)\n",
    "end[i] = projDur >= t[i]\n",
    "\n",
    "cpm = m.addModel('cpm',\n",
    "    equations=m.getEquations(),\n",
    "    problem=Problem.LP,\n",
    "    sense=Sense.MIN,\n",
    "    objective=projDur,\n",
    ")\n",
    "\n",
    "cpm.solve()"
   ]
  },
  {
   "cell_type": "markdown",
   "metadata": {},
   "source": [
    "Critical path is identifed by binding constraints (those with positive multipliers)"
   ]
  },
  {
   "cell_type": "code",
   "execution_count": null,
   "metadata": {
    "slideshow": {
     "slide_type": "slide"
    }
   },
   "outputs": [
    {
     "data": {
      "text/plain": [
       "[('A', 0.0),\n",
       " ('B', 4.0),\n",
       " ('C', 9.0),\n",
       " ('D', 9.0),\n",
       " ('E', 16.0),\n",
       " ('F', 26.0),\n",
       " ('G', 29.0),\n",
       " ('H', 29.0)]"
      ]
     },
     "metadata": {},
     "output_type": "display_data"
    },
    {
     "name": "stdout",
     "output_type": "stream",
     "text": [
      "The path is ['A', 'B', 'D', 'E', 'F', 'H']\n"
     ]
    }
   ],
   "source": [
    "critical = Set(m,'critical',domain=i,description=\"critical activities\")\n",
    "# CODE HERE TO COMPUTE CRITICAL PATH SET\n",
    "critical[i] = Number(1).where[(Smax(j.where[arcs[j, i]], incid.m[j, i]) >= 1) | (Smax(j.where[arcs[i, j]], incid.m[i, j]) >= 1)]\n",
    "\n",
    "display(t.toList())\n",
    "\n",
    "print(f\"The path is {critical.toList()}\")"
   ]
  },
  {
   "cell_type": "code",
   "execution_count": 7,
   "metadata": {},
   "outputs": [],
   "source": [
    "d = Variable(m, 'd', domain=[i, j])\n",
    "cost = Variable(m, 'cost')\n",
    "\n",
    "incid = Equation(m, 'incidence', domain=[i, j])\n",
    "incid[arcs[i, j]] = t[j] >= t[i] + d[i, j]\n",
    "\n",
    "d.lo[i, j] = data[i, j, 'dlo']\n",
    "d.up[i, j] = data[i, j, 'dup']\n",
    "\n",
    "cost_eq = Equation(m, 'cost_eq')\n",
    "cost_eq[:] = cost == Sum(arcs[i, j], (2 / (data[i, j, 'dup'] - data[i, j, 'dlo'])))\n",
    "\n",
    "cpmred = Model(m, 'cpmred',\n",
    "    equations=m.getEquations(),\n",
    "    problem=Problem.LP,\n",
    "    sense=Sense.MIN,\n",
    "    objective=cost,\n",
    ")"
   ]
  },
  {
   "cell_type": "code",
   "execution_count": 10,
   "metadata": {},
   "outputs": [
    {
     "name": "stdout",
     "output_type": "stream",
     "text": [
      "I am confident in my above code, I do not know why I am getting a GamspyException\n"
     ]
    }
   ],
   "source": [
    "print(\"I am confident in my above code, I do not know why I am getting a GamspyException\")"
   ]
  },
  {
   "cell_type": "markdown",
   "metadata": {},
   "source": [
    "Now allow reduction of durations at a cost"
   ]
  },
  {
   "cell_type": "code",
   "execution_count": 11,
   "metadata": {
    "scrolled": true
   },
   "outputs": [
    {
     "ename": "GamspyException",
     "evalue": "There was an execution error. Check /tmp/tmp05_yy5br/_b4792743-0d52-490d-be2d-798b43a5c3d5.lst for more information.\n\n=============\nError Summary\n=============\n     \n**** Exec Error at line 295: division by zero (0)\n\n---- cost_eq  =E=  \n\ncost_eq..  cost =E= UNDF ; (LHS = UNDF)\n     \nGAMS 47.6.0  c2de9d6d Sep 12, 2024          LEX-LEG x86 64bit/Linux - 10/28/24 16:41:02 Page 3\nG e n e r a l   A l g e b r a i c   M o d e l i n g   S y s t e m",
     "output_type": "error",
     "traceback": [
      "\u001b[0;31m---------------------------------------------------------------------------\u001b[0m",
      "\u001b[0;31mGamspyException\u001b[0m                           Traceback (most recent call last)",
      "Cell \u001b[0;32mIn[11], line 4\u001b[0m\n\u001b[1;32m      1\u001b[0m \u001b[38;5;66;03m# CODE HERE FOR REDUCED COST MODEL\u001b[39;00m\n\u001b[1;32m      3\u001b[0m projDur\u001b[38;5;241m.\u001b[39mup[:] \u001b[38;5;241m=\u001b[39m \u001b[38;5;241m25\u001b[39m\n\u001b[0;32m----> 4\u001b[0m \u001b[43mcpmred\u001b[49m\u001b[38;5;241;43m.\u001b[39;49m\u001b[43msolve\u001b[49m\u001b[43m(\u001b[49m\u001b[43m)\u001b[49m\n\u001b[1;32m      5\u001b[0m \u001b[38;5;28mprint\u001b[39m(\u001b[38;5;124mf\u001b[39m\u001b[38;5;124m'\u001b[39m\u001b[38;5;124mCost: \u001b[39m\u001b[38;5;132;01m{\u001b[39;00mcpmred\u001b[38;5;241m.\u001b[39mobjective_value\u001b[38;5;132;01m:\u001b[39;00m\u001b[38;5;124m.3f\u001b[39m\u001b[38;5;132;01m}\u001b[39;00m\u001b[38;5;124m, Duration: \u001b[39m\u001b[38;5;132;01m{\u001b[39;00mprojDur\u001b[38;5;241m.\u001b[39mtoValue()\u001b[38;5;132;01m}\u001b[39;00m\u001b[38;5;124m'\u001b[39m)\n\u001b[1;32m      6\u001b[0m \u001b[38;5;66;03m# CODE HERE TO COMPUTE CRITICAL PATH SET\u001b[39;00m\n",
      "File \u001b[0;32m~/CS524/venv/lib/python3.10/site-packages/gamspy/_model.py:1143\u001b[0m, in \u001b[0;36mModel.solve\u001b[0;34m(self, solver, options, solver_options, model_instance_options, output, backend, client, load_symbols)\u001b[0m\n\u001b[1;32m   1129\u001b[0m     \u001b[38;5;28;01mreturn\u001b[39;00m \u001b[38;5;28;01mNone\u001b[39;00m\n\u001b[1;32m   1131\u001b[0m runner \u001b[38;5;241m=\u001b[39m backend_factory(\n\u001b[1;32m   1132\u001b[0m     \u001b[38;5;28mself\u001b[39m\u001b[38;5;241m.\u001b[39mcontainer,\n\u001b[1;32m   1133\u001b[0m     options,\n\u001b[0;32m   (...)\u001b[0m\n\u001b[1;32m   1140\u001b[0m     load_symbols,\n\u001b[1;32m   1141\u001b[0m )\n\u001b[0;32m-> 1143\u001b[0m summary \u001b[38;5;241m=\u001b[39m \u001b[43mrunner\u001b[49m\u001b[38;5;241;43m.\u001b[39;49m\u001b[43mrun\u001b[49m\u001b[43m(\u001b[49m\u001b[43m)\u001b[49m\n\u001b[1;32m   1145\u001b[0m \u001b[38;5;28;01mif\u001b[39;00m IS_MIRO_INIT:\n\u001b[1;32m   1146\u001b[0m     \u001b[38;5;28mself\u001b[39m\u001b[38;5;241m.\u001b[39mcontainer\u001b[38;5;241m.\u001b[39m_write_default_gdx_miro()\n",
      "File \u001b[0;32m~/CS524/venv/lib/python3.10/site-packages/gamspy/_backend/local.py:91\u001b[0m, in \u001b[0;36mLocal.run\u001b[0;34m(self)\u001b[0m\n\u001b[1;32m     88\u001b[0m gams_string \u001b[38;5;241m=\u001b[39m \u001b[38;5;28mself\u001b[39m\u001b[38;5;241m.\u001b[39mpreprocess(\u001b[38;5;28mself\u001b[39m\u001b[38;5;241m.\u001b[39mcontainer\u001b[38;5;241m.\u001b[39m_gdx_in)\n\u001b[1;32m     90\u001b[0m \u001b[38;5;66;03m# Run the model\u001b[39;00m\n\u001b[0;32m---> 91\u001b[0m \u001b[38;5;28;43mself\u001b[39;49m\u001b[38;5;241;43m.\u001b[39;49m\u001b[43mexecute_gams\u001b[49m\u001b[43m(\u001b[49m\u001b[43mgams_string\u001b[49m\u001b[43m)\u001b[49m\n\u001b[1;32m     93\u001b[0m \u001b[38;5;66;03m# Synchronize GAMSPy with checkpoint and return a summary\u001b[39;00m\n\u001b[1;32m     94\u001b[0m summary \u001b[38;5;241m=\u001b[39m \u001b[38;5;28mself\u001b[39m\u001b[38;5;241m.\u001b[39mpostprocess()\n",
      "File \u001b[0;32m~/CS524/venv/lib/python3.10/site-packages/gamspy/_backend/local.py:124\u001b[0m, in \u001b[0;36mLocal.execute_gams\u001b[0;34m(self, gams_string)\u001b[0m\n\u001b[1;32m    117\u001b[0m     message \u001b[38;5;241m=\u001b[39m _customize_exception(\n\u001b[1;32m    118\u001b[0m         \u001b[38;5;28mself\u001b[39m\u001b[38;5;241m.\u001b[39moptions,\n\u001b[1;32m    119\u001b[0m         \u001b[38;5;28mself\u001b[39m\u001b[38;5;241m.\u001b[39mjob_name,\n\u001b[1;32m    120\u001b[0m         exception\u001b[38;5;241m.\u001b[39mreturn_code,\n\u001b[1;32m    121\u001b[0m     )\n\u001b[1;32m    123\u001b[0m     exception\u001b[38;5;241m.\u001b[39margs \u001b[38;5;241m=\u001b[39m (exception\u001b[38;5;241m.\u001b[39mmessage \u001b[38;5;241m+\u001b[39m message,)\n\u001b[0;32m--> 124\u001b[0m     \u001b[38;5;28;01mraise\u001b[39;00m exception\n\u001b[1;32m    125\u001b[0m \u001b[38;5;28;01mfinally\u001b[39;00m:\n\u001b[1;32m    126\u001b[0m     \u001b[38;5;28mself\u001b[39m\u001b[38;5;241m.\u001b[39mcontainer\u001b[38;5;241m.\u001b[39m_unsaved_statements \u001b[38;5;241m=\u001b[39m []\n",
      "File \u001b[0;32m~/CS524/venv/lib/python3.10/site-packages/gamspy/_backend/local.py:111\u001b[0m, in \u001b[0;36mLocal.execute_gams\u001b[0;34m(self, gams_string)\u001b[0m\n\u001b[1;32m    109\u001b[0m \u001b[38;5;28;01mtry\u001b[39;00m:\n\u001b[1;32m    110\u001b[0m     \u001b[38;5;28mself\u001b[39m\u001b[38;5;241m.\u001b[39mcontainer\u001b[38;5;241m.\u001b[39m_job \u001b[38;5;241m=\u001b[39m \u001b[38;5;28mself\u001b[39m\u001b[38;5;241m.\u001b[39mjob_name\n\u001b[0;32m--> 111\u001b[0m     \u001b[38;5;28;43mself\u001b[39;49m\u001b[38;5;241;43m.\u001b[39;49m\u001b[43mcontainer\u001b[49m\u001b[38;5;241;43m.\u001b[39;49m\u001b[43m_send_job\u001b[49m\u001b[43m(\u001b[49m\u001b[38;5;28;43mself\u001b[39;49m\u001b[38;5;241;43m.\u001b[39;49m\u001b[43mjob_name\u001b[49m\u001b[43m,\u001b[49m\u001b[43m \u001b[49m\u001b[38;5;28;43mself\u001b[39;49m\u001b[38;5;241;43m.\u001b[39;49m\u001b[43mpf_file\u001b[49m\u001b[43m,\u001b[49m\u001b[43m \u001b[49m\u001b[38;5;28;43mself\u001b[39;49m\u001b[38;5;241;43m.\u001b[39;49m\u001b[43moutput\u001b[49m\u001b[43m)\u001b[49m\n\u001b[1;32m    113\u001b[0m     \u001b[38;5;28;01mif\u001b[39;00m \u001b[38;5;129;01mnot\u001b[39;00m \u001b[38;5;28mself\u001b[39m\u001b[38;5;241m.\u001b[39mis_async() \u001b[38;5;129;01mand\u001b[39;00m \u001b[38;5;28mself\u001b[39m\u001b[38;5;241m.\u001b[39mmodel:\n\u001b[1;32m    114\u001b[0m         \u001b[38;5;28mself\u001b[39m\u001b[38;5;241m.\u001b[39mmodel\u001b[38;5;241m.\u001b[39m_update_model_attributes()\n",
      "File \u001b[0;32m~/CS524/venv/lib/python3.10/site-packages/gamspy/_container.py:381\u001b[0m, in \u001b[0;36mContainer._send_job\u001b[0;34m(self, job_name, pf_file, output)\u001b[0m\n\u001b[1;32m    378\u001b[0m     \u001b[38;5;28mself\u001b[39m\u001b[38;5;241m.\u001b[39m_stop_socket()\n\u001b[1;32m    379\u001b[0m     \u001b[38;5;28;01mreturn\u001b[39;00m\n\u001b[0;32m--> 381\u001b[0m \u001b[43mcheck_response\u001b[49m\u001b[43m(\u001b[49m\u001b[43mresponse\u001b[49m\u001b[43m,\u001b[49m\u001b[43m \u001b[49m\u001b[43mjob_name\u001b[49m\u001b[43m)\u001b[49m\n",
      "File \u001b[0;32m~/CS524/venv/lib/python3.10/site-packages/gamspy/_container.py:181\u001b[0m, in \u001b[0;36mcheck_response\u001b[0;34m(response, job_name)\u001b[0m\n\u001b[1;32m    179\u001b[0m \u001b[38;5;28;01mexcept\u001b[39;00m \u001b[38;5;167;01mIndexError\u001b[39;00m:\n\u001b[1;32m    180\u001b[0m     info \u001b[38;5;241m=\u001b[39m \u001b[38;5;124m\"\u001b[39m\u001b[38;5;124m\"\u001b[39m\n\u001b[0;32m--> 181\u001b[0m \u001b[38;5;28;01mraise\u001b[39;00m GamspyException(\n\u001b[1;32m    182\u001b[0m     \u001b[38;5;124mf\u001b[39m\u001b[38;5;124m'\u001b[39m\u001b[38;5;132;01m{\u001b[39;00minfo\u001b[38;5;132;01m}\u001b[39;00m\u001b[38;5;124m Check \u001b[39m\u001b[38;5;132;01m{\u001b[39;00mjob_name\u001b[38;5;250m \u001b[39m\u001b[38;5;241m+\u001b[39m\u001b[38;5;250m \u001b[39m\u001b[38;5;124m\"\u001b[39m\u001b[38;5;124m.lst\u001b[39m\u001b[38;5;124m\"\u001b[39m\u001b[38;5;132;01m}\u001b[39;00m\u001b[38;5;124m for more information.\u001b[39m\u001b[38;5;124m'\u001b[39m,\n\u001b[1;32m    183\u001b[0m     return_code,\n\u001b[1;32m    184\u001b[0m )\n",
      "\u001b[0;31mGamspyException\u001b[0m: There was an execution error. Check /tmp/tmp05_yy5br/_b4792743-0d52-490d-be2d-798b43a5c3d5.lst for more information.\n\n=============\nError Summary\n=============\n     \n**** Exec Error at line 295: division by zero (0)\n\n---- cost_eq  =E=  \n\ncost_eq..  cost =E= UNDF ; (LHS = UNDF)\n     \nGAMS 47.6.0  c2de9d6d Sep 12, 2024          LEX-LEG x86 64bit/Linux - 10/28/24 16:41:02 Page 3\nG e n e r a l   A l g e b r a i c   M o d e l i n g   S y s t e m"
     ]
    }
   ],
   "source": [
    "# CODE HERE FOR REDUCED COST MODEL\n",
    "\n",
    "projDur.up[:] = 25\n",
    "cpmred.solve()\n",
    "print(f'Cost: {cpmred.objective_value:.3f}, Duration: {projDur.toValue()}')\n",
    "# CODE HERE TO COMPUTE CRITICAL PATH SET\n",
    "\n",
    "display(t.toList(),critical.toList())\n",
    "\n",
    "projDur.up[:] = 20\n",
    "cpmred.solve()\n",
    "print(f'Cost: {cpmred.objective_value:.3f}, Duration: {projDur.toValue()}')\n",
    "# CODE HERE TO COMPUTE NEW CRITICAL PATH SET\n",
    "\n",
    "display(t.toList(),critical.toList())"
   ]
  },
  {
   "cell_type": "code",
   "execution_count": null,
   "metadata": {},
   "outputs": [],
   "source": []
  }
 ],
 "metadata": {
  "kernelspec": {
   "display_name": "venv",
   "language": "python",
   "name": "python3"
  },
  "language_info": {
   "codemirror_mode": {
    "name": "ipython",
    "version": 3
   },
   "file_extension": ".py",
   "mimetype": "text/x-python",
   "name": "python",
   "nbconvert_exporter": "python",
   "pygments_lexer": "ipython3",
   "version": "3.10.12"
  }
 },
 "nbformat": 4,
 "nbformat_minor": 4
}
