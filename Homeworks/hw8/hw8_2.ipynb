{
 "cells": [
  {
   "attachments": {},
   "cell_type": "markdown",
   "metadata": {
    "colab_type": "text",
    "id": "E1IcEYrRSSCe"
   },
   "source": [
    "## Multicast problem\n"
   ]
  },
  {
   "cell_type": "code",
   "execution_count": 31,
   "metadata": {},
   "outputs": [],
   "source": [
    "import sys\n",
    "import numpy as np\n",
    "import gamspy as gp\n",
    "import gamspy.math as gpm\n",
    "from gamspy import Sum, Card"
   ]
  },
  {
   "cell_type": "code",
   "execution_count": 32,
   "metadata": {
    "colab": {},
    "colab_type": "code",
    "id": "YD7DA1XZS9Qk"
   },
   "outputs": [],
   "source": [
    "class arguments:\n",
    "  def __init__(self, solver='cplex', DEMAND=10, N=20, M=4):\n",
    "    self.solver = solver\n",
    "    self.DEMAND = DEMAND\n",
    "    self.N = N\n",
    "    self.M = M\n",
    "\n",
    "args = arguments()\n",
    "\n",
    "options = gp.Options(absolute_optimality_gap=0,relative_optimality_gap=1e-6,threads=3)\n",
    "cont = gp.Container(options=options)\n",
    "\n",
    "i = cont.addSet('i',description='break points',records=range(0,4))\n",
    "seg = cont.addSet('seg',domain=[i],description='price break segments',records=range(1,4))\n",
    "n = cont.addSet('n',description='nodes',records=range(1,args.N+1))\n",
    "# define arcs for cost definition\n",
    "j = cont.addAlias('j',n)\n",
    "k = cont.addAlias('k',n)\n",
    "s = cont.addSet('s',domain=[j,k],description='arcs')\n",
    "s[j,k].where[gpm.abs(j.ord-k.ord) == 1] = True\n",
    "\n",
    "# define abscissae and ordinates of piecewise linear function\n",
    "# segments: 0->5, 5->20, 20->100\n",
    "B = cont.addParameter('BR',domain=i,description='Breakpoints (quantities at which function changes)',\n",
    "        records=np.array([0, 5, 20, 100]))\n",
    "CBR = cont.addParameter('CBR',domain=i,description='Function value at break points')\n",
    "CBR[i] = gpm.log(B[i]+1)\n",
    "\n",
    "numServers = cont.addParameter('numservers',description='limit on the number of servers',records=args.M)\n",
    "# define demands at the nodes - uniform in this example\n",
    "demand = cont.addParameter('demand',domain=[n])\n",
    "demand[n] = (2*n.ord/Card(n))*args.DEMAND\n",
    "\n",
    "bigM = cont.addParameter('bigM')\n",
    "bigM[:] = Sum(n, demand[n])"
   ]
  },
  {
   "cell_type": "code",
   "execution_count": 33,
   "metadata": {},
   "outputs": [],
   "source": [
    "# Convert function to slope intercept\n",
    "m = cont.addParameter('m',domain=[j, k, i],description='gradient on segment')\n",
    "m[s[j, k], i].where[seg[i]] = (CBR[i]-CBR[i.lag(1)])/(B[i]-B[i.lag(1)])\n",
    "\n",
    "c = cont.addParameter('c',domain=[j, k, i],description='intercept cost on segment')\n",
    "c[s[j, k], i].where[seg[i]] = CBR[i.lag(1)] - m[j, k, i]*B[i.lag(1)]"
   ]
  },
  {
   "cell_type": "code",
   "execution_count": 47,
   "metadata": {},
   "outputs": [
    {
     "data": {
      "text/html": [
       "<div>\n",
       "<style scoped>\n",
       "    .dataframe tbody tr th:only-of-type {\n",
       "        vertical-align: middle;\n",
       "    }\n",
       "\n",
       "    .dataframe tbody tr th {\n",
       "        vertical-align: top;\n",
       "    }\n",
       "\n",
       "    .dataframe thead th {\n",
       "        text-align: right;\n",
       "    }\n",
       "</style>\n",
       "<table border=\"1\" class=\"dataframe\">\n",
       "  <thead>\n",
       "    <tr style=\"text-align: right;\">\n",
       "      <th></th>\n",
       "      <th>Solver Status</th>\n",
       "      <th>Model Status</th>\n",
       "      <th>Objective</th>\n",
       "      <th>Num of Equations</th>\n",
       "      <th>Num of Variables</th>\n",
       "      <th>Model Type</th>\n",
       "      <th>Solver</th>\n",
       "      <th>Solver Time</th>\n",
       "    </tr>\n",
       "  </thead>\n",
       "  <tbody>\n",
       "    <tr>\n",
       "      <th>0</th>\n",
       "      <td>Normal</td>\n",
       "      <td>IntegerInfeasible</td>\n",
       "      <td>NA</td>\n",
       "      <td>346</td>\n",
       "      <td>307</td>\n",
       "      <td>MIP</td>\n",
       "      <td>CPLEX</td>\n",
       "      <td>0.006</td>\n",
       "    </tr>\n",
       "  </tbody>\n",
       "</table>\n",
       "</div>"
      ],
      "text/plain": [
       "  Solver Status       Model Status Objective Num of Equations  \\\n",
       "0        Normal  IntegerInfeasible        NA              346   \n",
       "\n",
       "  Num of Variables Model Type Solver Solver Time  \n",
       "0              307        MIP  CPLEX       0.006  "
      ]
     },
     "execution_count": 47,
     "metadata": {},
     "output_type": "execute_result"
    }
   ],
   "source": [
    "# enter model here\n",
    "flow = cont.addVariable('flow','positive',domain=[n],description='flow from server m')\n",
    "arc_flow = cont.addVariable('arc_flow','positive',domain=[j, k],description='flow along specific arc')\n",
    "b = cont.addVariable('b', 'binary' ,domain=[j, k, i],description='use piece for server')\n",
    "z = cont.addVariable('z','binary',domain=[n],description='use node n')\n",
    "w = cont.addVariable('w','free',domain=[j, k, i],description= 'flow to node n from server m')\n",
    "\n",
    "\n",
    "#Create a flow balance constraint meeting demand\n",
    "balance = cont.addEquation('balance', domain=[n])\n",
    "balance[n] = (Sum(j.where[s[j, n]], arc_flow[j, n]) - (Sum(k.where[s[n, k]], arc_flow[n, k]) + flow[n]) >= demand[n])\n",
    "\n",
    "#Have a constraint for upper bound on servers\n",
    "max_servers = cont.addEquation('max_servers')\n",
    "max_servers[:] = Sum(n, z[n]) <= numServers\n",
    "\n",
    "#Create a constraint for upper bound on flow\n",
    "flow_bound = cont.addEquation('flow_bound', domain=n)\n",
    "flow_bound[n] = flow[n] <= bigM * z[n]\n",
    "\n",
    "#Ensure each arc is equal to each flow\n",
    "arcflow = cont.addEquation('arcflow', domain=[j,k])\n",
    "arcflow[s[j,k]] = Sum(seg, w[j, k, seg]) == arc_flow[j, k]\n",
    "\n",
    "#PW Linear Equations Below\n",
    "\n",
    "## Bounds on the flow constraints\n",
    "wlo = cont.addEquation('flowC1', domain=[j, k, seg])\n",
    "wlo[s[j,k], seg] = B[seg.lag(1)] * b[j,k,seg] <= w[j,k,seg]\n",
    "\n",
    "wup = cont.addEquation('flowC2', domain=[j, k, seg])\n",
    "wup[s[j,k], seg] = w[j, k, seg] <= B[seg] * b[j,k,seg]\n",
    "\n",
    "#One piece constaint from 26linear\n",
    "OnePiece = cont.addEquation('OnePiece',domain=[j, k])\n",
    "OnePiece[s[j, k]]= Sum(seg, b[j, k, seg]) == 1\n",
    "\n",
    "\n",
    "\n",
    "netPW = cont.addModel('netPW',\n",
    "    equations=cont.getEquations(),\n",
    "    problem=gp.Problem.MIP,\n",
    "    sense=gp.Sense.MIN,\n",
    "    objective=Sum((s[j, k], seg), c[j, k, seg] * b[j, k, seg] + m[j, k, seg] * w[j, k, seg])\n",
    ")\n",
    "\n",
    "netPW.solve(solver=args.solver, solver_options={'numericalemphasis': 1})"
   ]
  },
  {
   "cell_type": "code",
   "execution_count": 48,
   "metadata": {},
   "outputs": [
    {
     "name": "stdout",
     "output_type": "stream",
     "text": [
      "Cost = 2e+300, time = 0.029000546783208847\n"
     ]
    },
    {
     "ename": "AttributeError",
     "evalue": "'NoneType' object has no attribute 'columns'",
     "output_type": "error",
     "traceback": [
      "\u001b[0;31m---------------------------------------------------------------------------\u001b[0m",
      "\u001b[0;31mAttributeError\u001b[0m                            Traceback (most recent call last)",
      "Cell \u001b[0;32mIn[48], line 2\u001b[0m\n\u001b[1;32m      1\u001b[0m \u001b[38;5;28mprint\u001b[39m(\u001b[38;5;124mf\u001b[39m\u001b[38;5;124m\"\u001b[39m\u001b[38;5;124mCost = \u001b[39m\u001b[38;5;132;01m{\u001b[39;00mnetPW\u001b[38;5;241m.\u001b[39mobjective_value\u001b[38;5;132;01m}\u001b[39;00m\u001b[38;5;124m, time = \u001b[39m\u001b[38;5;132;01m{\u001b[39;00mnetPW\u001b[38;5;241m.\u001b[39mtotal_solver_time\u001b[38;5;132;01m}\u001b[39;00m\u001b[38;5;124m\"\u001b[39m)\n\u001b[0;32m----> 2\u001b[0m \u001b[38;5;28mprint\u001b[39m(\u001b[38;5;124mf\u001b[39m\u001b[38;5;124m\"\u001b[39m\u001b[38;5;124mUse segment =\u001b[39m\u001b[38;5;130;01m\\n\u001b[39;00m\u001b[38;5;124m \u001b[39m\u001b[38;5;132;01m{\u001b[39;00m\u001b[43mb\u001b[49m\u001b[38;5;241;43m.\u001b[39;49m\u001b[43mpivot\u001b[49m\u001b[43m(\u001b[49m\u001b[43m)\u001b[49m\u001b[38;5;132;01m}\u001b[39;00m\u001b[38;5;130;01m\\n\u001b[39;00m\u001b[38;5;124mlamda =\u001b[39m\u001b[38;5;130;01m\\n\u001b[39;00m\u001b[38;5;124m \u001b[39m\u001b[38;5;132;01m{\u001b[39;00mw\u001b[38;5;241m.\u001b[39mpivot()\u001b[38;5;132;01m}\u001b[39;00m\u001b[38;5;124m\"\u001b[39m)\n\u001b[1;32m      3\u001b[0m \u001b[38;5;28mprint\u001b[39m(\u001b[38;5;124mf\u001b[39m\u001b[38;5;124m\"\u001b[39m\u001b[38;5;124mUse server =\u001b[39m\u001b[38;5;130;01m\\n\u001b[39;00m\u001b[38;5;124m \u001b[39m\u001b[38;5;132;01m{\u001b[39;00mz\u001b[38;5;241m.\u001b[39mrecords\u001b[38;5;241m.\u001b[39mset_index(\u001b[38;5;124m'\u001b[39m\u001b[38;5;124mn\u001b[39m\u001b[38;5;124m'\u001b[39m)\u001b[38;5;132;01m}\u001b[39;00m\u001b[38;5;124m\"\u001b[39m)\n\u001b[1;32m      4\u001b[0m \u001b[38;5;28mprint\u001b[39m(flow\u001b[38;5;241m.\u001b[39mrecords)\n",
      "File \u001b[0;32m~/CS524/venv/lib/python3.10/site-packages/gams/transfer/syms/_mixins/pivot.py:237\u001b[0m, in \u001b[0;36mPivotVariableMixin.pivot\u001b[0;34m(self, index, columns, value, fill_value)\u001b[0m\n\u001b[1;32m    217\u001b[0m \u001b[38;5;250m\u001b[39m\u001b[38;5;124;03m\"\"\"\u001b[39;00m\n\u001b[1;32m    218\u001b[0m \u001b[38;5;124;03mConvenience function to pivot records into a new shape (only symbols with >1D can be pivoted)\u001b[39;00m\n\u001b[1;32m    219\u001b[0m \n\u001b[0;32m   (...)\u001b[0m\n\u001b[1;32m    234\u001b[0m \u001b[38;5;124;03m    Pivoted records dataframe\u001b[39;00m\n\u001b[1;32m    235\u001b[0m \u001b[38;5;124;03m\"\"\"\u001b[39;00m\n\u001b[1;32m    236\u001b[0m \u001b[38;5;66;03m# check & set\u001b[39;00m\n\u001b[0;32m--> 237\u001b[0m index, columns \u001b[38;5;241m=\u001b[39m \u001b[38;5;28;43msuper\u001b[39;49m\u001b[43m(\u001b[49m\u001b[43m)\u001b[49m\u001b[38;5;241;43m.\u001b[39;49m\u001b[43mpivot\u001b[49m\u001b[43m(\u001b[49m\u001b[43mindex\u001b[49m\u001b[43m,\u001b[49m\u001b[43m \u001b[49m\u001b[43mcolumns\u001b[49m\u001b[43m)\u001b[49m\n\u001b[1;32m    239\u001b[0m \u001b[38;5;66;03m#\u001b[39;00m\n\u001b[1;32m    240\u001b[0m \u001b[38;5;66;03m# ARG: value\u001b[39;00m\n\u001b[1;32m    241\u001b[0m \u001b[38;5;66;03m# set defaults\u001b[39;00m\n\u001b[1;32m    242\u001b[0m \u001b[38;5;28;01mif\u001b[39;00m \u001b[38;5;129;01mnot\u001b[39;00m \u001b[38;5;28misinstance\u001b[39m(value, (\u001b[38;5;28mstr\u001b[39m, \u001b[38;5;28mtype\u001b[39m(\u001b[38;5;28;01mNone\u001b[39;00m))):\n",
      "File \u001b[0;32m~/CS524/venv/lib/python3.10/site-packages/gams/transfer/syms/_mixins/pivot.py:50\u001b[0m, in \u001b[0;36mPivotBase.pivot\u001b[0;34m(self, *args)\u001b[0m\n\u001b[1;32m     48\u001b[0m \u001b[38;5;66;03m# set defaults\u001b[39;00m\n\u001b[1;32m     49\u001b[0m \u001b[38;5;28;01mif\u001b[39;00m index \u001b[38;5;129;01mis\u001b[39;00m \u001b[38;5;28;01mNone\u001b[39;00m:\n\u001b[0;32m---> 50\u001b[0m     index \u001b[38;5;241m=\u001b[39m \u001b[38;5;28;43mself\u001b[39;49m\u001b[38;5;241;43m.\u001b[39;49m\u001b[43mrecords\u001b[49m\u001b[38;5;241;43m.\u001b[39;49m\u001b[43mcolumns\u001b[49m[: \u001b[38;5;28mself\u001b[39m\u001b[38;5;241m.\u001b[39mdimension \u001b[38;5;241m-\u001b[39m \u001b[38;5;241m1\u001b[39m]\u001b[38;5;241m.\u001b[39mtolist()\n\u001b[1;32m     52\u001b[0m \u001b[38;5;28;01mif\u001b[39;00m \u001b[38;5;28misinstance\u001b[39m(index, \u001b[38;5;28mstr\u001b[39m):\n\u001b[1;32m     53\u001b[0m     index \u001b[38;5;241m=\u001b[39m [index]\n",
      "\u001b[0;31mAttributeError\u001b[0m: 'NoneType' object has no attribute 'columns'"
     ]
    }
   ],
   "source": [
    "print(f\"Cost = {netPW.objective_value}, time = {netPW.total_solver_time}\")\n",
    "print(f\"Use segment =\\n {b.pivot()}\\nlamda =\\n {w.pivot()}\")\n",
    "print(f\"Use server =\\n {z.records.set_index('n')}\")\n",
    "print(flow.records)"
   ]
  },
  {
   "cell_type": "code",
   "execution_count": null,
   "metadata": {},
   "outputs": [],
   "source": []
  }
 ],
 "metadata": {
  "celltoolbar": "Slideshow",
  "colab": {
   "name": "Lecture22-Scribing-Assignment.ipynb",
   "provenance": []
  },
  "kernelspec": {
   "display_name": "venv",
   "language": "python",
   "name": "python3"
  },
  "language_info": {
   "codemirror_mode": {
    "name": "ipython",
    "version": 3
   },
   "file_extension": ".py",
   "mimetype": "text/x-python",
   "name": "python",
   "nbconvert_exporter": "python",
   "pygments_lexer": "ipython3",
   "version": "3.10.12"
  }
 },
 "nbformat": 4,
 "nbformat_minor": 4
}
