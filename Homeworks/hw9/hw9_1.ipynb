{
 "cells": [
  {
   "cell_type": "code",
   "execution_count": 9,
   "metadata": {},
   "outputs": [],
   "source": [
    "import gamspy as gp\n",
    "import gamspy.math as gpm\n",
    "from gamspy import Sum, Card\n",
    "\n",
    "import sys\n",
    "import numpy as np\n",
    "import pandas as pd"
   ]
  },
  {
   "cell_type": "code",
   "execution_count": 11,
   "metadata": {},
   "outputs": [],
   "source": [
    "m = gp.Container(load_from=\"folioqp.gdx\")\n",
    "\n",
    "# Sets\n",
    "s,risk,nam = m.getSymbols([\"shares\", \"risk\", \"nam\"])\n",
    "\n",
    "# Parameters\n",
    "maxval, maxr, minam, ret, var = m.getSymbols([\"maxval\", \"maxr\", \"minam\", \"ret\", \"var\"])\n",
    "\n",
    "minret = m.addParameter(\"minret\", records=10)\n",
    "\n",
    "t = m.addAlias(\"t\",s)\n",
    "\n",
    "x = m.addVariable(\"x\",\n",
    "    type=\"positive\",\n",
    "    domain=s,\n",
    "    description=\"investments\")\n",
    "\n",
    "budget = m.addEquation(name=\"budget\")\n",
    "budget[:] = Sum(s, x[s]) == 1.0\n",
    "\n",
    "## At most 30% of capital into a single share\n",
    "single_share = m.addEquation(name='single_share', domain=[s])\n",
    "single_share[s] =  x[s] <= maxval\n",
    "\n",
    "## At least 50% into north american shares\n",
    "na_shares = m.addEquation(name='na_shares')\n",
    "na_shares[:] = Sum(nam, x[nam]) >= (Sum(s, x[s]) / 2) \n",
    "\n",
    "## At most 33% into High Risk shares\n",
    "risk_shares = m.addEquation(name='risk_shares')\n",
    "risk_shares[:] = Sum(risk, x[risk]) <= (Sum(s, x[s]) / 3)\n",
    "\n",
    "## Achieve a expected return of 10\n",
    "retcon = m.addEquation(name=\"retcon\", description=\"returns constraint\")\n",
    "retcon[:] = Sum(s, x[s] * ret[s]) >= minret"
   ]
  },
  {
   "cell_type": "code",
   "execution_count": 12,
   "metadata": {},
   "outputs": [
    {
     "data": {
      "text/html": [
       "<div>\n",
       "<style scoped>\n",
       "    .dataframe tbody tr th:only-of-type {\n",
       "        vertical-align: middle;\n",
       "    }\n",
       "\n",
       "    .dataframe tbody tr th {\n",
       "        vertical-align: top;\n",
       "    }\n",
       "\n",
       "    .dataframe thead th {\n",
       "        text-align: right;\n",
       "    }\n",
       "</style>\n",
       "<table border=\"1\" class=\"dataframe\">\n",
       "  <thead>\n",
       "    <tr style=\"text-align: right;\">\n",
       "      <th></th>\n",
       "      <th>Solver Status</th>\n",
       "      <th>Model Status</th>\n",
       "      <th>Objective</th>\n",
       "      <th>Num of Equations</th>\n",
       "      <th>Num of Variables</th>\n",
       "      <th>Model Type</th>\n",
       "      <th>Solver</th>\n",
       "      <th>Solver Time</th>\n",
       "    </tr>\n",
       "  </thead>\n",
       "  <tbody>\n",
       "    <tr>\n",
       "      <th>0</th>\n",
       "      <td>Normal</td>\n",
       "      <td>OptimalLocal</td>\n",
       "      <td>0.670317169241543</td>\n",
       "      <td>15</td>\n",
       "      <td>11</td>\n",
       "      <td>QCP</td>\n",
       "      <td>IPOPTH</td>\n",
       "      <td>0.008</td>\n",
       "    </tr>\n",
       "  </tbody>\n",
       "</table>\n",
       "</div>"
      ],
      "text/plain": [
       "  Solver Status  Model Status          Objective Num of Equations  \\\n",
       "0        Normal  OptimalLocal  0.670317169241543               15   \n",
       "\n",
       "  Num of Variables Model Type  Solver Solver Time  \n",
       "0               11        QCP  IPOPTH       0.008  "
      ]
     },
     "execution_count": 12,
     "metadata": {},
     "output_type": "execute_result"
    }
   ],
   "source": [
    "# Input model and target = 10 here\n",
    "markowitz = m.addModel(\"markowitz\",\n",
    "    equations=m.getEquations(),\n",
    "    problem=gp.Problem.QCP,\n",
    "    sense=gp.Sense.MIN,\n",
    "    objective=Sum([s,t], x[s]*var[s,t]*x[t]))\n",
    "\n",
    "markowitz.solve()"
   ]
  },
  {
   "cell_type": "code",
   "execution_count": 13,
   "metadata": {},
   "outputs": [],
   "source": [
    "solret = []\n",
    "soldev = []\n",
    "\n",
    "expected_return = m.addParameter('expected_return')\n",
    "expected_risk = m.addParameter('expected_risk')\n",
    "\n",
    "ranges = iter(range(5, 32))\n",
    "for target_return in ranges:\n",
    "    minret.setRecords(target_return)\n",
    "    markowitz.solve(options=gp.Options(qcp=\"conopt\"),output=None)\n",
    "    if markowitz.status in [\n",
    "        gp.ModelStatus.OptimalGlobal,\n",
    "        gp.ModelStatus.OptimalLocal,\n",
    "    ]:\n",
    "\n",
    "        solret.append(target_return)\n",
    "        soldev.append(markowitz.objective_value)\n",
    "    else:\n",
    "        break\n",
    "\n",
    "# Calculate values on Pareto curve here"
   ]
  },
  {
   "cell_type": "code",
   "execution_count": 14,
   "metadata": {},
   "outputs": [
    {
     "data": {
      "image/png": "[encoded data removed]",
      "text/plain": [
       "<Figure size 800x600 with 1 Axes>"
      ]
     },
     "metadata": {},
     "output_type": "display_data"
    }
   ],
   "source": [
    "%matplotlib inline\n",
    "import matplotlib.pyplot as plt\n",
    "\n",
    "fig, ax = plt.subplots(figsize=(8,6))\n",
    "ax.set_title(\"Pareto tradeoff: return vs risk\")\n",
    "ax.set_xlabel(\"return\")\n",
    "ax.set_ylabel(\"risk\")\n",
    "ax.plot(solret,soldev,\"b.-\");"
   ]
  }
 ],
 "metadata": {
  "celltoolbar": "Slideshow",
  "kernelspec": {
   "display_name": "venv",
   "language": "python",
   "name": "python3"
  },
  "language_info": {
   "codemirror_mode": {
    "name": "ipython",
    "version": 3
   },
   "file_extension": ".py",
   "mimetype": "text/x-python",
   "name": "python",
   "nbconvert_exporter": "python",
   "pygments_lexer": "ipython3",
   "version": "3.10.12"
  }
 },
 "nbformat": 4,
 "nbformat_minor": 4
}
